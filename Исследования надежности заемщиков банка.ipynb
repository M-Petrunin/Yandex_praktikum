{
 "cells": [
  {
   "cell_type": "markdown",
   "id": "b9a77002",
   "metadata": {},
   "source": [
    "# Исследование надежности заемщиков."
   ]
  },
  {
   "cell_type": "markdown",
   "id": "428be27f",
   "metadata": {},
   "source": [
    "Описание проекта  \n",
    "\n",
    "Заказчик — кредитный отдел банка. \n",
    "\n",
    "Нужно разобраться, влияет ли семейное положение и количество детей клиента на факт погашения кредита в срок. Входные данные от банка — статистика о платёжеспособности клиентов.   \n",
    "\n",
    "Результаты исследования будут учтены при построении модели кредитного скоринга — специальной системы, которая оценивает способность потенциального заёмщика вернуть кредит банку.\n",
    "\n",
    "**Описание данных**\n",
    "\n",
    "- children — количество детей в семье\n",
    "- days_employed — общий трудовой стаж в днях\n",
    "- dob_years — возраст клиента в годах\n",
    "- education — уровень образования клиента\n",
    "- education_id — идентификатор уровня образования\n",
    "- family_status — семейное положение\n",
    "- family_status_id — идентификатор семейного положения\n",
    "- gender — пол клиента\n",
    "- income_type — тип занятости\n",
    "- debt — имел ли задолженность по возврату кредитов\n",
    "- total_income — ежемесячный доход\n",
    "- purpose — цель получения кредита"
   ]
  },
  {
   "cell_type": "markdown",
   "id": "489fe135",
   "metadata": {},
   "source": [
    "### Шаг 1. Обзор данных"
   ]
  },
  {
   "cell_type": "code",
   "execution_count": 1,
   "id": "2ebde5d1",
   "metadata": {},
   "outputs": [],
   "source": [
    "import pandas as pd"
   ]
  },
  {
   "cell_type": "code",
   "execution_count": 2,
   "id": "c05405ae",
   "metadata": {},
   "outputs": [
    {
     "data": {
      "text/html": [
       "<div>\n",
       "<style scoped>\n",
       "    .dataframe tbody tr th:only-of-type {\n",
       "        vertical-align: middle;\n",
       "    }\n",
       "\n",
       "    .dataframe tbody tr th {\n",
       "        vertical-align: top;\n",
       "    }\n",
       "\n",
       "    .dataframe thead th {\n",
       "        text-align: right;\n",
       "    }\n",
       "</style>\n",
       "<table border=\"1\" class=\"dataframe\">\n",
       "  <thead>\n",
       "    <tr style=\"text-align: right;\">\n",
       "      <th></th>\n",
       "      <th>children</th>\n",
       "      <th>days_employed</th>\n",
       "      <th>dob_years</th>\n",
       "      <th>education</th>\n",
       "      <th>education_id</th>\n",
       "      <th>family_status</th>\n",
       "      <th>family_status_id</th>\n",
       "      <th>gender</th>\n",
       "      <th>income_type</th>\n",
       "      <th>debt</th>\n",
       "      <th>total_income</th>\n",
       "      <th>purpose</th>\n",
       "    </tr>\n",
       "  </thead>\n",
       "  <tbody>\n",
       "    <tr>\n",
       "      <th>0</th>\n",
       "      <td>1</td>\n",
       "      <td>-8437.673028</td>\n",
       "      <td>42</td>\n",
       "      <td>высшее</td>\n",
       "      <td>0</td>\n",
       "      <td>женат / замужем</td>\n",
       "      <td>0</td>\n",
       "      <td>F</td>\n",
       "      <td>сотрудник</td>\n",
       "      <td>0</td>\n",
       "      <td>253875.639453</td>\n",
       "      <td>покупка жилья</td>\n",
       "    </tr>\n",
       "    <tr>\n",
       "      <th>1</th>\n",
       "      <td>1</td>\n",
       "      <td>-4024.803754</td>\n",
       "      <td>36</td>\n",
       "      <td>среднее</td>\n",
       "      <td>1</td>\n",
       "      <td>женат / замужем</td>\n",
       "      <td>0</td>\n",
       "      <td>F</td>\n",
       "      <td>сотрудник</td>\n",
       "      <td>0</td>\n",
       "      <td>112080.014102</td>\n",
       "      <td>приобретение автомобиля</td>\n",
       "    </tr>\n",
       "    <tr>\n",
       "      <th>2</th>\n",
       "      <td>0</td>\n",
       "      <td>-5623.422610</td>\n",
       "      <td>33</td>\n",
       "      <td>Среднее</td>\n",
       "      <td>1</td>\n",
       "      <td>женат / замужем</td>\n",
       "      <td>0</td>\n",
       "      <td>M</td>\n",
       "      <td>сотрудник</td>\n",
       "      <td>0</td>\n",
       "      <td>145885.952297</td>\n",
       "      <td>покупка жилья</td>\n",
       "    </tr>\n",
       "    <tr>\n",
       "      <th>3</th>\n",
       "      <td>3</td>\n",
       "      <td>-4124.747207</td>\n",
       "      <td>32</td>\n",
       "      <td>среднее</td>\n",
       "      <td>1</td>\n",
       "      <td>женат / замужем</td>\n",
       "      <td>0</td>\n",
       "      <td>M</td>\n",
       "      <td>сотрудник</td>\n",
       "      <td>0</td>\n",
       "      <td>267628.550329</td>\n",
       "      <td>дополнительное образование</td>\n",
       "    </tr>\n",
       "    <tr>\n",
       "      <th>4</th>\n",
       "      <td>0</td>\n",
       "      <td>340266.072047</td>\n",
       "      <td>53</td>\n",
       "      <td>среднее</td>\n",
       "      <td>1</td>\n",
       "      <td>гражданский брак</td>\n",
       "      <td>1</td>\n",
       "      <td>F</td>\n",
       "      <td>пенсионер</td>\n",
       "      <td>0</td>\n",
       "      <td>158616.077870</td>\n",
       "      <td>сыграть свадьбу</td>\n",
       "    </tr>\n",
       "    <tr>\n",
       "      <th>5</th>\n",
       "      <td>0</td>\n",
       "      <td>-926.185831</td>\n",
       "      <td>27</td>\n",
       "      <td>высшее</td>\n",
       "      <td>0</td>\n",
       "      <td>гражданский брак</td>\n",
       "      <td>1</td>\n",
       "      <td>M</td>\n",
       "      <td>компаньон</td>\n",
       "      <td>0</td>\n",
       "      <td>255763.565419</td>\n",
       "      <td>покупка жилья</td>\n",
       "    </tr>\n",
       "    <tr>\n",
       "      <th>6</th>\n",
       "      <td>0</td>\n",
       "      <td>-2879.202052</td>\n",
       "      <td>43</td>\n",
       "      <td>высшее</td>\n",
       "      <td>0</td>\n",
       "      <td>женат / замужем</td>\n",
       "      <td>0</td>\n",
       "      <td>F</td>\n",
       "      <td>компаньон</td>\n",
       "      <td>0</td>\n",
       "      <td>240525.971920</td>\n",
       "      <td>операции с жильем</td>\n",
       "    </tr>\n",
       "    <tr>\n",
       "      <th>7</th>\n",
       "      <td>0</td>\n",
       "      <td>-152.779569</td>\n",
       "      <td>50</td>\n",
       "      <td>СРЕДНЕЕ</td>\n",
       "      <td>1</td>\n",
       "      <td>женат / замужем</td>\n",
       "      <td>0</td>\n",
       "      <td>M</td>\n",
       "      <td>сотрудник</td>\n",
       "      <td>0</td>\n",
       "      <td>135823.934197</td>\n",
       "      <td>образование</td>\n",
       "    </tr>\n",
       "    <tr>\n",
       "      <th>8</th>\n",
       "      <td>2</td>\n",
       "      <td>-6929.865299</td>\n",
       "      <td>35</td>\n",
       "      <td>ВЫСШЕЕ</td>\n",
       "      <td>0</td>\n",
       "      <td>гражданский брак</td>\n",
       "      <td>1</td>\n",
       "      <td>F</td>\n",
       "      <td>сотрудник</td>\n",
       "      <td>0</td>\n",
       "      <td>95856.832424</td>\n",
       "      <td>на проведение свадьбы</td>\n",
       "    </tr>\n",
       "    <tr>\n",
       "      <th>9</th>\n",
       "      <td>0</td>\n",
       "      <td>-2188.756445</td>\n",
       "      <td>41</td>\n",
       "      <td>среднее</td>\n",
       "      <td>1</td>\n",
       "      <td>женат / замужем</td>\n",
       "      <td>0</td>\n",
       "      <td>M</td>\n",
       "      <td>сотрудник</td>\n",
       "      <td>0</td>\n",
       "      <td>144425.938277</td>\n",
       "      <td>покупка жилья для семьи</td>\n",
       "    </tr>\n",
       "  </tbody>\n",
       "</table>\n",
       "</div>"
      ],
      "text/plain": [
       "   children  days_employed  dob_years education  education_id  \\\n",
       "0         1   -8437.673028         42    высшее             0   \n",
       "1         1   -4024.803754         36   среднее             1   \n",
       "2         0   -5623.422610         33   Среднее             1   \n",
       "3         3   -4124.747207         32   среднее             1   \n",
       "4         0  340266.072047         53   среднее             1   \n",
       "5         0    -926.185831         27    высшее             0   \n",
       "6         0   -2879.202052         43    высшее             0   \n",
       "7         0    -152.779569         50   СРЕДНЕЕ             1   \n",
       "8         2   -6929.865299         35    ВЫСШЕЕ             0   \n",
       "9         0   -2188.756445         41   среднее             1   \n",
       "\n",
       "      family_status  family_status_id gender income_type  debt   total_income  \\\n",
       "0   женат / замужем                 0      F   сотрудник     0  253875.639453   \n",
       "1   женат / замужем                 0      F   сотрудник     0  112080.014102   \n",
       "2   женат / замужем                 0      M   сотрудник     0  145885.952297   \n",
       "3   женат / замужем                 0      M   сотрудник     0  267628.550329   \n",
       "4  гражданский брак                 1      F   пенсионер     0  158616.077870   \n",
       "5  гражданский брак                 1      M   компаньон     0  255763.565419   \n",
       "6   женат / замужем                 0      F   компаньон     0  240525.971920   \n",
       "7   женат / замужем                 0      M   сотрудник     0  135823.934197   \n",
       "8  гражданский брак                 1      F   сотрудник     0   95856.832424   \n",
       "9   женат / замужем                 0      M   сотрудник     0  144425.938277   \n",
       "\n",
       "                      purpose  \n",
       "0               покупка жилья  \n",
       "1     приобретение автомобиля  \n",
       "2               покупка жилья  \n",
       "3  дополнительное образование  \n",
       "4             сыграть свадьбу  \n",
       "5               покупка жилья  \n",
       "6           операции с жильем  \n",
       "7                 образование  \n",
       "8       на проведение свадьбы  \n",
       "9     покупка жилья для семьи  "
      ]
     },
     "execution_count": 2,
     "metadata": {},
     "output_type": "execute_result"
    }
   ],
   "source": [
    "# загрузим таблицу и посмотрим на первые 10 строк таблицы\n",
    "\n",
    "borrower_reliability = pd.read_csv('data.csv')\n",
    "borrower_reliability.head(10)\n",
    "\n",
    "\n"
   ]
  },
  {
   "cell_type": "markdown",
   "id": "0867e577",
   "metadata": {},
   "source": [
    "В глаза сразу бросаются отрицательные значения в столбце -***days_employed***, разная высота шрифта - ***education***,\n",
    "большое количество цифр - ***total_income***\n"
   ]
  },
  {
   "cell_type": "markdown",
   "id": "9f713046",
   "metadata": {},
   "source": [
    "### Шаг 2.1 Заполнение пропусков\n"
   ]
  },
  {
   "cell_type": "code",
   "execution_count": 3,
   "id": "d1b9a0a4",
   "metadata": {
    "scrolled": true
   },
   "outputs": [
    {
     "data": {
      "text/plain": [
       "children               0\n",
       "days_employed       2174\n",
       "dob_years              0\n",
       "education              0\n",
       "education_id           0\n",
       "family_status          0\n",
       "family_status_id       0\n",
       "gender                 0\n",
       "income_type            0\n",
       "debt                   0\n",
       "total_income        2174\n",
       "purpose                0\n",
       "dtype: int64"
      ]
     },
     "execution_count": 3,
     "metadata": {},
     "output_type": "execute_result"
    }
   ],
   "source": [
    "# проверим кол-во пропусков\n",
    "\n",
    "borrower_reliability.isna().sum()"
   ]
  },
  {
   "cell_type": "markdown",
   "id": "47c032e9",
   "metadata": {},
   "source": [
    "**days_employed** и **total_income** 2174/21525= 10% не заполнены"
   ]
  },
  {
   "cell_type": "markdown",
   "id": "49643804",
   "metadata": {},
   "source": [
    "Проверим сколько значений в столбце **'days_employed'** >0 и сколько <0:"
   ]
  },
  {
   "cell_type": "code",
   "execution_count": 4,
   "id": "426ddd02",
   "metadata": {},
   "outputs": [
    {
     "name": "stdout",
     "output_type": "stream",
     "text": [
      "Количество строк с 'days_employed' > 0: 3445\n",
      "Количество строк с 'days_employed' < 0: 15906\n"
     ]
    }
   ],
   "source": [
    "print(\"Количество строк с 'days_employed' > 0:\", borrower_reliability[borrower_reliability['days_employed'] > 0].shape[0])\n",
    "print(\"Количество строк с 'days_employed' < 0:\", borrower_reliability[borrower_reliability['days_employed'] < 0].shape[0])"
   ]
  },
  {
   "cell_type": "markdown",
   "id": "0f1de2d0",
   "metadata": {},
   "source": [
    "Найдем медиану всех значенией **\"total_income\"**, сгруппированных по типу **\"income_type\"** и найдя медианные значения **\"total_income\"** заполним пустые значения для каждого типа."
   ]
  },
  {
   "cell_type": "code",
   "execution_count": 5,
   "id": "33da522b",
   "metadata": {},
   "outputs": [
    {
     "name": "stdout",
     "output_type": "stream",
     "text": [
      "income_type\n",
      "безработный        131339.751676\n",
      "в декрете           53829.130729\n",
      "госслужащий        150447.935283\n",
      "компаньон          172357.950966\n",
      "пенсионер          118514.486412\n",
      "предприниматель    499163.144947\n",
      "сотрудник          142594.396847\n",
      "студент             98201.625314\n",
      "Name: total_income, dtype: float64\n"
     ]
    }
   ],
   "source": [
    "med_total_income = borrower_reliability.groupby('income_type')['total_income'].median()\n",
    "\n",
    "\n",
    "print(med_total_income)\n",
    "\n"
   ]
  },
  {
   "cell_type": "markdown",
   "id": "b9d43cfb",
   "metadata": {},
   "source": [
    "Проверим количество пропусков по каждому типу **'income_type'**:"
   ]
  },
  {
   "cell_type": "code",
   "execution_count": 6,
   "id": "103e8e2d",
   "metadata": {},
   "outputs": [
    {
     "name": "stdout",
     "output_type": "stream",
     "text": [
      "Кол-во пропусков в безработный: 0\n",
      "Кол-во пропусков в в декрете: 0\n",
      "Кол-во пропусков в госслужащий: 147\n",
      "Кол-во пропусков в компаньон: 508\n",
      "Кол-во пропусков в пенсионер: 413\n",
      "Кол-во пропусков в предприниматель: 1\n",
      "Кол-во пропусков в сотрудник: 1105\n",
      "Кол-во пропусков в студент: 0\n"
     ]
    }
   ],
   "source": [
    "print('Кол-во пропусков в безработный:', borrower_reliability.query('income_type==\"безработный\" ')['total_income'].isna().sum())\n",
    "print('Кол-во пропусков в в декрете:', borrower_reliability.query('income_type==\"в декрете\" ')['total_income'].isna().sum())\n",
    "print('Кол-во пропусков в госслужащий:', borrower_reliability.query('income_type==\"госслужащий\" ')['total_income'].isna().sum())\n",
    "print('Кол-во пропусков в компаньон:', borrower_reliability.query('income_type==\"компаньон\" ')['total_income'].isna().sum())\n",
    "print('Кол-во пропусков в пенсионер:', borrower_reliability.query('income_type==\"пенсионер\" ')['total_income'].isna().sum())\n",
    "print('Кол-во пропусков в предприниматель:', borrower_reliability.query('income_type==\"предприниматель\" ')['total_income'].isna().sum())\n",
    "print('Кол-во пропусков в сотрудник:', borrower_reliability.query('income_type==\"сотрудник\" ')['total_income'].isna().sum())\n",
    "print('Кол-во пропусков в студент:', borrower_reliability.query('income_type==\"студент\" ')['total_income'].isna().sum())"
   ]
  },
  {
   "cell_type": "markdown",
   "id": "087054d9",
   "metadata": {},
   "source": [
    "Заменим пустые значения в **госслужащий-компаньон-пенсионер-предприниматель-сотрудник** соответствующими значениями из **med_total_income**:"
   ]
  },
  {
   "cell_type": "code",
   "execution_count": 7,
   "id": "79163690",
   "metadata": {},
   "outputs": [
    {
     "name": "stdout",
     "output_type": "stream",
     "text": [
      "Кол-во пропусков в госслужащий: 0\n",
      "Кол-во пропусков в компаньон: 0\n",
      "Кол-во пропусков в пенсионер: 0\n",
      "Кол-во пропусков в предприниматель: 0\n",
      "Кол-во пропусков в сотрудник: 0\n"
     ]
    }
   ],
   "source": [
    "borrower_reliability.loc[(borrower_reliability['total_income'].isnull())\\\n",
    "                          & (borrower_reliability['income_type'] == \"госслужащий\"),\\\n",
    "                          'total_income'] = med_total_income['госслужащий']\n",
    "print('Кол-во пропусков в госслужащий:', borrower_reliability.query('income_type==\"госслужащий\" ')['total_income'].isna().sum())\n",
    "\n",
    "borrower_reliability.loc[(borrower_reliability['total_income'].isnull())\\\n",
    "                          & (borrower_reliability['income_type'] == \"компаньон\"),\\\n",
    "                          'total_income'] = med_total_income['компаньон']\n",
    "print('Кол-во пропусков в компаньон:', borrower_reliability.query('income_type==\"компаньон\" ')['total_income'].isna().sum())\n",
    "\n",
    "borrower_reliability.loc[(borrower_reliability['total_income'].isnull())\\\n",
    "                          & (borrower_reliability['income_type'] == \"пенсионер\"),\\\n",
    "                          'total_income'] = med_total_income['пенсионер']\n",
    "print('Кол-во пропусков в пенсионер:', borrower_reliability.query('income_type==\"пенсионер\" ')['total_income'].isna().sum())\n",
    "\n",
    "borrower_reliability.loc[(borrower_reliability['total_income'].isnull())\\\n",
    "                          & (borrower_reliability['income_type'] == \"предприниматель\"),\\\n",
    "                          'total_income'] = med_total_income['предприниматель']\n",
    "print('Кол-во пропусков в предприниматель:', borrower_reliability.query('income_type==\"предприниматель\" ')['total_income'].isna().sum())\n",
    "\n",
    "borrower_reliability.loc[(borrower_reliability['total_income'].isnull())\\\n",
    "                          & (borrower_reliability['income_type'] == \"сотрудник\"),\\\n",
    "                          'total_income'] = med_total_income['сотрудник']\n",
    "print('Кол-во пропусков в сотрудник:', borrower_reliability.query('income_type==\"сотрудник\" ')['total_income'].isna().sum())\n"
   ]
  },
  {
   "cell_type": "code",
   "execution_count": 8,
   "id": "3532d6ca",
   "metadata": {},
   "outputs": [
    {
     "data": {
      "text/plain": [
       "0"
      ]
     },
     "execution_count": 8,
     "metadata": {},
     "output_type": "execute_result"
    }
   ],
   "source": [
    "borrower_reliability['total_income'].isna().sum()"
   ]
  },
  {
   "cell_type": "code",
   "execution_count": 9,
   "id": "0788a792",
   "metadata": {},
   "outputs": [
    {
     "data": {
      "text/plain": [
       "children               0\n",
       "days_employed       2174\n",
       "dob_years              0\n",
       "education              0\n",
       "education_id           0\n",
       "family_status          0\n",
       "family_status_id       0\n",
       "gender                 0\n",
       "income_type            0\n",
       "debt                   0\n",
       "total_income           0\n",
       "purpose                0\n",
       "dtype: int64"
      ]
     },
     "execution_count": 9,
     "metadata": {},
     "output_type": "execute_result"
    }
   ],
   "source": [
    "borrower_reliability.isna().sum()\n"
   ]
  },
  {
   "cell_type": "markdown",
   "id": "87f8f01c",
   "metadata": {},
   "source": [
    "### Шаг 2.2 Проверка данных на аномалии и исправления."
   ]
  },
  {
   "cell_type": "markdown",
   "id": "223ed87e",
   "metadata": {},
   "source": [
    "Столбец **'children'**: \n"
   ]
  },
  {
   "cell_type": "code",
   "execution_count": 10,
   "id": "d1a0719b",
   "metadata": {},
   "outputs": [
    {
     "data": {
      "text/plain": [
       " 0     14149\n",
       " 1      4818\n",
       " 2      2055\n",
       " 3       330\n",
       " 20       76\n",
       "-1        47\n",
       " 4        41\n",
       " 5         9\n",
       "Name: children, dtype: int64"
      ]
     },
     "execution_count": 10,
     "metadata": {},
     "output_type": "execute_result"
    }
   ],
   "source": [
    "borrower_reliability['children'].value_counts() #количество уникальных совпадений в 'children' \n"
   ]
  },
  {
   "cell_type": "markdown",
   "id": "7959d958",
   "metadata": {},
   "source": [
    "**Аномалии в 'children':**  \n",
    "- 76 значений '20'    \n",
    "- 47 значений '-1'    "
   ]
  },
  {
   "cell_type": "code",
   "execution_count": 11,
   "id": "38b3cd1c",
   "metadata": {
    "scrolled": true
   },
   "outputs": [
    {
     "data": {
      "text/html": [
       "<div>\n",
       "<style scoped>\n",
       "    .dataframe tbody tr th:only-of-type {\n",
       "        vertical-align: middle;\n",
       "    }\n",
       "\n",
       "    .dataframe tbody tr th {\n",
       "        vertical-align: top;\n",
       "    }\n",
       "\n",
       "    .dataframe thead th {\n",
       "        text-align: right;\n",
       "    }\n",
       "</style>\n",
       "<table border=\"1\" class=\"dataframe\">\n",
       "  <thead>\n",
       "    <tr style=\"text-align: right;\">\n",
       "      <th></th>\n",
       "      <th>children</th>\n",
       "      <th>days_employed</th>\n",
       "      <th>dob_years</th>\n",
       "      <th>education</th>\n",
       "      <th>education_id</th>\n",
       "      <th>family_status</th>\n",
       "      <th>family_status_id</th>\n",
       "      <th>gender</th>\n",
       "      <th>income_type</th>\n",
       "      <th>debt</th>\n",
       "      <th>total_income</th>\n",
       "      <th>purpose</th>\n",
       "    </tr>\n",
       "  </thead>\n",
       "  <tbody>\n",
       "    <tr>\n",
       "      <th>291</th>\n",
       "      <td>-1</td>\n",
       "      <td>-4417.703588</td>\n",
       "      <td>46</td>\n",
       "      <td>среднее</td>\n",
       "      <td>1</td>\n",
       "      <td>гражданский брак</td>\n",
       "      <td>1</td>\n",
       "      <td>F</td>\n",
       "      <td>сотрудник</td>\n",
       "      <td>0</td>\n",
       "      <td>102816.346412</td>\n",
       "      <td>профильное образование</td>\n",
       "    </tr>\n",
       "    <tr>\n",
       "      <th>705</th>\n",
       "      <td>-1</td>\n",
       "      <td>-902.084528</td>\n",
       "      <td>50</td>\n",
       "      <td>среднее</td>\n",
       "      <td>1</td>\n",
       "      <td>женат / замужем</td>\n",
       "      <td>0</td>\n",
       "      <td>F</td>\n",
       "      <td>госслужащий</td>\n",
       "      <td>0</td>\n",
       "      <td>137882.899271</td>\n",
       "      <td>приобретение автомобиля</td>\n",
       "    </tr>\n",
       "    <tr>\n",
       "      <th>742</th>\n",
       "      <td>-1</td>\n",
       "      <td>-3174.456205</td>\n",
       "      <td>57</td>\n",
       "      <td>среднее</td>\n",
       "      <td>1</td>\n",
       "      <td>женат / замужем</td>\n",
       "      <td>0</td>\n",
       "      <td>F</td>\n",
       "      <td>сотрудник</td>\n",
       "      <td>0</td>\n",
       "      <td>64268.044444</td>\n",
       "      <td>дополнительное образование</td>\n",
       "    </tr>\n",
       "    <tr>\n",
       "      <th>800</th>\n",
       "      <td>-1</td>\n",
       "      <td>349987.852217</td>\n",
       "      <td>54</td>\n",
       "      <td>среднее</td>\n",
       "      <td>1</td>\n",
       "      <td>Не женат / не замужем</td>\n",
       "      <td>4</td>\n",
       "      <td>F</td>\n",
       "      <td>пенсионер</td>\n",
       "      <td>0</td>\n",
       "      <td>86293.724153</td>\n",
       "      <td>дополнительное образование</td>\n",
       "    </tr>\n",
       "    <tr>\n",
       "      <th>941</th>\n",
       "      <td>-1</td>\n",
       "      <td>NaN</td>\n",
       "      <td>57</td>\n",
       "      <td>Среднее</td>\n",
       "      <td>1</td>\n",
       "      <td>женат / замужем</td>\n",
       "      <td>0</td>\n",
       "      <td>F</td>\n",
       "      <td>пенсионер</td>\n",
       "      <td>0</td>\n",
       "      <td>118514.486412</td>\n",
       "      <td>на покупку своего автомобиля</td>\n",
       "    </tr>\n",
       "    <tr>\n",
       "      <th>1363</th>\n",
       "      <td>-1</td>\n",
       "      <td>-1195.264956</td>\n",
       "      <td>55</td>\n",
       "      <td>СРЕДНЕЕ</td>\n",
       "      <td>1</td>\n",
       "      <td>женат / замужем</td>\n",
       "      <td>0</td>\n",
       "      <td>F</td>\n",
       "      <td>компаньон</td>\n",
       "      <td>0</td>\n",
       "      <td>69550.699692</td>\n",
       "      <td>профильное образование</td>\n",
       "    </tr>\n",
       "    <tr>\n",
       "      <th>1929</th>\n",
       "      <td>-1</td>\n",
       "      <td>-1461.303336</td>\n",
       "      <td>38</td>\n",
       "      <td>среднее</td>\n",
       "      <td>1</td>\n",
       "      <td>Не женат / не замужем</td>\n",
       "      <td>4</td>\n",
       "      <td>M</td>\n",
       "      <td>сотрудник</td>\n",
       "      <td>0</td>\n",
       "      <td>109121.569013</td>\n",
       "      <td>покупка жилья</td>\n",
       "    </tr>\n",
       "    <tr>\n",
       "      <th>2073</th>\n",
       "      <td>-1</td>\n",
       "      <td>-2539.761232</td>\n",
       "      <td>42</td>\n",
       "      <td>среднее</td>\n",
       "      <td>1</td>\n",
       "      <td>в разводе</td>\n",
       "      <td>3</td>\n",
       "      <td>F</td>\n",
       "      <td>компаньон</td>\n",
       "      <td>0</td>\n",
       "      <td>162638.609373</td>\n",
       "      <td>покупка жилья</td>\n",
       "    </tr>\n",
       "    <tr>\n",
       "      <th>3814</th>\n",
       "      <td>-1</td>\n",
       "      <td>-3045.290443</td>\n",
       "      <td>26</td>\n",
       "      <td>Среднее</td>\n",
       "      <td>1</td>\n",
       "      <td>гражданский брак</td>\n",
       "      <td>1</td>\n",
       "      <td>F</td>\n",
       "      <td>госслужащий</td>\n",
       "      <td>0</td>\n",
       "      <td>131892.785435</td>\n",
       "      <td>на проведение свадьбы</td>\n",
       "    </tr>\n",
       "    <tr>\n",
       "      <th>4201</th>\n",
       "      <td>-1</td>\n",
       "      <td>-901.101738</td>\n",
       "      <td>41</td>\n",
       "      <td>среднее</td>\n",
       "      <td>1</td>\n",
       "      <td>женат / замужем</td>\n",
       "      <td>0</td>\n",
       "      <td>F</td>\n",
       "      <td>госслужащий</td>\n",
       "      <td>0</td>\n",
       "      <td>226375.766751</td>\n",
       "      <td>операции со своей недвижимостью</td>\n",
       "    </tr>\n",
       "  </tbody>\n",
       "</table>\n",
       "</div>"
      ],
      "text/plain": [
       "      children  days_employed  dob_years education  education_id  \\\n",
       "291         -1   -4417.703588         46   среднее             1   \n",
       "705         -1    -902.084528         50   среднее             1   \n",
       "742         -1   -3174.456205         57   среднее             1   \n",
       "800         -1  349987.852217         54   среднее             1   \n",
       "941         -1            NaN         57   Среднее             1   \n",
       "1363        -1   -1195.264956         55   СРЕДНЕЕ             1   \n",
       "1929        -1   -1461.303336         38   среднее             1   \n",
       "2073        -1   -2539.761232         42   среднее             1   \n",
       "3814        -1   -3045.290443         26   Среднее             1   \n",
       "4201        -1    -901.101738         41   среднее             1   \n",
       "\n",
       "              family_status  family_status_id gender  income_type  debt  \\\n",
       "291        гражданский брак                 1      F    сотрудник     0   \n",
       "705         женат / замужем                 0      F  госслужащий     0   \n",
       "742         женат / замужем                 0      F    сотрудник     0   \n",
       "800   Не женат / не замужем                 4      F    пенсионер     0   \n",
       "941         женат / замужем                 0      F    пенсионер     0   \n",
       "1363        женат / замужем                 0      F    компаньон     0   \n",
       "1929  Не женат / не замужем                 4      M    сотрудник     0   \n",
       "2073              в разводе                 3      F    компаньон     0   \n",
       "3814       гражданский брак                 1      F  госслужащий     0   \n",
       "4201        женат / замужем                 0      F  госслужащий     0   \n",
       "\n",
       "       total_income                          purpose  \n",
       "291   102816.346412           профильное образование  \n",
       "705   137882.899271          приобретение автомобиля  \n",
       "742    64268.044444       дополнительное образование  \n",
       "800    86293.724153       дополнительное образование  \n",
       "941   118514.486412     на покупку своего автомобиля  \n",
       "1363   69550.699692           профильное образование  \n",
       "1929  109121.569013                    покупка жилья  \n",
       "2073  162638.609373                    покупка жилья  \n",
       "3814  131892.785435            на проведение свадьбы  \n",
       "4201  226375.766751  операции со своей недвижимостью  "
      ]
     },
     "execution_count": 11,
     "metadata": {},
     "output_type": "execute_result"
    }
   ],
   "source": [
    "# посмотрим на строки где кол-во детей \"-1\"\n",
    "\n",
    "borrower_reliability[borrower_reliability['children']==-1].head(10)\n"
   ]
  },
  {
   "cell_type": "code",
   "execution_count": 12,
   "id": "b7277dbb",
   "metadata": {},
   "outputs": [
    {
     "data": {
      "text/html": [
       "<div>\n",
       "<style scoped>\n",
       "    .dataframe tbody tr th:only-of-type {\n",
       "        vertical-align: middle;\n",
       "    }\n",
       "\n",
       "    .dataframe tbody tr th {\n",
       "        vertical-align: top;\n",
       "    }\n",
       "\n",
       "    .dataframe thead th {\n",
       "        text-align: right;\n",
       "    }\n",
       "</style>\n",
       "<table border=\"1\" class=\"dataframe\">\n",
       "  <thead>\n",
       "    <tr style=\"text-align: right;\">\n",
       "      <th></th>\n",
       "      <th>children</th>\n",
       "      <th>days_employed</th>\n",
       "      <th>dob_years</th>\n",
       "      <th>education</th>\n",
       "      <th>education_id</th>\n",
       "      <th>family_status</th>\n",
       "      <th>family_status_id</th>\n",
       "      <th>gender</th>\n",
       "      <th>income_type</th>\n",
       "      <th>debt</th>\n",
       "      <th>total_income</th>\n",
       "      <th>purpose</th>\n",
       "    </tr>\n",
       "  </thead>\n",
       "  <tbody>\n",
       "    <tr>\n",
       "      <th>606</th>\n",
       "      <td>20</td>\n",
       "      <td>-880.221113</td>\n",
       "      <td>21</td>\n",
       "      <td>среднее</td>\n",
       "      <td>1</td>\n",
       "      <td>женат / замужем</td>\n",
       "      <td>0</td>\n",
       "      <td>M</td>\n",
       "      <td>компаньон</td>\n",
       "      <td>0</td>\n",
       "      <td>145334.865002</td>\n",
       "      <td>покупка жилья</td>\n",
       "    </tr>\n",
       "    <tr>\n",
       "      <th>720</th>\n",
       "      <td>20</td>\n",
       "      <td>-855.595512</td>\n",
       "      <td>44</td>\n",
       "      <td>среднее</td>\n",
       "      <td>1</td>\n",
       "      <td>женат / замужем</td>\n",
       "      <td>0</td>\n",
       "      <td>F</td>\n",
       "      <td>компаньон</td>\n",
       "      <td>0</td>\n",
       "      <td>112998.738649</td>\n",
       "      <td>покупка недвижимости</td>\n",
       "    </tr>\n",
       "    <tr>\n",
       "      <th>1074</th>\n",
       "      <td>20</td>\n",
       "      <td>-3310.411598</td>\n",
       "      <td>56</td>\n",
       "      <td>среднее</td>\n",
       "      <td>1</td>\n",
       "      <td>женат / замужем</td>\n",
       "      <td>0</td>\n",
       "      <td>F</td>\n",
       "      <td>сотрудник</td>\n",
       "      <td>1</td>\n",
       "      <td>229518.537004</td>\n",
       "      <td>получение образования</td>\n",
       "    </tr>\n",
       "    <tr>\n",
       "      <th>2510</th>\n",
       "      <td>20</td>\n",
       "      <td>-2714.161249</td>\n",
       "      <td>59</td>\n",
       "      <td>высшее</td>\n",
       "      <td>0</td>\n",
       "      <td>вдовец / вдова</td>\n",
       "      <td>2</td>\n",
       "      <td>F</td>\n",
       "      <td>сотрудник</td>\n",
       "      <td>0</td>\n",
       "      <td>264474.835577</td>\n",
       "      <td>операции с коммерческой недвижимостью</td>\n",
       "    </tr>\n",
       "    <tr>\n",
       "      <th>2941</th>\n",
       "      <td>20</td>\n",
       "      <td>-2161.591519</td>\n",
       "      <td>0</td>\n",
       "      <td>среднее</td>\n",
       "      <td>1</td>\n",
       "      <td>женат / замужем</td>\n",
       "      <td>0</td>\n",
       "      <td>F</td>\n",
       "      <td>сотрудник</td>\n",
       "      <td>0</td>\n",
       "      <td>199739.941398</td>\n",
       "      <td>на покупку автомобиля</td>\n",
       "    </tr>\n",
       "    <tr>\n",
       "      <th>3302</th>\n",
       "      <td>20</td>\n",
       "      <td>NaN</td>\n",
       "      <td>35</td>\n",
       "      <td>среднее</td>\n",
       "      <td>1</td>\n",
       "      <td>Не женат / не замужем</td>\n",
       "      <td>4</td>\n",
       "      <td>F</td>\n",
       "      <td>госслужащий</td>\n",
       "      <td>0</td>\n",
       "      <td>150447.935283</td>\n",
       "      <td>профильное образование</td>\n",
       "    </tr>\n",
       "    <tr>\n",
       "      <th>3396</th>\n",
       "      <td>20</td>\n",
       "      <td>NaN</td>\n",
       "      <td>56</td>\n",
       "      <td>высшее</td>\n",
       "      <td>0</td>\n",
       "      <td>женат / замужем</td>\n",
       "      <td>0</td>\n",
       "      <td>F</td>\n",
       "      <td>компаньон</td>\n",
       "      <td>0</td>\n",
       "      <td>172357.950966</td>\n",
       "      <td>высшее образование</td>\n",
       "    </tr>\n",
       "    <tr>\n",
       "      <th>3671</th>\n",
       "      <td>20</td>\n",
       "      <td>-913.161503</td>\n",
       "      <td>23</td>\n",
       "      <td>среднее</td>\n",
       "      <td>1</td>\n",
       "      <td>Не женат / не замужем</td>\n",
       "      <td>4</td>\n",
       "      <td>F</td>\n",
       "      <td>сотрудник</td>\n",
       "      <td>0</td>\n",
       "      <td>101255.492076</td>\n",
       "      <td>на покупку подержанного автомобиля</td>\n",
       "    </tr>\n",
       "    <tr>\n",
       "      <th>3697</th>\n",
       "      <td>20</td>\n",
       "      <td>-2907.910616</td>\n",
       "      <td>40</td>\n",
       "      <td>среднее</td>\n",
       "      <td>1</td>\n",
       "      <td>гражданский брак</td>\n",
       "      <td>1</td>\n",
       "      <td>M</td>\n",
       "      <td>сотрудник</td>\n",
       "      <td>0</td>\n",
       "      <td>115380.694664</td>\n",
       "      <td>на покупку подержанного автомобиля</td>\n",
       "    </tr>\n",
       "    <tr>\n",
       "      <th>3735</th>\n",
       "      <td>20</td>\n",
       "      <td>-805.044438</td>\n",
       "      <td>26</td>\n",
       "      <td>высшее</td>\n",
       "      <td>0</td>\n",
       "      <td>Не женат / не замужем</td>\n",
       "      <td>4</td>\n",
       "      <td>M</td>\n",
       "      <td>сотрудник</td>\n",
       "      <td>0</td>\n",
       "      <td>137200.646181</td>\n",
       "      <td>ремонт жилью</td>\n",
       "    </tr>\n",
       "  </tbody>\n",
       "</table>\n",
       "</div>"
      ],
      "text/plain": [
       "      children  days_employed  dob_years education  education_id  \\\n",
       "606         20    -880.221113         21   среднее             1   \n",
       "720         20    -855.595512         44   среднее             1   \n",
       "1074        20   -3310.411598         56   среднее             1   \n",
       "2510        20   -2714.161249         59    высшее             0   \n",
       "2941        20   -2161.591519          0   среднее             1   \n",
       "3302        20            NaN         35   среднее             1   \n",
       "3396        20            NaN         56    высшее             0   \n",
       "3671        20    -913.161503         23   среднее             1   \n",
       "3697        20   -2907.910616         40   среднее             1   \n",
       "3735        20    -805.044438         26    высшее             0   \n",
       "\n",
       "              family_status  family_status_id gender  income_type  debt  \\\n",
       "606         женат / замужем                 0      M    компаньон     0   \n",
       "720         женат / замужем                 0      F    компаньон     0   \n",
       "1074        женат / замужем                 0      F    сотрудник     1   \n",
       "2510         вдовец / вдова                 2      F    сотрудник     0   \n",
       "2941        женат / замужем                 0      F    сотрудник     0   \n",
       "3302  Не женат / не замужем                 4      F  госслужащий     0   \n",
       "3396        женат / замужем                 0      F    компаньон     0   \n",
       "3671  Не женат / не замужем                 4      F    сотрудник     0   \n",
       "3697       гражданский брак                 1      M    сотрудник     0   \n",
       "3735  Не женат / не замужем                 4      M    сотрудник     0   \n",
       "\n",
       "       total_income                                purpose  \n",
       "606   145334.865002                          покупка жилья  \n",
       "720   112998.738649                   покупка недвижимости  \n",
       "1074  229518.537004                  получение образования  \n",
       "2510  264474.835577  операции с коммерческой недвижимостью  \n",
       "2941  199739.941398                  на покупку автомобиля  \n",
       "3302  150447.935283                 профильное образование  \n",
       "3396  172357.950966                     высшее образование  \n",
       "3671  101255.492076     на покупку подержанного автомобиля  \n",
       "3697  115380.694664     на покупку подержанного автомобиля  \n",
       "3735  137200.646181                           ремонт жилью  "
      ]
     },
     "execution_count": 12,
     "metadata": {},
     "output_type": "execute_result"
    }
   ],
   "source": [
    "# посмотрим на строки где кол-во детей \"20\"\n",
    "\n",
    "borrower_reliability[borrower_reliability['children']==20].head(10)"
   ]
  },
  {
   "cell_type": "markdown",
   "id": "3104bd4b",
   "metadata": {},
   "source": [
    "Закономерности не прослеживаются в **'children'**  \n",
    "Так как количество не существенно        \n",
    "Будем считать -1 == 1 и 20 == 2, что произошла опечатка данных   "
   ]
  },
  {
   "cell_type": "code",
   "execution_count": 13,
   "id": "cd554a7c",
   "metadata": {},
   "outputs": [
    {
     "data": {
      "text/plain": [
       "0    14149\n",
       "1     4865\n",
       "2     2131\n",
       "3      330\n",
       "4       41\n",
       "5        9\n",
       "Name: children, dtype: int64"
      ]
     },
     "execution_count": 13,
     "metadata": {},
     "output_type": "execute_result"
    }
   ],
   "source": [
    "borrower_reliability.loc[borrower_reliability['children'] == 20, 'children'] = 2\n",
    "borrower_reliability.loc[borrower_reliability['children'] == -1, 'children'] = 1\n",
    "borrower_reliability['children'].value_counts()\n"
   ]
  },
  {
   "cell_type": "markdown",
   "id": "75c33d3e",
   "metadata": {},
   "source": [
    "Столбец **'days_employed'**:"
   ]
  },
  {
   "cell_type": "code",
   "execution_count": 14,
   "id": "1c7e2333",
   "metadata": {
    "scrolled": false
   },
   "outputs": [
    {
     "data": {
      "text/plain": [
       "count     19351.000000\n",
       "mean      63046.497661\n",
       "std      140827.311974\n",
       "min      -18388.949901\n",
       "25%       -2747.423625\n",
       "50%       -1203.369529\n",
       "75%        -291.095954\n",
       "max      401755.400475\n",
       "Name: days_employed, dtype: float64"
      ]
     },
     "execution_count": 14,
     "metadata": {},
     "output_type": "execute_result"
    }
   ],
   "source": [
    "borrower_reliability['days_employed'].describe()"
   ]
  },
  {
   "cell_type": "markdown",
   "id": "4222ff8e",
   "metadata": {},
   "source": [
    "**Аномалии в 'days_employed'**:\n",
    "    \n",
    "- max значение: **401755** дней (**1100 лет**).    \n",
    "- mean значение: **60378** дней (**165 лет**).      \n",
    "- Будем считать что произошла ошибка данных при переносе в таблицу.    \n",
    "- Так как данные не информативны удалим стобец\n"
   ]
  },
  {
   "cell_type": "code",
   "execution_count": 15,
   "id": "b0a18f2d",
   "metadata": {
    "scrolled": true
   },
   "outputs": [
    {
     "data": {
      "text/html": [
       "<div>\n",
       "<style scoped>\n",
       "    .dataframe tbody tr th:only-of-type {\n",
       "        vertical-align: middle;\n",
       "    }\n",
       "\n",
       "    .dataframe tbody tr th {\n",
       "        vertical-align: top;\n",
       "    }\n",
       "\n",
       "    .dataframe thead th {\n",
       "        text-align: right;\n",
       "    }\n",
       "</style>\n",
       "<table border=\"1\" class=\"dataframe\">\n",
       "  <thead>\n",
       "    <tr style=\"text-align: right;\">\n",
       "      <th></th>\n",
       "      <th>children</th>\n",
       "      <th>dob_years</th>\n",
       "      <th>education</th>\n",
       "      <th>education_id</th>\n",
       "      <th>family_status</th>\n",
       "      <th>family_status_id</th>\n",
       "      <th>gender</th>\n",
       "      <th>income_type</th>\n",
       "      <th>debt</th>\n",
       "      <th>total_income</th>\n",
       "      <th>purpose</th>\n",
       "    </tr>\n",
       "  </thead>\n",
       "  <tbody>\n",
       "    <tr>\n",
       "      <th>0</th>\n",
       "      <td>1</td>\n",
       "      <td>42</td>\n",
       "      <td>высшее</td>\n",
       "      <td>0</td>\n",
       "      <td>женат / замужем</td>\n",
       "      <td>0</td>\n",
       "      <td>F</td>\n",
       "      <td>сотрудник</td>\n",
       "      <td>0</td>\n",
       "      <td>253875.639453</td>\n",
       "      <td>покупка жилья</td>\n",
       "    </tr>\n",
       "    <tr>\n",
       "      <th>1</th>\n",
       "      <td>1</td>\n",
       "      <td>36</td>\n",
       "      <td>среднее</td>\n",
       "      <td>1</td>\n",
       "      <td>женат / замужем</td>\n",
       "      <td>0</td>\n",
       "      <td>F</td>\n",
       "      <td>сотрудник</td>\n",
       "      <td>0</td>\n",
       "      <td>112080.014102</td>\n",
       "      <td>приобретение автомобиля</td>\n",
       "    </tr>\n",
       "    <tr>\n",
       "      <th>2</th>\n",
       "      <td>0</td>\n",
       "      <td>33</td>\n",
       "      <td>Среднее</td>\n",
       "      <td>1</td>\n",
       "      <td>женат / замужем</td>\n",
       "      <td>0</td>\n",
       "      <td>M</td>\n",
       "      <td>сотрудник</td>\n",
       "      <td>0</td>\n",
       "      <td>145885.952297</td>\n",
       "      <td>покупка жилья</td>\n",
       "    </tr>\n",
       "    <tr>\n",
       "      <th>3</th>\n",
       "      <td>3</td>\n",
       "      <td>32</td>\n",
       "      <td>среднее</td>\n",
       "      <td>1</td>\n",
       "      <td>женат / замужем</td>\n",
       "      <td>0</td>\n",
       "      <td>M</td>\n",
       "      <td>сотрудник</td>\n",
       "      <td>0</td>\n",
       "      <td>267628.550329</td>\n",
       "      <td>дополнительное образование</td>\n",
       "    </tr>\n",
       "    <tr>\n",
       "      <th>4</th>\n",
       "      <td>0</td>\n",
       "      <td>53</td>\n",
       "      <td>среднее</td>\n",
       "      <td>1</td>\n",
       "      <td>гражданский брак</td>\n",
       "      <td>1</td>\n",
       "      <td>F</td>\n",
       "      <td>пенсионер</td>\n",
       "      <td>0</td>\n",
       "      <td>158616.077870</td>\n",
       "      <td>сыграть свадьбу</td>\n",
       "    </tr>\n",
       "    <tr>\n",
       "      <th>5</th>\n",
       "      <td>0</td>\n",
       "      <td>27</td>\n",
       "      <td>высшее</td>\n",
       "      <td>0</td>\n",
       "      <td>гражданский брак</td>\n",
       "      <td>1</td>\n",
       "      <td>M</td>\n",
       "      <td>компаньон</td>\n",
       "      <td>0</td>\n",
       "      <td>255763.565419</td>\n",
       "      <td>покупка жилья</td>\n",
       "    </tr>\n",
       "    <tr>\n",
       "      <th>6</th>\n",
       "      <td>0</td>\n",
       "      <td>43</td>\n",
       "      <td>высшее</td>\n",
       "      <td>0</td>\n",
       "      <td>женат / замужем</td>\n",
       "      <td>0</td>\n",
       "      <td>F</td>\n",
       "      <td>компаньон</td>\n",
       "      <td>0</td>\n",
       "      <td>240525.971920</td>\n",
       "      <td>операции с жильем</td>\n",
       "    </tr>\n",
       "    <tr>\n",
       "      <th>7</th>\n",
       "      <td>0</td>\n",
       "      <td>50</td>\n",
       "      <td>СРЕДНЕЕ</td>\n",
       "      <td>1</td>\n",
       "      <td>женат / замужем</td>\n",
       "      <td>0</td>\n",
       "      <td>M</td>\n",
       "      <td>сотрудник</td>\n",
       "      <td>0</td>\n",
       "      <td>135823.934197</td>\n",
       "      <td>образование</td>\n",
       "    </tr>\n",
       "    <tr>\n",
       "      <th>8</th>\n",
       "      <td>2</td>\n",
       "      <td>35</td>\n",
       "      <td>ВЫСШЕЕ</td>\n",
       "      <td>0</td>\n",
       "      <td>гражданский брак</td>\n",
       "      <td>1</td>\n",
       "      <td>F</td>\n",
       "      <td>сотрудник</td>\n",
       "      <td>0</td>\n",
       "      <td>95856.832424</td>\n",
       "      <td>на проведение свадьбы</td>\n",
       "    </tr>\n",
       "    <tr>\n",
       "      <th>9</th>\n",
       "      <td>0</td>\n",
       "      <td>41</td>\n",
       "      <td>среднее</td>\n",
       "      <td>1</td>\n",
       "      <td>женат / замужем</td>\n",
       "      <td>0</td>\n",
       "      <td>M</td>\n",
       "      <td>сотрудник</td>\n",
       "      <td>0</td>\n",
       "      <td>144425.938277</td>\n",
       "      <td>покупка жилья для семьи</td>\n",
       "    </tr>\n",
       "  </tbody>\n",
       "</table>\n",
       "</div>"
      ],
      "text/plain": [
       "   children  dob_years education  education_id     family_status  \\\n",
       "0         1         42    высшее             0   женат / замужем   \n",
       "1         1         36   среднее             1   женат / замужем   \n",
       "2         0         33   Среднее             1   женат / замужем   \n",
       "3         3         32   среднее             1   женат / замужем   \n",
       "4         0         53   среднее             1  гражданский брак   \n",
       "5         0         27    высшее             0  гражданский брак   \n",
       "6         0         43    высшее             0   женат / замужем   \n",
       "7         0         50   СРЕДНЕЕ             1   женат / замужем   \n",
       "8         2         35    ВЫСШЕЕ             0  гражданский брак   \n",
       "9         0         41   среднее             1   женат / замужем   \n",
       "\n",
       "   family_status_id gender income_type  debt   total_income  \\\n",
       "0                 0      F   сотрудник     0  253875.639453   \n",
       "1                 0      F   сотрудник     0  112080.014102   \n",
       "2                 0      M   сотрудник     0  145885.952297   \n",
       "3                 0      M   сотрудник     0  267628.550329   \n",
       "4                 1      F   пенсионер     0  158616.077870   \n",
       "5                 1      M   компаньон     0  255763.565419   \n",
       "6                 0      F   компаньон     0  240525.971920   \n",
       "7                 0      M   сотрудник     0  135823.934197   \n",
       "8                 1      F   сотрудник     0   95856.832424   \n",
       "9                 0      M   сотрудник     0  144425.938277   \n",
       "\n",
       "                      purpose  \n",
       "0               покупка жилья  \n",
       "1     приобретение автомобиля  \n",
       "2               покупка жилья  \n",
       "3  дополнительное образование  \n",
       "4             сыграть свадьбу  \n",
       "5               покупка жилья  \n",
       "6           операции с жильем  \n",
       "7                 образование  \n",
       "8       на проведение свадьбы  \n",
       "9     покупка жилья для семьи  "
      ]
     },
     "execution_count": 15,
     "metadata": {},
     "output_type": "execute_result"
    }
   ],
   "source": [
    "del borrower_reliability['days_employed']\n",
    "borrower_reliability.head(10)\n"
   ]
  },
  {
   "cell_type": "markdown",
   "id": "fbf4fbfd",
   "metadata": {},
   "source": [
    "Столбец **'education'**:"
   ]
  },
  {
   "cell_type": "code",
   "execution_count": 16,
   "id": "ee464146",
   "metadata": {
    "scrolled": true
   },
   "outputs": [
    {
     "data": {
      "text/plain": [
       "среднее                13750\n",
       "высшее                  4718\n",
       "СРЕДНЕЕ                  772\n",
       "Среднее                  711\n",
       "неоконченное высшее      668\n",
       "ВЫСШЕЕ                   274\n",
       "Высшее                   268\n",
       "начальное                250\n",
       "Неоконченное высшее       47\n",
       "НЕОКОНЧЕННОЕ ВЫСШЕЕ       29\n",
       "НАЧАЛЬНОЕ                 17\n",
       "Начальное                 15\n",
       "ученая степень             4\n",
       "Ученая степень             1\n",
       "УЧЕНАЯ СТЕПЕНЬ             1\n",
       "Name: education, dtype: int64"
      ]
     },
     "execution_count": 16,
     "metadata": {},
     "output_type": "execute_result"
    }
   ],
   "source": [
    "borrower_reliability['education'].value_counts()\n"
   ]
  },
  {
   "cell_type": "code",
   "execution_count": 17,
   "id": "86716935",
   "metadata": {
    "scrolled": true
   },
   "outputs": [
    {
     "data": {
      "text/plain": [
       "(среднее                15233\n",
       " высшее                  5260\n",
       " неоконченное высшее      744\n",
       " начальное                282\n",
       " ученая степень             6\n",
       " Name: education, dtype: int64,\n",
       " 1    15233\n",
       " 0     5260\n",
       " 2      744\n",
       " 3      282\n",
       " 4        6\n",
       " Name: education_id, dtype: int64)"
      ]
     },
     "execution_count": 17,
     "metadata": {},
     "output_type": "execute_result"
    }
   ],
   "source": [
    "# приведем к нижнему регистру\n",
    "\n",
    "borrower_reliability['education'] = borrower_reliability['education'].str.lower()\n",
    "borrower_reliability['education'].value_counts(), borrower_reliability['education_id'].value_counts()\n",
    "\n"
   ]
  },
  {
   "cell_type": "markdown",
   "id": "99e2f079",
   "metadata": {},
   "source": [
    "Столбец **'dob_years'**:"
   ]
  },
  {
   "cell_type": "code",
   "execution_count": 18,
   "id": "84cd667d",
   "metadata": {
    "scrolled": true
   },
   "outputs": [
    {
     "data": {
      "text/plain": [
       "0     101\n",
       "19     14\n",
       "20     51\n",
       "21    111\n",
       "22    183\n",
       "23    254\n",
       "24    264\n",
       "25    357\n",
       "26    408\n",
       "27    493\n",
       "28    503\n",
       "29    545\n",
       "30    540\n",
       "31    560\n",
       "32    510\n",
       "33    581\n",
       "34    603\n",
       "35    617\n",
       "36    555\n",
       "37    537\n",
       "38    598\n",
       "39    573\n",
       "40    609\n",
       "41    607\n",
       "42    597\n",
       "43    513\n",
       "44    547\n",
       "45    497\n",
       "46    475\n",
       "47    480\n",
       "48    538\n",
       "49    508\n",
       "50    514\n",
       "51    448\n",
       "52    484\n",
       "53    459\n",
       "54    479\n",
       "55    443\n",
       "56    487\n",
       "57    460\n",
       "58    461\n",
       "59    444\n",
       "60    377\n",
       "61    355\n",
       "62    352\n",
       "63    269\n",
       "64    265\n",
       "65    194\n",
       "66    183\n",
       "67    167\n",
       "68     99\n",
       "69     85\n",
       "70     65\n",
       "71     58\n",
       "72     33\n",
       "73      8\n",
       "74      6\n",
       "75      1\n",
       "Name: dob_years, dtype: int64"
      ]
     },
     "execution_count": 18,
     "metadata": {},
     "output_type": "execute_result"
    }
   ],
   "source": [
    "borrower_reliability['dob_years'].value_counts().sort_index()\n"
   ]
  },
  {
   "cell_type": "code",
   "execution_count": 19,
   "id": "517adf9c",
   "metadata": {},
   "outputs": [
    {
     "data": {
      "text/plain": [
       "19     14\n",
       "20     51\n",
       "21    111\n",
       "22    183\n",
       "23    254\n",
       "24    264\n",
       "25    357\n",
       "26    408\n",
       "27    493\n",
       "28    503\n",
       "29    545\n",
       "30    540\n",
       "31    560\n",
       "32    510\n",
       "33    581\n",
       "34    603\n",
       "35    617\n",
       "36    555\n",
       "37    537\n",
       "38    598\n",
       "39    573\n",
       "40    609\n",
       "41    607\n",
       "42    597\n",
       "43    614\n",
       "44    547\n",
       "45    497\n",
       "46    475\n",
       "47    480\n",
       "48    538\n",
       "49    508\n",
       "50    514\n",
       "51    448\n",
       "52    484\n",
       "53    459\n",
       "54    479\n",
       "55    443\n",
       "56    487\n",
       "57    460\n",
       "58    461\n",
       "59    444\n",
       "60    377\n",
       "61    355\n",
       "62    352\n",
       "63    269\n",
       "64    265\n",
       "65    194\n",
       "66    183\n",
       "67    167\n",
       "68     99\n",
       "69     85\n",
       "70     65\n",
       "71     58\n",
       "72     33\n",
       "73      8\n",
       "74      6\n",
       "75      1\n",
       "Name: dob_years, dtype: int64"
      ]
     },
     "execution_count": 19,
     "metadata": {},
     "output_type": "execute_result"
    }
   ],
   "source": [
    "# заменим 0 на средний возраст\n",
    "borrower_reliability.loc[borrower_reliability['dob_years'] == 0, 'dob_years'] = borrower_reliability['dob_years'].mean() \n",
    "# заменим тип на Int\n",
    "borrower_reliability['dob_years'] = borrower_reliability['dob_years'].astype('int')\n",
    "#проверим замену\n",
    "borrower_reliability['dob_years'].value_counts().sort_index()  "
   ]
  },
  {
   "cell_type": "markdown",
   "id": "c5c5a375",
   "metadata": {},
   "source": [
    "Столбец **'gender'**:  "
   ]
  },
  {
   "cell_type": "code",
   "execution_count": 20,
   "id": "583999ff",
   "metadata": {},
   "outputs": [
    {
     "data": {
      "text/plain": [
       "F      14236\n",
       "M       7288\n",
       "XNA        1\n",
       "Name: gender, dtype: int64"
      ]
     },
     "execution_count": 20,
     "metadata": {},
     "output_type": "execute_result"
    }
   ],
   "source": [
    "borrower_reliability['gender'].value_counts()"
   ]
  },
  {
   "cell_type": "markdown",
   "id": "dd8ef636",
   "metadata": {},
   "source": [
    "1 значение **XNA=1**, изменим его на **F**, так как его большинство!"
   ]
  },
  {
   "cell_type": "code",
   "execution_count": 21,
   "id": "8e0f3d97",
   "metadata": {},
   "outputs": [
    {
     "data": {
      "text/plain": [
       "F    14237\n",
       "M     7288\n",
       "Name: gender, dtype: int64"
      ]
     },
     "execution_count": 21,
     "metadata": {},
     "output_type": "execute_result"
    }
   ],
   "source": [
    "borrower_reliability.loc[borrower_reliability['gender'] == 'XNA', 'gender'] = 'F'\n",
    "borrower_reliability['gender'].value_counts()"
   ]
  },
  {
   "cell_type": "markdown",
   "id": "e8bb3788",
   "metadata": {},
   "source": [
    "Столбец **'income_type'**:  "
   ]
  },
  {
   "cell_type": "code",
   "execution_count": 22,
   "id": "d8dbc81f",
   "metadata": {},
   "outputs": [
    {
     "data": {
      "text/plain": [
       "сотрудник          11119\n",
       "компаньон           5085\n",
       "пенсионер           3856\n",
       "госслужащий         1459\n",
       "безработный            2\n",
       "предприниматель        2\n",
       "студент                1\n",
       "в декрете              1\n",
       "Name: income_type, dtype: int64"
      ]
     },
     "execution_count": 22,
     "metadata": {},
     "output_type": "execute_result"
    }
   ],
   "source": [
    "borrower_reliability['income_type'].value_counts()"
   ]
  },
  {
   "cell_type": "markdown",
   "id": "f597f130",
   "metadata": {},
   "source": [
    "- **'income_type'** в порядоке      \n"
   ]
  },
  {
   "cell_type": "code",
   "execution_count": 23,
   "id": "4484705e",
   "metadata": {
    "scrolled": true
   },
   "outputs": [
    {
     "data": {
      "text/plain": [
       "0    19784\n",
       "1     1741\n",
       "Name: debt, dtype: int64"
      ]
     },
     "execution_count": 23,
     "metadata": {},
     "output_type": "execute_result"
    }
   ],
   "source": [
    "borrower_reliability['debt'].value_counts()"
   ]
  },
  {
   "cell_type": "markdown",
   "id": "db7cc231",
   "metadata": {},
   "source": [
    "- **'debt'** в порядоке      \n"
   ]
  },
  {
   "cell_type": "code",
   "execution_count": 24,
   "id": "70bca7e4",
   "metadata": {},
   "outputs": [
    {
     "data": {
      "text/plain": [
       "свадьба                                   797\n",
       "на проведение свадьбы                     777\n",
       "сыграть свадьбу                           774\n",
       "операции с недвижимостью                  676\n",
       "покупка коммерческой недвижимости         664\n",
       "покупка жилья для сдачи                   653\n",
       "операции с жильем                         653\n",
       "операции с коммерческой недвижимостью     651\n",
       "покупка жилья                             647\n",
       "жилье                                     647\n",
       "покупка жилья для семьи                   641\n",
       "строительство собственной недвижимости    635\n",
       "недвижимость                              634\n",
       "операции со своей недвижимостью           630\n",
       "строительство жилой недвижимости          626\n",
       "покупка недвижимости                      624\n",
       "строительство недвижимости                620\n",
       "покупка своего жилья                      620\n",
       "ремонт жилью                              612\n",
       "покупка жилой недвижимости                607\n",
       "на покупку своего автомобиля              505\n",
       "заняться высшим образованием              496\n",
       "автомобиль                                495\n",
       "сделка с подержанным автомобилем          489\n",
       "свой автомобиль                           480\n",
       "на покупку подержанного автомобиля        479\n",
       "автомобили                                478\n",
       "на покупку автомобиля                     472\n",
       "дополнительное образование                462\n",
       "приобретение автомобиля                   462\n",
       "сделка с автомобилем                      455\n",
       "высшее образование                        453\n",
       "образование                               447\n",
       "получение дополнительного образования     447\n",
       "получение образования                     443\n",
       "профильное образование                    436\n",
       "получение высшего образования             426\n",
       "заняться образованием                     412\n",
       "Name: purpose, dtype: int64"
      ]
     },
     "execution_count": 24,
     "metadata": {},
     "output_type": "execute_result"
    }
   ],
   "source": [
    "borrower_reliability['purpose'].value_counts()"
   ]
  },
  {
   "cell_type": "markdown",
   "id": "9cfec9df",
   "metadata": {},
   "source": [
    "### Шаг 2.3. Изменение типов данных."
   ]
  },
  {
   "cell_type": "code",
   "execution_count": 25,
   "id": "5112cf73",
   "metadata": {
    "scrolled": true
   },
   "outputs": [
    {
     "name": "stdout",
     "output_type": "stream",
     "text": [
      "<class 'pandas.core.frame.DataFrame'>\n",
      "RangeIndex: 21525 entries, 0 to 21524\n",
      "Data columns (total 11 columns):\n",
      " #   Column            Non-Null Count  Dtype \n",
      "---  ------            --------------  ----- \n",
      " 0   children          21525 non-null  int64 \n",
      " 1   dob_years         21525 non-null  int32 \n",
      " 2   education         21525 non-null  object\n",
      " 3   education_id      21525 non-null  int64 \n",
      " 4   family_status     21525 non-null  object\n",
      " 5   family_status_id  21525 non-null  int64 \n",
      " 6   gender            21525 non-null  object\n",
      " 7   income_type       21525 non-null  object\n",
      " 8   debt              21525 non-null  int64 \n",
      " 9   total_income      21525 non-null  int32 \n",
      " 10  purpose           21525 non-null  object\n",
      "dtypes: int32(2), int64(4), object(5)\n",
      "memory usage: 1.6+ MB\n"
     ]
    },
    {
     "data": {
      "text/plain": [
       "(None,\n",
       "    children  dob_years education  education_id     family_status  \\\n",
       " 0         1         42    высшее             0   женат / замужем   \n",
       " 1         1         36   среднее             1   женат / замужем   \n",
       " 2         0         33   среднее             1   женат / замужем   \n",
       " 3         3         32   среднее             1   женат / замужем   \n",
       " 4         0         53   среднее             1  гражданский брак   \n",
       " \n",
       "    family_status_id gender income_type  debt  total_income  \\\n",
       " 0                 0      F   сотрудник     0        253875   \n",
       " 1                 0      F   сотрудник     0        112080   \n",
       " 2                 0      M   сотрудник     0        145885   \n",
       " 3                 0      M   сотрудник     0        267628   \n",
       " 4                 1      F   пенсионер     0        158616   \n",
       " \n",
       "                       purpose  \n",
       " 0               покупка жилья  \n",
       " 1     приобретение автомобиля  \n",
       " 2               покупка жилья  \n",
       " 3  дополнительное образование  \n",
       " 4             сыграть свадьбу  )"
      ]
     },
     "execution_count": 25,
     "metadata": {},
     "output_type": "execute_result"
    }
   ],
   "source": [
    "# изменим тип данных в столбце ['total_income'] на integer\n",
    "\n",
    "borrower_reliability['total_income'] = borrower_reliability['total_income'].astype('int')\n",
    "borrower_reliability.info(), borrower_reliability.head()"
   ]
  },
  {
   "cell_type": "markdown",
   "id": "b1b1d771",
   "metadata": {},
   "source": [
    "### Шаг 2.4. Удаление дубликатов."
   ]
  },
  {
   "cell_type": "code",
   "execution_count": 26,
   "id": "1913bcda",
   "metadata": {},
   "outputs": [
    {
     "data": {
      "text/plain": [
       "71"
      ]
     },
     "execution_count": 26,
     "metadata": {},
     "output_type": "execute_result"
    }
   ],
   "source": [
    "# кол-во дубликатов\n",
    "\n",
    "borrower_reliability.duplicated().sum()"
   ]
  },
  {
   "cell_type": "code",
   "execution_count": 27,
   "id": "65e211ed",
   "metadata": {},
   "outputs": [],
   "source": [
    "# удаленим дубликаты\n",
    "\n",
    "borrower_reliability = borrower_reliability.drop_duplicates().reset_index(drop=True) #удаление дубликатов"
   ]
  },
  {
   "cell_type": "code",
   "execution_count": 28,
   "id": "46b5e3da",
   "metadata": {},
   "outputs": [
    {
     "data": {
      "text/plain": [
       "0"
      ]
     },
     "execution_count": 28,
     "metadata": {},
     "output_type": "execute_result"
    }
   ],
   "source": [
    "# проверка, после удаления дубликатов\n",
    "\n",
    "borrower_reliability.duplicated().sum() "
   ]
  },
  {
   "cell_type": "markdown",
   "id": "27f736d9",
   "metadata": {},
   "source": [
    "### Шаг 2.5. Формирование дополнительных датафреймов словарей, декомпозиция исходного датафрейма."
   ]
  },
  {
   "cell_type": "markdown",
   "id": "3e9c8551",
   "metadata": {},
   "source": [
    "Создадим два новых датафрейма, в которых:\n",
    "\n",
    "- Каждому уникальному значению из education соответствует уникальное значение **education_id** — в первом;  \n",
    "- Каждому уникальному значению из family_status соответствует уникальное значение **family_status_id** — во втором.\n",
    "  "
   ]
  },
  {
   "cell_type": "code",
   "execution_count": 29,
   "id": "016a520a",
   "metadata": {},
   "outputs": [
    {
     "data": {
      "text/html": [
       "<div>\n",
       "<style scoped>\n",
       "    .dataframe tbody tr th:only-of-type {\n",
       "        vertical-align: middle;\n",
       "    }\n",
       "\n",
       "    .dataframe tbody tr th {\n",
       "        vertical-align: top;\n",
       "    }\n",
       "\n",
       "    .dataframe thead th {\n",
       "        text-align: right;\n",
       "    }\n",
       "</style>\n",
       "<table border=\"1\" class=\"dataframe\">\n",
       "  <thead>\n",
       "    <tr style=\"text-align: right;\">\n",
       "      <th></th>\n",
       "      <th>education</th>\n",
       "      <th>education_id</th>\n",
       "    </tr>\n",
       "  </thead>\n",
       "  <tbody>\n",
       "    <tr>\n",
       "      <th>0</th>\n",
       "      <td>высшее</td>\n",
       "      <td>0</td>\n",
       "    </tr>\n",
       "    <tr>\n",
       "      <th>1</th>\n",
       "      <td>среднее</td>\n",
       "      <td>1</td>\n",
       "    </tr>\n",
       "    <tr>\n",
       "      <th>2</th>\n",
       "      <td>неоконченное высшее</td>\n",
       "      <td>2</td>\n",
       "    </tr>\n",
       "    <tr>\n",
       "      <th>3</th>\n",
       "      <td>начальное</td>\n",
       "      <td>3</td>\n",
       "    </tr>\n",
       "    <tr>\n",
       "      <th>4</th>\n",
       "      <td>ученая степень</td>\n",
       "      <td>4</td>\n",
       "    </tr>\n",
       "  </tbody>\n",
       "</table>\n",
       "</div>"
      ],
      "text/plain": [
       "             education  education_id\n",
       "0               высшее             0\n",
       "1              среднее             1\n",
       "2  неоконченное высшее             2\n",
       "3            начальное             3\n",
       "4       ученая степень             4"
      ]
     },
     "execution_count": 29,
     "metadata": {},
     "output_type": "execute_result"
    }
   ],
   "source": [
    "\n",
    "education_id = borrower_reliability[['education', 'education_id']] #создаем словарь education_id\n",
    "\n",
    "education_id = education_id .drop_duplicates().reset_index(drop=True) # удаляем дубликаты из словаря\n",
    "\n",
    "education_id\n"
   ]
  },
  {
   "cell_type": "code",
   "execution_count": 30,
   "id": "ef28babf",
   "metadata": {
    "scrolled": true
   },
   "outputs": [
    {
     "data": {
      "text/html": [
       "<div>\n",
       "<style scoped>\n",
       "    .dataframe tbody tr th:only-of-type {\n",
       "        vertical-align: middle;\n",
       "    }\n",
       "\n",
       "    .dataframe tbody tr th {\n",
       "        vertical-align: top;\n",
       "    }\n",
       "\n",
       "    .dataframe thead th {\n",
       "        text-align: right;\n",
       "    }\n",
       "</style>\n",
       "<table border=\"1\" class=\"dataframe\">\n",
       "  <thead>\n",
       "    <tr style=\"text-align: right;\">\n",
       "      <th></th>\n",
       "      <th>family_status</th>\n",
       "      <th>family_status_id</th>\n",
       "    </tr>\n",
       "  </thead>\n",
       "  <tbody>\n",
       "    <tr>\n",
       "      <th>0</th>\n",
       "      <td>женат / замужем</td>\n",
       "      <td>0</td>\n",
       "    </tr>\n",
       "    <tr>\n",
       "      <th>1</th>\n",
       "      <td>гражданский брак</td>\n",
       "      <td>1</td>\n",
       "    </tr>\n",
       "    <tr>\n",
       "      <th>2</th>\n",
       "      <td>вдовец / вдова</td>\n",
       "      <td>2</td>\n",
       "    </tr>\n",
       "    <tr>\n",
       "      <th>3</th>\n",
       "      <td>в разводе</td>\n",
       "      <td>3</td>\n",
       "    </tr>\n",
       "    <tr>\n",
       "      <th>4</th>\n",
       "      <td>Не женат / не замужем</td>\n",
       "      <td>4</td>\n",
       "    </tr>\n",
       "  </tbody>\n",
       "</table>\n",
       "</div>"
      ],
      "text/plain": [
       "           family_status  family_status_id\n",
       "0        женат / замужем                 0\n",
       "1       гражданский брак                 1\n",
       "2         вдовец / вдова                 2\n",
       "3              в разводе                 3\n",
       "4  Не женат / не замужем                 4"
      ]
     },
     "execution_count": 30,
     "metadata": {},
     "output_type": "execute_result"
    }
   ],
   "source": [
    "family_status_id = borrower_reliability[['family_status', 'family_status_id']] #создаем словарь family_status_id\n",
    "\n",
    "family_status_id = family_status_id.drop_duplicates().reset_index(drop=True) # удаляем дубликаты из словаря\n",
    "\n",
    "\n",
    "family_status_id"
   ]
  },
  {
   "cell_type": "markdown",
   "id": "03783a10",
   "metadata": {},
   "source": [
    "Удалим столбы **['education']** и **['family_status']** и проверим"
   ]
  },
  {
   "cell_type": "code",
   "execution_count": 31,
   "id": "6d2da18a",
   "metadata": {},
   "outputs": [
    {
     "name": "stdout",
     "output_type": "stream",
     "text": [
      "<class 'pandas.core.frame.DataFrame'>\n",
      "RangeIndex: 21454 entries, 0 to 21453\n",
      "Data columns (total 9 columns):\n",
      " #   Column            Non-Null Count  Dtype \n",
      "---  ------            --------------  ----- \n",
      " 0   children          21454 non-null  int64 \n",
      " 1   dob_years         21454 non-null  int32 \n",
      " 2   education_id      21454 non-null  int64 \n",
      " 3   family_status_id  21454 non-null  int64 \n",
      " 4   gender            21454 non-null  object\n",
      " 5   income_type       21454 non-null  object\n",
      " 6   debt              21454 non-null  int64 \n",
      " 7   total_income      21454 non-null  int32 \n",
      " 8   purpose           21454 non-null  object\n",
      "dtypes: int32(2), int64(4), object(3)\n",
      "memory usage: 1.3+ MB\n"
     ]
    }
   ],
   "source": [
    "del borrower_reliability['education'] #удаляем стобец 'education'\n",
    "del borrower_reliability['family_status'] #удаляем столбец 'family_status'\n",
    "\n",
    "\n",
    "borrower_reliability.info()"
   ]
  },
  {
   "cell_type": "markdown",
   "id": "aadee647",
   "metadata": {},
   "source": [
    "### Шаг 2.6. Категоризация дохода."
   ]
  },
  {
   "cell_type": "markdown",
   "id": "24537e6d",
   "metadata": {},
   "source": [
    "На основании диапазонов, создадим новый столбец **total_income_category**"
   ]
  },
  {
   "cell_type": "code",
   "execution_count": 32,
   "id": "62c22949",
   "metadata": {
    "scrolled": true
   },
   "outputs": [
    {
     "data": {
      "text/html": [
       "<div>\n",
       "<style scoped>\n",
       "    .dataframe tbody tr th:only-of-type {\n",
       "        vertical-align: middle;\n",
       "    }\n",
       "\n",
       "    .dataframe tbody tr th {\n",
       "        vertical-align: top;\n",
       "    }\n",
       "\n",
       "    .dataframe thead th {\n",
       "        text-align: right;\n",
       "    }\n",
       "</style>\n",
       "<table border=\"1\" class=\"dataframe\">\n",
       "  <thead>\n",
       "    <tr style=\"text-align: right;\">\n",
       "      <th></th>\n",
       "      <th>children</th>\n",
       "      <th>dob_years</th>\n",
       "      <th>education_id</th>\n",
       "      <th>family_status_id</th>\n",
       "      <th>gender</th>\n",
       "      <th>income_type</th>\n",
       "      <th>debt</th>\n",
       "      <th>total_income</th>\n",
       "      <th>purpose</th>\n",
       "      <th>total_income_category</th>\n",
       "    </tr>\n",
       "  </thead>\n",
       "  <tbody>\n",
       "    <tr>\n",
       "      <th>0</th>\n",
       "      <td>1</td>\n",
       "      <td>42</td>\n",
       "      <td>0</td>\n",
       "      <td>0</td>\n",
       "      <td>F</td>\n",
       "      <td>сотрудник</td>\n",
       "      <td>0</td>\n",
       "      <td>253875</td>\n",
       "      <td>покупка жилья</td>\n",
       "      <td>B</td>\n",
       "    </tr>\n",
       "    <tr>\n",
       "      <th>1</th>\n",
       "      <td>1</td>\n",
       "      <td>36</td>\n",
       "      <td>1</td>\n",
       "      <td>0</td>\n",
       "      <td>F</td>\n",
       "      <td>сотрудник</td>\n",
       "      <td>0</td>\n",
       "      <td>112080</td>\n",
       "      <td>приобретение автомобиля</td>\n",
       "      <td>C</td>\n",
       "    </tr>\n",
       "    <tr>\n",
       "      <th>2</th>\n",
       "      <td>0</td>\n",
       "      <td>33</td>\n",
       "      <td>1</td>\n",
       "      <td>0</td>\n",
       "      <td>M</td>\n",
       "      <td>сотрудник</td>\n",
       "      <td>0</td>\n",
       "      <td>145885</td>\n",
       "      <td>покупка жилья</td>\n",
       "      <td>C</td>\n",
       "    </tr>\n",
       "    <tr>\n",
       "      <th>3</th>\n",
       "      <td>3</td>\n",
       "      <td>32</td>\n",
       "      <td>1</td>\n",
       "      <td>0</td>\n",
       "      <td>M</td>\n",
       "      <td>сотрудник</td>\n",
       "      <td>0</td>\n",
       "      <td>267628</td>\n",
       "      <td>дополнительное образование</td>\n",
       "      <td>B</td>\n",
       "    </tr>\n",
       "    <tr>\n",
       "      <th>4</th>\n",
       "      <td>0</td>\n",
       "      <td>53</td>\n",
       "      <td>1</td>\n",
       "      <td>1</td>\n",
       "      <td>F</td>\n",
       "      <td>пенсионер</td>\n",
       "      <td>0</td>\n",
       "      <td>158616</td>\n",
       "      <td>сыграть свадьбу</td>\n",
       "      <td>C</td>\n",
       "    </tr>\n",
       "  </tbody>\n",
       "</table>\n",
       "</div>"
      ],
      "text/plain": [
       "   children  dob_years  education_id  family_status_id gender income_type  \\\n",
       "0         1         42             0                 0      F   сотрудник   \n",
       "1         1         36             1                 0      F   сотрудник   \n",
       "2         0         33             1                 0      M   сотрудник   \n",
       "3         3         32             1                 0      M   сотрудник   \n",
       "4         0         53             1                 1      F   пенсионер   \n",
       "\n",
       "   debt  total_income                     purpose total_income_category  \n",
       "0     0        253875               покупка жилья                     B  \n",
       "1     0        112080     приобретение автомобиля                     C  \n",
       "2     0        145885               покупка жилья                     C  \n",
       "3     0        267628  дополнительное образование                     B  \n",
       "4     0        158616             сыграть свадьбу                     C  "
      ]
     },
     "execution_count": 32,
     "metadata": {},
     "output_type": "execute_result"
    }
   ],
   "source": [
    "def total_income_category(total_income):\n",
    "    if total_income <= 30000:\n",
    "        return 'E'\n",
    "    elif total_income <= 50000:\n",
    "        return 'D'\n",
    "    elif total_income <= 200000:\n",
    "        return 'C'\n",
    "    elif total_income <= 1000000:\n",
    "        return 'B'\n",
    "    return 'A'\n",
    "\n",
    "\n",
    "borrower_reliability['total_income_category'] = borrower_reliability['total_income'].apply(total_income_category)\n",
    "borrower_reliability.head()"
   ]
  },
  {
   "cell_type": "code",
   "execution_count": 33,
   "id": "2cf21d57",
   "metadata": {},
   "outputs": [
    {
     "data": {
      "text/plain": [
       "C    16015\n",
       "B     5042\n",
       "D      350\n",
       "A       25\n",
       "E       22\n",
       "Name: total_income_category, dtype: int64"
      ]
     },
     "execution_count": 33,
     "metadata": {},
     "output_type": "execute_result"
    }
   ],
   "source": [
    "borrower_reliability['total_income_category'].value_counts()"
   ]
  },
  {
   "cell_type": "markdown",
   "id": "60cab559",
   "metadata": {},
   "source": [
    "### Шаг 2.7. Категоризация целей кредита."
   ]
  },
  {
   "cell_type": "code",
   "execution_count": 34,
   "id": "a346fd7a",
   "metadata": {},
   "outputs": [
    {
     "data": {
      "text/plain": [
       "свадьба                                   791\n",
       "на проведение свадьбы                     768\n",
       "сыграть свадьбу                           765\n",
       "операции с недвижимостью                  675\n",
       "покупка коммерческой недвижимости         661\n",
       "операции с жильем                         652\n",
       "покупка жилья для сдачи                   651\n",
       "операции с коммерческой недвижимостью     650\n",
       "покупка жилья                             646\n",
       "жилье                                     646\n",
       "покупка жилья для семьи                   638\n",
       "строительство собственной недвижимости    635\n",
       "недвижимость                              633\n",
       "операции со своей недвижимостью           627\n",
       "строительство жилой недвижимости          624\n",
       "покупка недвижимости                      621\n",
       "покупка своего жилья                      620\n",
       "строительство недвижимости                619\n",
       "ремонт жилью                              607\n",
       "покупка жилой недвижимости                606\n",
       "на покупку своего автомобиля              505\n",
       "заняться высшим образованием              496\n",
       "автомобиль                                494\n",
       "сделка с подержанным автомобилем          486\n",
       "свой автомобиль                           478\n",
       "на покупку подержанного автомобиля        478\n",
       "автомобили                                478\n",
       "на покупку автомобиля                     471\n",
       "приобретение автомобиля                   461\n",
       "дополнительное образование                460\n",
       "сделка с автомобилем                      455\n",
       "высшее образование                        452\n",
       "образование                               447\n",
       "получение дополнительного образования     446\n",
       "получение образования                     442\n",
       "профильное образование                    436\n",
       "получение высшего образования             426\n",
       "заняться образованием                     408\n",
       "Name: purpose, dtype: int64"
      ]
     },
     "execution_count": 34,
     "metadata": {},
     "output_type": "execute_result"
    }
   ],
   "source": [
    "borrower_reliability['purpose'].value_counts()"
   ]
  },
  {
   "cell_type": "code",
   "execution_count": 35,
   "id": "1259f60b",
   "metadata": {},
   "outputs": [
    {
     "data": {
      "text/html": [
       "<div>\n",
       "<style scoped>\n",
       "    .dataframe tbody tr th:only-of-type {\n",
       "        vertical-align: middle;\n",
       "    }\n",
       "\n",
       "    .dataframe tbody tr th {\n",
       "        vertical-align: top;\n",
       "    }\n",
       "\n",
       "    .dataframe thead th {\n",
       "        text-align: right;\n",
       "    }\n",
       "</style>\n",
       "<table border=\"1\" class=\"dataframe\">\n",
       "  <thead>\n",
       "    <tr style=\"text-align: right;\">\n",
       "      <th></th>\n",
       "      <th>children</th>\n",
       "      <th>dob_years</th>\n",
       "      <th>education_id</th>\n",
       "      <th>family_status_id</th>\n",
       "      <th>gender</th>\n",
       "      <th>income_type</th>\n",
       "      <th>debt</th>\n",
       "      <th>total_income</th>\n",
       "      <th>purpose</th>\n",
       "      <th>total_income_category</th>\n",
       "      <th>purpose_category</th>\n",
       "    </tr>\n",
       "  </thead>\n",
       "  <tbody>\n",
       "    <tr>\n",
       "      <th>0</th>\n",
       "      <td>1</td>\n",
       "      <td>42</td>\n",
       "      <td>0</td>\n",
       "      <td>0</td>\n",
       "      <td>F</td>\n",
       "      <td>сотрудник</td>\n",
       "      <td>0</td>\n",
       "      <td>253875</td>\n",
       "      <td>покупка жилья</td>\n",
       "      <td>B</td>\n",
       "      <td>операции с недвижимостью</td>\n",
       "    </tr>\n",
       "    <tr>\n",
       "      <th>1</th>\n",
       "      <td>1</td>\n",
       "      <td>36</td>\n",
       "      <td>1</td>\n",
       "      <td>0</td>\n",
       "      <td>F</td>\n",
       "      <td>сотрудник</td>\n",
       "      <td>0</td>\n",
       "      <td>112080</td>\n",
       "      <td>приобретение автомобиля</td>\n",
       "      <td>C</td>\n",
       "      <td>операции с автомобилем</td>\n",
       "    </tr>\n",
       "    <tr>\n",
       "      <th>2</th>\n",
       "      <td>0</td>\n",
       "      <td>33</td>\n",
       "      <td>1</td>\n",
       "      <td>0</td>\n",
       "      <td>M</td>\n",
       "      <td>сотрудник</td>\n",
       "      <td>0</td>\n",
       "      <td>145885</td>\n",
       "      <td>покупка жилья</td>\n",
       "      <td>C</td>\n",
       "      <td>операции с недвижимостью</td>\n",
       "    </tr>\n",
       "    <tr>\n",
       "      <th>3</th>\n",
       "      <td>3</td>\n",
       "      <td>32</td>\n",
       "      <td>1</td>\n",
       "      <td>0</td>\n",
       "      <td>M</td>\n",
       "      <td>сотрудник</td>\n",
       "      <td>0</td>\n",
       "      <td>267628</td>\n",
       "      <td>дополнительное образование</td>\n",
       "      <td>B</td>\n",
       "      <td>получение образования</td>\n",
       "    </tr>\n",
       "    <tr>\n",
       "      <th>4</th>\n",
       "      <td>0</td>\n",
       "      <td>53</td>\n",
       "      <td>1</td>\n",
       "      <td>1</td>\n",
       "      <td>F</td>\n",
       "      <td>пенсионер</td>\n",
       "      <td>0</td>\n",
       "      <td>158616</td>\n",
       "      <td>сыграть свадьбу</td>\n",
       "      <td>C</td>\n",
       "      <td>проведение свадьбы</td>\n",
       "    </tr>\n",
       "  </tbody>\n",
       "</table>\n",
       "</div>"
      ],
      "text/plain": [
       "   children  dob_years  education_id  family_status_id gender income_type  \\\n",
       "0         1         42             0                 0      F   сотрудник   \n",
       "1         1         36             1                 0      F   сотрудник   \n",
       "2         0         33             1                 0      M   сотрудник   \n",
       "3         3         32             1                 0      M   сотрудник   \n",
       "4         0         53             1                 1      F   пенсионер   \n",
       "\n",
       "   debt  total_income                     purpose total_income_category  \\\n",
       "0     0        253875               покупка жилья                     B   \n",
       "1     0        112080     приобретение автомобиля                     C   \n",
       "2     0        145885               покупка жилья                     C   \n",
       "3     0        267628  дополнительное образование                     B   \n",
       "4     0        158616             сыграть свадьбу                     C   \n",
       "\n",
       "           purpose_category  \n",
       "0  операции с недвижимостью  \n",
       "1    операции с автомобилем  \n",
       "2  операции с недвижимостью  \n",
       "3     получение образования  \n",
       "4        проведение свадьбы  "
      ]
     },
     "execution_count": 35,
     "metadata": {},
     "output_type": "execute_result"
    }
   ],
   "source": [
    "def purpose_category(i):\n",
    "    if \"автомобил\" in i:\n",
    "        return 'операции с автомобилем'\n",
    "    elif 'недвиж' in i or 'жиль' in i:\n",
    "        return 'операции с недвижимостью'\n",
    "    elif 'свадьб' in i:\n",
    "        return 'проведение свадьбы'\n",
    "    else:\n",
    "        return 'получение образования'\n",
    "    \n",
    "borrower_reliability['purpose_category']=borrower_reliability['purpose'].apply(purpose_category) \n",
    "borrower_reliability.head()"
   ]
  },
  {
   "cell_type": "code",
   "execution_count": 36,
   "id": "0df20e23",
   "metadata": {},
   "outputs": [
    {
     "data": {
      "text/plain": [
       "операции с недвижимостью    10811\n",
       "операции с автомобилем       4306\n",
       "получение образования        4013\n",
       "проведение свадьбы           2324\n",
       "Name: purpose_category, dtype: int64"
      ]
     },
     "execution_count": 36,
     "metadata": {},
     "output_type": "execute_result"
    }
   ],
   "source": [
    "borrower_reliability['purpose_category'].value_counts()"
   ]
  },
  {
   "cell_type": "markdown",
   "id": "ba808db7",
   "metadata": {},
   "source": [
    "### Ответы на вопросы."
   ]
  },
  {
   "cell_type": "markdown",
   "id": "84437435",
   "metadata": {},
   "source": [
    "##### Вопрос 1: Есть ли зависимость между наличием детей и возвратом кредита в срок?"
   ]
  },
  {
   "cell_type": "markdown",
   "id": "e01dd229",
   "metadata": {},
   "source": [
    "Сформирует **сводную таблицу** которая покажет количество **задолженности ('debt')** по количеству детей:"
   ]
  },
  {
   "cell_type": "code",
   "execution_count": 37,
   "id": "a0275e31",
   "metadata": {},
   "outputs": [
    {
     "data": {
      "text/html": [
       "<div>\n",
       "<style scoped>\n",
       "    .dataframe tbody tr th:only-of-type {\n",
       "        vertical-align: middle;\n",
       "    }\n",
       "\n",
       "    .dataframe tbody tr th {\n",
       "        vertical-align: top;\n",
       "    }\n",
       "\n",
       "    .dataframe thead th {\n",
       "        text-align: right;\n",
       "    }\n",
       "</style>\n",
       "<table border=\"1\" class=\"dataframe\">\n",
       "  <thead>\n",
       "    <tr style=\"text-align: right;\">\n",
       "      <th></th>\n",
       "      <th>Задолженность</th>\n",
       "    </tr>\n",
       "    <tr>\n",
       "      <th>children</th>\n",
       "      <th></th>\n",
       "    </tr>\n",
       "  </thead>\n",
       "  <tbody>\n",
       "    <tr>\n",
       "      <th>0</th>\n",
       "      <td>1063</td>\n",
       "    </tr>\n",
       "    <tr>\n",
       "      <th>1</th>\n",
       "      <td>445</td>\n",
       "    </tr>\n",
       "    <tr>\n",
       "      <th>2</th>\n",
       "      <td>202</td>\n",
       "    </tr>\n",
       "    <tr>\n",
       "      <th>3</th>\n",
       "      <td>27</td>\n",
       "    </tr>\n",
       "    <tr>\n",
       "      <th>4</th>\n",
       "      <td>4</td>\n",
       "    </tr>\n",
       "    <tr>\n",
       "      <th>5</th>\n",
       "      <td>0</td>\n",
       "    </tr>\n",
       "  </tbody>\n",
       "</table>\n",
       "</div>"
      ],
      "text/plain": [
       "          Задолженность\n",
       "children               \n",
       "0                  1063\n",
       "1                   445\n",
       "2                   202\n",
       "3                    27\n",
       "4                     4\n",
       "5                     0"
      ]
     },
     "execution_count": 37,
     "metadata": {},
     "output_type": "execute_result"
    }
   ],
   "source": [
    "data_pivot_children = borrower_reliability.pivot_table(index=['children'], values=['debt'], aggfunc='sum')\n",
    "data_pivot_children.columns = ['Задолженность']\n",
    "data_pivot_children"
   ]
  },
  {
   "cell_type": "code",
   "execution_count": 38,
   "id": "d3a0ba6e",
   "metadata": {},
   "outputs": [
    {
     "data": {
      "text/html": [
       "<div>\n",
       "<style scoped>\n",
       "    .dataframe tbody tr th:only-of-type {\n",
       "        vertical-align: middle;\n",
       "    }\n",
       "\n",
       "    .dataframe tbody tr th {\n",
       "        vertical-align: top;\n",
       "    }\n",
       "\n",
       "    .dataframe thead tr th {\n",
       "        text-align: left;\n",
       "    }\n",
       "\n",
       "    .dataframe thead tr:last-of-type th {\n",
       "        text-align: right;\n",
       "    }\n",
       "</style>\n",
       "<table border=\"1\" class=\"dataframe\">\n",
       "  <thead>\n",
       "    <tr>\n",
       "      <th></th>\n",
       "      <th colspan=\"3\" halign=\"left\">debt</th>\n",
       "    </tr>\n",
       "    <tr>\n",
       "      <th></th>\n",
       "      <th>sum</th>\n",
       "      <th>count</th>\n",
       "      <th>% не выплат</th>\n",
       "    </tr>\n",
       "    <tr>\n",
       "      <th>children</th>\n",
       "      <th></th>\n",
       "      <th></th>\n",
       "      <th></th>\n",
       "    </tr>\n",
       "  </thead>\n",
       "  <tbody>\n",
       "    <tr>\n",
       "      <th>0</th>\n",
       "      <td>1063</td>\n",
       "      <td>14091</td>\n",
       "      <td>7.543822</td>\n",
       "    </tr>\n",
       "    <tr>\n",
       "      <th>1</th>\n",
       "      <td>445</td>\n",
       "      <td>4855</td>\n",
       "      <td>9.165808</td>\n",
       "    </tr>\n",
       "    <tr>\n",
       "      <th>2</th>\n",
       "      <td>202</td>\n",
       "      <td>2128</td>\n",
       "      <td>9.492481</td>\n",
       "    </tr>\n",
       "    <tr>\n",
       "      <th>3</th>\n",
       "      <td>27</td>\n",
       "      <td>330</td>\n",
       "      <td>8.181818</td>\n",
       "    </tr>\n",
       "    <tr>\n",
       "      <th>4</th>\n",
       "      <td>4</td>\n",
       "      <td>41</td>\n",
       "      <td>9.756098</td>\n",
       "    </tr>\n",
       "    <tr>\n",
       "      <th>5</th>\n",
       "      <td>0</td>\n",
       "      <td>9</td>\n",
       "      <td>0.000000</td>\n",
       "    </tr>\n",
       "  </tbody>\n",
       "</table>\n",
       "</div>"
      ],
      "text/plain": [
       "          debt                   \n",
       "           sum  count % не выплат\n",
       "children                         \n",
       "0         1063  14091    7.543822\n",
       "1          445   4855    9.165808\n",
       "2          202   2128    9.492481\n",
       "3           27    330    8.181818\n",
       "4            4     41    9.756098\n",
       "5            0      9    0.000000"
      ]
     },
     "execution_count": 38,
     "metadata": {},
     "output_type": "execute_result"
    }
   ],
   "source": [
    "def analyse_debt(column_list):\n",
    "    analyse_table = borrower_reliability.groupby(column_list).agg({'debt':['sum', 'count']})\n",
    "    analyse_table[('debt', '% не выплат')] = analyse_table[('debt', 'sum')] / analyse_table[('debt', 'count')]*100\n",
    "    return analyse_table\n",
    "\n",
    "analyse_debt(['children'])"
   ]
  },
  {
   "cell_type": "markdown",
   "id": "469308ef",
   "metadata": {},
   "source": [
    "##### Вывод 1:\n",
    "Из полученных данных видно, что больше всего берут кредиты те у кого нет детей, количество \n",
    "не выплат у них тоже выше остальных. Но процент не выплат у данной категории самый низкий на уровне 7,5%\n",
    "   \n",
    "Далее идут люди у которых 1 ребенок, процент не выплат у них уже выше и достигает 9,15%\n",
    "\n",
    "У кого 2 ребенка высокий процент не выплаты кредита - 9,48% (почти как и в ситуации с 4 детьми), хотя по поддержке государства за второго ребенка семьи получают материнский капиталл."
   ]
  },
  {
   "cell_type": "markdown",
   "id": "cd796781",
   "metadata": {},
   "source": [
    "##### Вопрос 2: Есть ли зависимость между семейным положением и возвратом кредита в срок?"
   ]
  },
  {
   "cell_type": "code",
   "execution_count": 39,
   "id": "700cce8f",
   "metadata": {},
   "outputs": [
    {
     "data": {
      "text/html": [
       "<div>\n",
       "<style scoped>\n",
       "    .dataframe tbody tr th:only-of-type {\n",
       "        vertical-align: middle;\n",
       "    }\n",
       "\n",
       "    .dataframe tbody tr th {\n",
       "        vertical-align: top;\n",
       "    }\n",
       "\n",
       "    .dataframe thead tr th {\n",
       "        text-align: left;\n",
       "    }\n",
       "\n",
       "    .dataframe thead tr:last-of-type th {\n",
       "        text-align: right;\n",
       "    }\n",
       "</style>\n",
       "<table border=\"1\" class=\"dataframe\">\n",
       "  <thead>\n",
       "    <tr>\n",
       "      <th></th>\n",
       "      <th colspan=\"3\" halign=\"left\">debt</th>\n",
       "    </tr>\n",
       "    <tr>\n",
       "      <th></th>\n",
       "      <th>sum</th>\n",
       "      <th>count</th>\n",
       "      <th>% не выплат</th>\n",
       "    </tr>\n",
       "    <tr>\n",
       "      <th>family_status_id</th>\n",
       "      <th></th>\n",
       "      <th></th>\n",
       "      <th></th>\n",
       "    </tr>\n",
       "  </thead>\n",
       "  <tbody>\n",
       "    <tr>\n",
       "      <th>0</th>\n",
       "      <td>931</td>\n",
       "      <td>12339</td>\n",
       "      <td>7.545182</td>\n",
       "    </tr>\n",
       "    <tr>\n",
       "      <th>1</th>\n",
       "      <td>388</td>\n",
       "      <td>4151</td>\n",
       "      <td>9.347145</td>\n",
       "    </tr>\n",
       "    <tr>\n",
       "      <th>2</th>\n",
       "      <td>63</td>\n",
       "      <td>959</td>\n",
       "      <td>6.569343</td>\n",
       "    </tr>\n",
       "    <tr>\n",
       "      <th>3</th>\n",
       "      <td>85</td>\n",
       "      <td>1195</td>\n",
       "      <td>7.112971</td>\n",
       "    </tr>\n",
       "    <tr>\n",
       "      <th>4</th>\n",
       "      <td>274</td>\n",
       "      <td>2810</td>\n",
       "      <td>9.750890</td>\n",
       "    </tr>\n",
       "  </tbody>\n",
       "</table>\n",
       "</div>"
      ],
      "text/plain": [
       "                 debt                   \n",
       "                  sum  count % не выплат\n",
       "family_status_id                        \n",
       "0                 931  12339    7.545182\n",
       "1                 388   4151    9.347145\n",
       "2                  63    959    6.569343\n",
       "3                  85   1195    7.112971\n",
       "4                 274   2810    9.750890"
      ]
     },
     "execution_count": 39,
     "metadata": {},
     "output_type": "execute_result"
    }
   ],
   "source": [
    "data_pivot_children = borrower_reliability.pivot_table(index=['family_status_id'], values=['debt'], aggfunc='sum')\n",
    "analyse_debt(['family_status_id'])"
   ]
  },
  {
   "cell_type": "markdown",
   "id": "4bc3687c",
   "metadata": {},
   "source": [
    "##### Вывод 2:\n",
    "Из полученных данных видно, что больше всего берут кредиты **0-женатые/замужние**, количество \n",
    "не выплат у них тоже выше остальных. Но процент не выплат у данной категории низкий на уровне 7,5%\n",
    "Ниже процент не выплат у **3-в разводе** и равен 7,1%\n",
    "\n",
    "Самый низкий процент не выплат имеют **2-вдовец/вдова** - на уровне 6,6%\n",
    "   \n",
    "Категории **1-гражданский брак** и **4-не женат/не замужем** имеют процент не выплат в районе 9.3-9.8%"
   ]
  },
  {
   "cell_type": "markdown",
   "id": "c9e4faf1",
   "metadata": {},
   "source": [
    "##### Вопрос 3: Есть ли зависимость между уровнем дохода и возвратом кредита в срок?"
   ]
  },
  {
   "cell_type": "code",
   "execution_count": 40,
   "id": "2bfa2cca",
   "metadata": {},
   "outputs": [
    {
     "data": {
      "text/html": [
       "<div>\n",
       "<style scoped>\n",
       "    .dataframe tbody tr th:only-of-type {\n",
       "        vertical-align: middle;\n",
       "    }\n",
       "\n",
       "    .dataframe tbody tr th {\n",
       "        vertical-align: top;\n",
       "    }\n",
       "\n",
       "    .dataframe thead tr th {\n",
       "        text-align: left;\n",
       "    }\n",
       "\n",
       "    .dataframe thead tr:last-of-type th {\n",
       "        text-align: right;\n",
       "    }\n",
       "</style>\n",
       "<table border=\"1\" class=\"dataframe\">\n",
       "  <thead>\n",
       "    <tr>\n",
       "      <th></th>\n",
       "      <th colspan=\"3\" halign=\"left\">debt</th>\n",
       "    </tr>\n",
       "    <tr>\n",
       "      <th></th>\n",
       "      <th>sum</th>\n",
       "      <th>count</th>\n",
       "      <th>% не выплат</th>\n",
       "    </tr>\n",
       "    <tr>\n",
       "      <th>total_income_category</th>\n",
       "      <th></th>\n",
       "      <th></th>\n",
       "      <th></th>\n",
       "    </tr>\n",
       "  </thead>\n",
       "  <tbody>\n",
       "    <tr>\n",
       "      <th>A</th>\n",
       "      <td>2</td>\n",
       "      <td>25</td>\n",
       "      <td>8.000000</td>\n",
       "    </tr>\n",
       "    <tr>\n",
       "      <th>B</th>\n",
       "      <td>356</td>\n",
       "      <td>5042</td>\n",
       "      <td>7.060690</td>\n",
       "    </tr>\n",
       "    <tr>\n",
       "      <th>C</th>\n",
       "      <td>1360</td>\n",
       "      <td>16015</td>\n",
       "      <td>8.492039</td>\n",
       "    </tr>\n",
       "    <tr>\n",
       "      <th>D</th>\n",
       "      <td>21</td>\n",
       "      <td>350</td>\n",
       "      <td>6.000000</td>\n",
       "    </tr>\n",
       "    <tr>\n",
       "      <th>E</th>\n",
       "      <td>2</td>\n",
       "      <td>22</td>\n",
       "      <td>9.090909</td>\n",
       "    </tr>\n",
       "  </tbody>\n",
       "</table>\n",
       "</div>"
      ],
      "text/plain": [
       "                       debt                   \n",
       "                        sum  count % не выплат\n",
       "total_income_category                         \n",
       "A                         2     25    8.000000\n",
       "B                       356   5042    7.060690\n",
       "C                      1360  16015    8.492039\n",
       "D                        21    350    6.000000\n",
       "E                         2     22    9.090909"
      ]
     },
     "execution_count": 40,
     "metadata": {},
     "output_type": "execute_result"
    }
   ],
   "source": [
    "\n",
    "analyse_debt(['total_income_category'])"
   ]
  },
  {
   "cell_type": "markdown",
   "id": "d880248a",
   "metadata": {},
   "source": [
    "##### Вывод 3:\n",
    "\n",
    "Самый большая часть которая берет кредиты это люди с зп **\"С\"(50-200 тыс)**. Она практически в 3 раза больше всех остальные вместе взятых категорий. Процент не выплат составляет при этом 8,5%\n",
    "\n",
    "На 2 месте люди с доходом **\"B\"(200-1000тыс)**, доля кредитов значительно меньше категории С. Процент не выплат составляет 7,1%\n",
    "\n",
    "Самый низкий процент не выплат имеют люди с зп **\"D\"(30-50тыс)** он равен 6%\n",
    "\n",
    "Люди с доходом свыше 1млн и ниже 30тыс, особо не берут кредиты, но при этом имеют 8% и 9% соответственно\n"
   ]
  },
  {
   "cell_type": "markdown",
   "id": "c94e289b",
   "metadata": {},
   "source": [
    "##### Вопрос 4: Как разные цели кредита влияют на его возврат в срок?"
   ]
  },
  {
   "cell_type": "code",
   "execution_count": 41,
   "id": "8b820659",
   "metadata": {},
   "outputs": [
    {
     "data": {
      "text/html": [
       "<div>\n",
       "<style scoped>\n",
       "    .dataframe tbody tr th:only-of-type {\n",
       "        vertical-align: middle;\n",
       "    }\n",
       "\n",
       "    .dataframe tbody tr th {\n",
       "        vertical-align: top;\n",
       "    }\n",
       "\n",
       "    .dataframe thead tr th {\n",
       "        text-align: left;\n",
       "    }\n",
       "\n",
       "    .dataframe thead tr:last-of-type th {\n",
       "        text-align: right;\n",
       "    }\n",
       "</style>\n",
       "<table border=\"1\" class=\"dataframe\">\n",
       "  <thead>\n",
       "    <tr>\n",
       "      <th></th>\n",
       "      <th colspan=\"3\" halign=\"left\">debt</th>\n",
       "    </tr>\n",
       "    <tr>\n",
       "      <th></th>\n",
       "      <th>sum</th>\n",
       "      <th>count</th>\n",
       "      <th>% не выплат</th>\n",
       "    </tr>\n",
       "    <tr>\n",
       "      <th>purpose_category</th>\n",
       "      <th></th>\n",
       "      <th></th>\n",
       "      <th></th>\n",
       "    </tr>\n",
       "  </thead>\n",
       "  <tbody>\n",
       "    <tr>\n",
       "      <th>операции с автомобилем</th>\n",
       "      <td>403</td>\n",
       "      <td>4306</td>\n",
       "      <td>9.359034</td>\n",
       "    </tr>\n",
       "    <tr>\n",
       "      <th>операции с недвижимостью</th>\n",
       "      <td>782</td>\n",
       "      <td>10811</td>\n",
       "      <td>7.233373</td>\n",
       "    </tr>\n",
       "    <tr>\n",
       "      <th>получение образования</th>\n",
       "      <td>370</td>\n",
       "      <td>4013</td>\n",
       "      <td>9.220035</td>\n",
       "    </tr>\n",
       "    <tr>\n",
       "      <th>проведение свадьбы</th>\n",
       "      <td>186</td>\n",
       "      <td>2324</td>\n",
       "      <td>8.003442</td>\n",
       "    </tr>\n",
       "  </tbody>\n",
       "</table>\n",
       "</div>"
      ],
      "text/plain": [
       "                         debt                   \n",
       "                          sum  count % не выплат\n",
       "purpose_category                                \n",
       "операции с автомобилем    403   4306    9.359034\n",
       "операции с недвижимостью  782  10811    7.233373\n",
       "получение образования     370   4013    9.220035\n",
       "проведение свадьбы        186   2324    8.003442"
      ]
     },
     "execution_count": 41,
     "metadata": {},
     "output_type": "execute_result"
    }
   ],
   "source": [
    "analyse_debt(['purpose_category'])"
   ]
  },
  {
   "cell_type": "markdown",
   "id": "370061ec",
   "metadata": {},
   "source": [
    "##### Вывод 4:\n",
    "\n",
    "Больше всего кредитов имеет категория **\"операции с недвижимостью\"**, но зато доля просрочек по категории 7,2% - самая низкая.\n",
    "\n",
    "В категориях **\"операции с автомобилем\"** и **\"получение образования\"** число взятых кредитов, а также процент невыплат примерно одинаков и составляет около 9,2-9.3%.\n",
    "\n",
    "Не выплат в более мелкой категории **\"проведение свадьбы\"** и доля просрочек 7,9% (всего на 0,7% выше чем **\"недвижимость\"**) - невысоко по сравнению **\"операции с автомобилем\"** и **\"получение образования\"**.\n",
    "  "
   ]
  },
  {
   "cell_type": "markdown",
   "id": "9ba05ae4",
   "metadata": {},
   "source": [
    "## Общий вывод:"
   ]
  },
  {
   "cell_type": "markdown",
   "id": "26b00713",
   "metadata": {},
   "source": [
    "В ходе процесса мы проанализировали данные.  \n",
    "\n",
    "При предобработке данных было удалено около 1% некорректных строк и 1 некорректный столбец(который для поставленных задач не был необходим).\n",
    "\n",
    "Поменяли в 1 столбце типы - для лучшей наглядности и более быстрой обработки. Удалили дубликаты. \n",
    "\n",
    "Для одного столбца сделали категоризацию.\n",
    "\n",
    "После подготовки данных, сделали сводные таблицы (ипользовали функцию) и ответили на все 4 поставленных вопроса.\n",
    "\n",
    "Были выявили закономерности в просрочках по кредитам(где-то ярко выраженные, а где-то нет).\n"
   ]
  }
 ],
 "metadata": {
  "ExecuteTimeLog": [
   {
    "duration": 1239,
    "start_time": "2022-03-09T07:12:23.825Z"
   },
   {
    "duration": 773,
    "start_time": "2022-03-09T07:15:38.911Z"
   },
   {
    "duration": 914,
    "start_time": "2022-03-09T07:15:51.876Z"
   },
   {
    "duration": 295,
    "start_time": "2022-03-09T07:16:29.605Z"
   },
   {
    "duration": 349,
    "start_time": "2022-03-09T10:33:33.925Z"
   },
   {
    "duration": 88,
    "start_time": "2022-03-09T10:35:03.756Z"
   },
   {
    "duration": 68,
    "start_time": "2022-03-09T10:42:37.552Z"
   },
   {
    "duration": 71,
    "start_time": "2022-03-09T10:43:06.007Z"
   },
   {
    "duration": 30,
    "start_time": "2022-03-09T10:48:45.932Z"
   },
   {
    "duration": 13,
    "start_time": "2022-03-09T10:49:07.516Z"
   },
   {
    "duration": 328,
    "start_time": "2022-03-09T11:09:47.883Z"
   },
   {
    "duration": 22,
    "start_time": "2022-03-09T11:10:02.395Z"
   },
   {
    "duration": 316,
    "start_time": "2022-03-09T11:10:58.689Z"
   },
   {
    "duration": 15,
    "start_time": "2022-03-09T11:11:36.305Z"
   },
   {
    "duration": 70,
    "start_time": "2022-03-09T11:11:51.386Z"
   },
   {
    "duration": 94,
    "start_time": "2022-03-09T11:12:05.225Z"
   },
   {
    "duration": 7659,
    "start_time": "2022-03-09T11:14:07.905Z"
   },
   {
    "duration": 28,
    "start_time": "2022-03-09T11:15:19.224Z"
   },
   {
    "duration": 38,
    "start_time": "2022-03-09T11:15:32.503Z"
   },
   {
    "duration": -42,
    "start_time": "2022-03-09T11:16:36.577Z"
   },
   {
    "duration": 39,
    "start_time": "2022-03-09T11:16:41.014Z"
   },
   {
    "duration": 41,
    "start_time": "2022-03-09T11:17:01.430Z"
   },
   {
    "duration": 38,
    "start_time": "2022-03-09T11:17:26.246Z"
   },
   {
    "duration": 72,
    "start_time": "2022-03-09T11:23:07.939Z"
   },
   {
    "duration": 67,
    "start_time": "2022-03-09T11:23:34.578Z"
   },
   {
    "duration": 83,
    "start_time": "2022-03-09T11:24:09.290Z"
   },
   {
    "duration": 68,
    "start_time": "2022-03-09T11:24:31.714Z"
   },
   {
    "duration": 12,
    "start_time": "2022-03-09T11:25:41.498Z"
   },
   {
    "duration": 126,
    "start_time": "2022-03-09T11:35:20.517Z"
   },
   {
    "duration": 16,
    "start_time": "2022-03-09T11:36:25.620Z"
   },
   {
    "duration": 402,
    "start_time": "2022-03-09T11:36:42.485Z"
   },
   {
    "duration": 21,
    "start_time": "2022-03-09T11:36:51.149Z"
   },
   {
    "duration": 75,
    "start_time": "2022-03-09T11:37:07.316Z"
   },
   {
    "duration": 345,
    "start_time": "2022-03-09T11:52:24.820Z"
   },
   {
    "duration": 16,
    "start_time": "2022-03-09T11:52:41.203Z"
   },
   {
    "duration": 324,
    "start_time": "2022-03-09T11:53:37.283Z"
   },
   {
    "duration": 315,
    "start_time": "2022-03-09T11:53:50.275Z"
   },
   {
    "duration": 20,
    "start_time": "2022-03-09T11:55:20.643Z"
   },
   {
    "duration": 11,
    "start_time": "2022-03-09T11:56:16.186Z"
   },
   {
    "duration": 15,
    "start_time": "2022-03-09T11:56:28.946Z"
   },
   {
    "duration": 18,
    "start_time": "2022-03-09T11:57:36.713Z"
   },
   {
    "duration": 16,
    "start_time": "2022-03-09T11:58:08.177Z"
   },
   {
    "duration": 16,
    "start_time": "2022-03-09T11:58:35.256Z"
   },
   {
    "duration": 26,
    "start_time": "2022-03-09T12:31:25.483Z"
   },
   {
    "duration": 25,
    "start_time": "2022-03-09T12:31:56.705Z"
   },
   {
    "duration": 23,
    "start_time": "2022-03-09T12:32:20.842Z"
   },
   {
    "duration": 28,
    "start_time": "2022-03-09T12:32:39.169Z"
   },
   {
    "duration": 33,
    "start_time": "2022-03-09T12:32:59.601Z"
   },
   {
    "duration": 48,
    "start_time": "2022-03-09T12:33:58.666Z"
   },
   {
    "duration": 26,
    "start_time": "2022-03-09T12:36:28.281Z"
   },
   {
    "duration": 41,
    "start_time": "2022-03-09T14:26:59.955Z"
   },
   {
    "duration": 45,
    "start_time": "2022-03-09T14:28:24.825Z"
   },
   {
    "duration": 27,
    "start_time": "2022-03-09T14:28:58.410Z"
   },
   {
    "duration": 31,
    "start_time": "2022-03-09T14:30:18.425Z"
   },
   {
    "duration": 27,
    "start_time": "2022-03-09T14:31:05.800Z"
   },
   {
    "duration": 11,
    "start_time": "2022-03-09T14:32:38.353Z"
   },
   {
    "duration": 12,
    "start_time": "2022-03-09T14:33:02.823Z"
   },
   {
    "duration": 12,
    "start_time": "2022-03-09T14:33:20.079Z"
   },
   {
    "duration": 62,
    "start_time": "2022-03-09T14:43:28.738Z"
   },
   {
    "duration": 73,
    "start_time": "2022-03-09T14:43:47.401Z"
   },
   {
    "duration": 81,
    "start_time": "2022-03-09T14:43:57.185Z"
   },
   {
    "duration": 70,
    "start_time": "2022-03-09T14:45:16.161Z"
   },
   {
    "duration": 70,
    "start_time": "2022-03-09T14:54:01.253Z"
   },
   {
    "duration": 8,
    "start_time": "2022-03-09T15:01:39.506Z"
   },
   {
    "duration": 9,
    "start_time": "2022-03-09T15:02:17.785Z"
   },
   {
    "duration": 13,
    "start_time": "2022-03-09T15:06:50.296Z"
   },
   {
    "duration": 72,
    "start_time": "2022-03-09T15:07:14.848Z"
   },
   {
    "duration": 12,
    "start_time": "2022-03-09T15:07:20.359Z"
   },
   {
    "duration": 12,
    "start_time": "2022-03-09T15:08:21.654Z"
   },
   {
    "duration": 11,
    "start_time": "2022-03-09T15:14:18.259Z"
   },
   {
    "duration": 11,
    "start_time": "2022-03-09T15:14:48.661Z"
   },
   {
    "duration": 9,
    "start_time": "2022-03-09T15:19:16.737Z"
   },
   {
    "duration": 9,
    "start_time": "2022-03-09T15:19:40.025Z"
   },
   {
    "duration": 10,
    "start_time": "2022-03-09T15:27:45.102Z"
   },
   {
    "duration": 10,
    "start_time": "2022-03-09T15:44:08.110Z"
   },
   {
    "duration": 11,
    "start_time": "2022-03-09T15:45:03.253Z"
   },
   {
    "duration": 8,
    "start_time": "2022-03-09T15:46:29.804Z"
   },
   {
    "duration": 12,
    "start_time": "2022-03-09T15:50:23.106Z"
   },
   {
    "duration": 23,
    "start_time": "2022-03-09T16:57:56.841Z"
   },
   {
    "duration": 22,
    "start_time": "2022-03-09T16:58:08.082Z"
   },
   {
    "duration": 23,
    "start_time": "2022-03-09T16:59:53.689Z"
   },
   {
    "duration": 24,
    "start_time": "2022-03-09T17:00:51.584Z"
   },
   {
    "duration": 23,
    "start_time": "2022-03-09T17:01:23.552Z"
   },
   {
    "duration": 33,
    "start_time": "2022-03-09T17:01:57.079Z"
   },
   {
    "duration": 23,
    "start_time": "2022-03-09T17:02:25.559Z"
   },
   {
    "duration": 24,
    "start_time": "2022-03-09T17:03:21.118Z"
   },
   {
    "duration": 17,
    "start_time": "2022-03-09T17:08:45.173Z"
   },
   {
    "duration": 27,
    "start_time": "2022-03-09T17:09:10.140Z"
   },
   {
    "duration": 42,
    "start_time": "2022-03-09T17:13:10.595Z"
   },
   {
    "duration": 25,
    "start_time": "2022-03-09T17:13:18.634Z"
   },
   {
    "duration": 88,
    "start_time": "2022-03-09T17:16:01.114Z"
   },
   {
    "duration": 88,
    "start_time": "2022-03-09T17:16:10.032Z"
   },
   {
    "duration": 53,
    "start_time": "2022-03-09T17:16:54.664Z"
   },
   {
    "duration": 43,
    "start_time": "2022-03-09T17:17:15.432Z"
   },
   {
    "duration": 35,
    "start_time": "2022-03-09T17:17:39.367Z"
   },
   {
    "duration": 84,
    "start_time": "2022-03-09T17:18:23.992Z"
   },
   {
    "duration": 77,
    "start_time": "2022-03-09T17:18:41.503Z"
   },
   {
    "duration": 32,
    "start_time": "2022-03-09T17:20:06.862Z"
   },
   {
    "duration": 93,
    "start_time": "2022-03-09T17:20:43.638Z"
   },
   {
    "duration": 84,
    "start_time": "2022-03-09T17:20:50.270Z"
   },
   {
    "duration": 39,
    "start_time": "2022-03-09T17:21:57.766Z"
   },
   {
    "duration": 25,
    "start_time": "2022-03-09T17:22:17.037Z"
   },
   {
    "duration": 325,
    "start_time": "2022-03-09T17:32:18.687Z"
   },
   {
    "duration": 319,
    "start_time": "2022-03-09T17:33:38.696Z"
   },
   {
    "duration": 75,
    "start_time": "2022-03-09T17:34:32.704Z"
   },
   {
    "duration": 19,
    "start_time": "2022-03-09T17:34:43.703Z"
   },
   {
    "duration": 11,
    "start_time": "2022-03-09T17:46:33.524Z"
   },
   {
    "duration": 15,
    "start_time": "2022-03-09T17:47:14.833Z"
   },
   {
    "duration": 24,
    "start_time": "2022-03-09T17:47:40.265Z"
   },
   {
    "duration": 9,
    "start_time": "2022-03-09T18:00:01.292Z"
   },
   {
    "duration": 335,
    "start_time": "2022-03-09T18:00:27.331Z"
   },
   {
    "duration": 22,
    "start_time": "2022-03-09T18:00:35.362Z"
   },
   {
    "duration": 106,
    "start_time": "2022-03-09T18:18:40.043Z"
   },
   {
    "duration": 22,
    "start_time": "2022-03-09T18:37:13.985Z"
   },
   {
    "duration": -58,
    "start_time": "2022-03-09T18:42:55.349Z"
   },
   {
    "duration": 8416,
    "start_time": "2022-03-09T18:43:04.727Z"
   },
   {
    "duration": -56,
    "start_time": "2022-03-09T18:43:22.995Z"
   },
   {
    "duration": 8291,
    "start_time": "2022-03-09T18:43:58.318Z"
   },
   {
    "duration": 8172,
    "start_time": "2022-03-09T18:44:06.950Z"
   },
   {
    "duration": 8488,
    "start_time": "2022-03-09T18:45:20.542Z"
   },
   {
    "duration": 88,
    "start_time": "2022-03-09T18:45:46.534Z"
   },
   {
    "duration": 70,
    "start_time": "2022-03-09T18:45:52.598Z"
   },
   {
    "duration": 20,
    "start_time": "2022-03-09T18:46:07.134Z"
   },
   {
    "duration": 108,
    "start_time": "2022-03-09T18:50:09.835Z"
   },
   {
    "duration": 22,
    "start_time": "2022-03-09T19:06:48.876Z"
   },
   {
    "duration": 2163,
    "start_time": "2022-03-09T19:11:22.952Z"
   },
   {
    "duration": 333,
    "start_time": "2022-03-09T19:18:17.287Z"
   },
   {
    "duration": 33,
    "start_time": "2022-03-09T19:18:55.886Z"
   },
   {
    "duration": 12,
    "start_time": "2022-03-09T19:29:23.075Z"
   },
   {
    "duration": 14,
    "start_time": "2022-03-09T19:29:50.896Z"
   },
   {
    "duration": 403,
    "start_time": "2022-03-09T19:30:07.448Z"
   },
   {
    "duration": 15,
    "start_time": "2022-03-09T19:31:42.312Z"
   },
   {
    "duration": 480,
    "start_time": "2022-03-10T15:07:09.794Z"
   },
   {
    "duration": 352,
    "start_time": "2022-03-10T15:07:33.622Z"
   },
   {
    "duration": 10,
    "start_time": "2022-03-10T15:07:40.702Z"
   },
   {
    "duration": 378,
    "start_time": "2022-03-10T15:07:44.318Z"
   },
   {
    "duration": 324,
    "start_time": "2022-03-10T15:08:28.640Z"
   },
   {
    "duration": 16,
    "start_time": "2022-03-10T15:09:01.086Z"
   },
   {
    "duration": 149,
    "start_time": "2022-03-10T15:13:23.204Z"
   },
   {
    "duration": 153,
    "start_time": "2022-03-10T15:13:29.283Z"
   },
   {
    "duration": 9,
    "start_time": "2022-03-10T15:13:56.179Z"
   },
   {
    "duration": 16,
    "start_time": "2022-03-10T16:33:06.253Z"
   },
   {
    "duration": 372,
    "start_time": "2022-03-10T16:35:49.501Z"
   },
   {
    "duration": 333,
    "start_time": "2022-03-10T16:36:12.571Z"
   },
   {
    "duration": 16,
    "start_time": "2022-03-10T16:36:43.834Z"
   },
   {
    "duration": 25,
    "start_time": "2022-03-10T16:41:28.096Z"
   },
   {
    "duration": 32,
    "start_time": "2022-03-10T16:41:35.575Z"
   },
   {
    "duration": 37,
    "start_time": "2022-03-10T16:41:39.639Z"
   },
   {
    "duration": 33,
    "start_time": "2022-03-10T16:41:42.439Z"
   },
   {
    "duration": 9,
    "start_time": "2022-03-10T16:42:29.168Z"
   },
   {
    "duration": 16,
    "start_time": "2022-03-10T16:42:45.151Z"
   },
   {
    "duration": 9,
    "start_time": "2022-03-10T17:26:28.177Z"
   },
   {
    "duration": 26,
    "start_time": "2022-03-10T17:27:23.447Z"
   },
   {
    "duration": 9,
    "start_time": "2022-03-10T17:27:32.247Z"
   },
   {
    "duration": 308,
    "start_time": "2022-03-10T17:35:20.331Z"
   },
   {
    "duration": 12,
    "start_time": "2022-03-10T17:35:43.083Z"
   },
   {
    "duration": 95,
    "start_time": "2022-03-10T17:43:37.775Z"
   },
   {
    "duration": 28,
    "start_time": "2022-03-10T17:43:48.423Z"
   },
   {
    "duration": 15,
    "start_time": "2022-03-10T17:45:58.407Z"
   },
   {
    "duration": 11,
    "start_time": "2022-03-10T17:46:36.662Z"
   },
   {
    "duration": 1454,
    "start_time": "2022-03-10T18:15:51.192Z"
   },
   {
    "duration": 10998,
    "start_time": "2022-03-10T18:16:17.928Z"
   },
   {
    "duration": 9064,
    "start_time": "2022-03-10T18:17:02.367Z"
   },
   {
    "duration": 9142,
    "start_time": "2022-03-10T18:18:06.335Z"
   },
   {
    "duration": 413,
    "start_time": "2022-03-10T18:18:34.319Z"
   },
   {
    "duration": 4247,
    "start_time": "2022-03-10T18:19:39.230Z"
   },
   {
    "duration": 4370,
    "start_time": "2022-03-10T18:21:08.710Z"
   },
   {
    "duration": 4300,
    "start_time": "2022-03-10T18:22:50.405Z"
   },
   {
    "duration": 119,
    "start_time": "2022-03-10T18:25:02.716Z"
   },
   {
    "duration": 4340,
    "start_time": "2022-03-10T18:25:18.203Z"
   },
   {
    "duration": 4013,
    "start_time": "2022-03-10T18:30:44.272Z"
   },
   {
    "duration": 74,
    "start_time": "2022-03-10T18:33:03.739Z"
   },
   {
    "duration": 13,
    "start_time": "2022-03-10T18:33:09.839Z"
   },
   {
    "duration": 24,
    "start_time": "2022-03-10T18:33:21.558Z"
   },
   {
    "duration": 29,
    "start_time": "2022-03-10T18:33:44.910Z"
   },
   {
    "duration": 38,
    "start_time": "2022-03-10T18:34:57.278Z"
   },
   {
    "duration": 30,
    "start_time": "2022-03-10T18:36:22.180Z"
   },
   {
    "duration": 31,
    "start_time": "2022-03-10T18:38:01.276Z"
   },
   {
    "duration": 11,
    "start_time": "2022-03-10T18:39:26.027Z"
   },
   {
    "duration": 15,
    "start_time": "2022-03-10T18:56:06.020Z"
   },
   {
    "duration": 35,
    "start_time": "2022-03-10T18:57:14.835Z"
   },
   {
    "duration": 11,
    "start_time": "2022-03-10T18:57:59.050Z"
   },
   {
    "duration": 32,
    "start_time": "2022-03-10T18:58:40.170Z"
   },
   {
    "duration": 21,
    "start_time": "2022-03-10T19:15:32.448Z"
   },
   {
    "duration": 29,
    "start_time": "2022-03-10T19:16:19.209Z"
   },
   {
    "duration": 20,
    "start_time": "2022-03-10T19:16:29.136Z"
   },
   {
    "duration": 16,
    "start_time": "2022-03-10T19:17:03.161Z"
   },
   {
    "duration": 15,
    "start_time": "2022-03-10T19:19:05.631Z"
   },
   {
    "duration": 16,
    "start_time": "2022-03-10T19:19:30.087Z"
   },
   {
    "duration": 17,
    "start_time": "2022-03-10T19:20:28.351Z"
   },
   {
    "duration": 15,
    "start_time": "2022-03-10T19:20:44.037Z"
   },
   {
    "duration": 15,
    "start_time": "2022-03-10T19:20:55.935Z"
   },
   {
    "duration": 13,
    "start_time": "2022-03-10T19:21:18.038Z"
   },
   {
    "duration": 369,
    "start_time": "2022-03-10T19:23:58.325Z"
   },
   {
    "duration": 8493,
    "start_time": "2022-03-10T19:24:08.420Z"
   },
   {
    "duration": 79,
    "start_time": "2022-03-10T19:25:02.741Z"
   },
   {
    "duration": 16,
    "start_time": "2022-03-10T19:25:16.084Z"
   },
   {
    "duration": 399,
    "start_time": "2022-03-10T19:30:16.105Z"
   },
   {
    "duration": 506,
    "start_time": "2022-03-10T19:30:34.610Z"
   },
   {
    "duration": 65,
    "start_time": "2022-03-10T19:30:51.194Z"
   },
   {
    "duration": 16,
    "start_time": "2022-03-10T19:31:02.817Z"
   },
   {
    "duration": 20,
    "start_time": "2022-03-10T19:31:21.825Z"
   },
   {
    "duration": 16,
    "start_time": "2022-03-10T19:33:39.503Z"
   },
   {
    "duration": 20,
    "start_time": "2022-03-10T19:41:36.243Z"
   },
   {
    "duration": 17,
    "start_time": "2022-03-10T19:41:57.883Z"
   },
   {
    "duration": 20,
    "start_time": "2022-03-10T19:42:15.484Z"
   },
   {
    "duration": 33,
    "start_time": "2022-03-10T19:48:57.920Z"
   },
   {
    "duration": 845,
    "start_time": "2022-03-10T19:59:16.187Z"
   },
   {
    "duration": 820,
    "start_time": "2022-03-10T20:01:50.065Z"
   },
   {
    "duration": 110,
    "start_time": "2022-03-10T20:02:19.497Z"
   },
   {
    "duration": 94,
    "start_time": "2022-03-10T20:02:36.458Z"
   },
   {
    "duration": 37,
    "start_time": "2022-03-10T20:03:02.185Z"
   },
   {
    "duration": 386,
    "start_time": "2022-03-11T04:33:36.744Z"
   },
   {
    "duration": 339,
    "start_time": "2022-03-11T04:33:51.709Z"
   },
   {
    "duration": 50,
    "start_time": "2022-03-11T04:34:19.749Z"
   },
   {
    "duration": 21,
    "start_time": "2022-03-11T04:35:35.500Z"
   },
   {
    "duration": 135,
    "start_time": "2022-03-11T04:43:01.144Z"
   },
   {
    "duration": 21,
    "start_time": "2022-03-11T04:43:14.423Z"
   },
   {
    "duration": 819,
    "start_time": "2022-03-11T04:43:35.375Z"
   },
   {
    "duration": 22,
    "start_time": "2022-03-11T04:45:36.886Z"
   },
   {
    "duration": 510,
    "start_time": "2022-03-11T04:46:11.526Z"
   },
   {
    "duration": 22,
    "start_time": "2022-03-11T04:46:30.331Z"
   },
   {
    "duration": 21,
    "start_time": "2022-03-11T04:46:47.709Z"
   },
   {
    "duration": 18,
    "start_time": "2022-03-11T18:50:16.311Z"
   },
   {
    "duration": 30,
    "start_time": "2022-03-11T18:54:47.421Z"
   },
   {
    "duration": 318,
    "start_time": "2022-03-11T18:56:09.842Z"
   },
   {
    "duration": 78,
    "start_time": "2022-03-11T18:57:02.761Z"
   },
   {
    "duration": 14,
    "start_time": "2022-03-11T18:57:23.435Z"
   },
   {
    "duration": 622,
    "start_time": "2022-03-11T19:07:44.370Z"
   },
   {
    "duration": 31,
    "start_time": "2022-03-11T19:08:08.321Z"
   },
   {
    "duration": 73,
    "start_time": "2022-03-11T19:08:20.880Z"
   },
   {
    "duration": 71,
    "start_time": "2022-03-11T19:08:25.589Z"
   },
   {
    "duration": 26,
    "start_time": "2022-03-11T19:08:58.246Z"
   },
   {
    "duration": 30,
    "start_time": "2022-03-11T19:09:20.200Z"
   },
   {
    "duration": 48,
    "start_time": "2022-03-11T19:09:25.334Z"
   },
   {
    "duration": 22,
    "start_time": "2022-03-11T19:10:00.893Z"
   },
   {
    "duration": 178,
    "start_time": "2022-03-11T19:13:30.854Z"
   },
   {
    "duration": 750,
    "start_time": "2022-03-11T19:14:19.702Z"
   },
   {
    "duration": 30,
    "start_time": "2022-03-11T19:14:34.655Z"
   },
   {
    "duration": 28,
    "start_time": "2022-03-11T19:14:41.998Z"
   },
   {
    "duration": 132,
    "start_time": "2022-03-21T00:04:57.853Z"
   },
   {
    "duration": 182,
    "start_time": "2022-03-21T00:05:02.610Z"
   },
   {
    "duration": 440,
    "start_time": "2022-03-21T00:53:22.478Z"
   },
   {
    "duration": 50,
    "start_time": "2022-03-21T00:53:22.920Z"
   },
   {
    "duration": 5,
    "start_time": "2022-03-21T00:53:22.972Z"
   },
   {
    "duration": 24,
    "start_time": "2022-03-21T00:53:22.979Z"
   },
   {
    "duration": 13,
    "start_time": "2022-03-21T00:53:23.005Z"
   },
   {
    "duration": 19,
    "start_time": "2022-03-21T00:53:23.019Z"
   },
   {
    "duration": 14,
    "start_time": "2022-03-21T00:53:23.040Z"
   },
   {
    "duration": 29,
    "start_time": "2022-03-21T00:53:23.055Z"
   },
   {
    "duration": 21,
    "start_time": "2022-03-21T00:53:23.086Z"
   },
   {
    "duration": 31,
    "start_time": "2022-03-21T00:53:23.108Z"
   },
   {
    "duration": 10,
    "start_time": "2022-03-21T00:53:23.140Z"
   },
   {
    "duration": 16,
    "start_time": "2022-03-21T00:53:23.152Z"
   },
   {
    "duration": 21,
    "start_time": "2022-03-21T00:53:23.169Z"
   },
   {
    "duration": 21,
    "start_time": "2022-03-21T00:53:23.193Z"
   },
   {
    "duration": 12,
    "start_time": "2022-03-21T00:53:23.215Z"
   },
   {
    "duration": 16,
    "start_time": "2022-03-21T00:53:23.229Z"
   },
   {
    "duration": 16,
    "start_time": "2022-03-21T00:53:23.247Z"
   },
   {
    "duration": 34,
    "start_time": "2022-03-21T00:53:23.265Z"
   },
   {
    "duration": 17,
    "start_time": "2022-03-21T00:53:23.300Z"
   },
   {
    "duration": 18,
    "start_time": "2022-03-21T00:53:23.319Z"
   },
   {
    "duration": 15,
    "start_time": "2022-03-21T00:53:23.338Z"
   },
   {
    "duration": 63,
    "start_time": "2022-03-21T00:53:23.354Z"
   },
   {
    "duration": 0,
    "start_time": "2022-03-21T00:53:23.418Z"
   },
   {
    "duration": 0,
    "start_time": "2022-03-21T00:53:23.419Z"
   },
   {
    "duration": 0,
    "start_time": "2022-03-21T00:53:23.420Z"
   },
   {
    "duration": 0,
    "start_time": "2022-03-21T00:53:23.421Z"
   },
   {
    "duration": 0,
    "start_time": "2022-03-21T00:53:23.437Z"
   },
   {
    "duration": 0,
    "start_time": "2022-03-21T00:53:23.438Z"
   },
   {
    "duration": 0,
    "start_time": "2022-03-21T00:53:23.439Z"
   },
   {
    "duration": 0,
    "start_time": "2022-03-21T00:53:23.440Z"
   },
   {
    "duration": 0,
    "start_time": "2022-03-21T00:53:23.441Z"
   },
   {
    "duration": 0,
    "start_time": "2022-03-21T00:53:23.442Z"
   },
   {
    "duration": 0,
    "start_time": "2022-03-21T00:53:23.443Z"
   },
   {
    "duration": 16,
    "start_time": "2022-03-21T00:54:44.742Z"
   },
   {
    "duration": 10,
    "start_time": "2022-03-21T00:54:55.719Z"
   },
   {
    "duration": 19,
    "start_time": "2022-03-21T00:55:12.841Z"
   },
   {
    "duration": 9,
    "start_time": "2022-03-21T01:00:54.844Z"
   },
   {
    "duration": 14,
    "start_time": "2022-03-21T01:01:05.387Z"
   },
   {
    "duration": 16,
    "start_time": "2022-03-21T01:03:57.088Z"
   },
   {
    "duration": 8,
    "start_time": "2022-03-21T01:04:04.577Z"
   },
   {
    "duration": 19,
    "start_time": "2022-03-21T01:04:51.462Z"
   },
   {
    "duration": 8,
    "start_time": "2022-03-21T01:04:59.670Z"
   },
   {
    "duration": 15,
    "start_time": "2022-03-21T01:09:29.339Z"
   },
   {
    "duration": 15,
    "start_time": "2022-03-21T01:09:32.299Z"
   },
   {
    "duration": 21,
    "start_time": "2022-03-21T01:13:51.418Z"
   },
   {
    "duration": 13,
    "start_time": "2022-03-21T01:19:57.325Z"
   },
   {
    "duration": 14,
    "start_time": "2022-03-21T01:27:02.240Z"
   },
   {
    "duration": 118,
    "start_time": "2022-03-21T01:33:32.063Z"
   },
   {
    "duration": 92,
    "start_time": "2022-03-21T16:40:15.412Z"
   },
   {
    "duration": 46,
    "start_time": "2022-03-21T16:58:36.838Z"
   },
   {
    "duration": 456,
    "start_time": "2022-03-21T16:58:44.645Z"
   },
   {
    "duration": 26,
    "start_time": "2022-03-21T16:58:49.420Z"
   },
   {
    "duration": 11,
    "start_time": "2022-03-21T17:01:23.314Z"
   },
   {
    "duration": 69,
    "start_time": "2022-03-21T17:01:29.176Z"
   },
   {
    "duration": 10,
    "start_time": "2022-03-21T17:01:32.712Z"
   },
   {
    "duration": 34,
    "start_time": "2022-03-21T17:46:39.815Z"
   },
   {
    "duration": 72,
    "start_time": "2022-03-21T17:47:07.289Z"
   },
   {
    "duration": 12,
    "start_time": "2022-03-21T17:47:11.869Z"
   },
   {
    "duration": 12,
    "start_time": "2022-03-21T17:47:20.191Z"
   },
   {
    "duration": 12,
    "start_time": "2022-03-21T17:49:15.374Z"
   },
   {
    "duration": 8,
    "start_time": "2022-03-21T17:50:21.270Z"
   },
   {
    "duration": 6,
    "start_time": "2022-03-21T17:53:40.604Z"
   },
   {
    "duration": 5,
    "start_time": "2022-03-21T17:53:54.026Z"
   },
   {
    "duration": 15,
    "start_time": "2022-03-21T17:58:01.650Z"
   },
   {
    "duration": 8,
    "start_time": "2022-03-21T18:19:11.517Z"
   },
   {
    "duration": 13,
    "start_time": "2022-03-21T18:27:26.842Z"
   },
   {
    "duration": 9,
    "start_time": "2022-03-21T18:27:49.410Z"
   },
   {
    "duration": 8,
    "start_time": "2022-03-21T18:30:12.298Z"
   },
   {
    "duration": 18,
    "start_time": "2022-03-21T18:30:14.929Z"
   },
   {
    "duration": 13,
    "start_time": "2022-03-21T18:30:22.664Z"
   },
   {
    "duration": 11,
    "start_time": "2022-03-21T18:30:54.354Z"
   },
   {
    "duration": 8,
    "start_time": "2022-03-23T06:26:16.850Z"
   },
   {
    "duration": 6,
    "start_time": "2022-03-23T06:26:34.881Z"
   },
   {
    "duration": 8,
    "start_time": "2022-03-23T06:27:01.274Z"
   },
   {
    "duration": 1989,
    "start_time": "2022-03-23T06:41:09.683Z"
   },
   {
    "duration": 382,
    "start_time": "2022-03-23T06:42:47.662Z"
   },
   {
    "duration": 20,
    "start_time": "2022-03-23T06:43:59.667Z"
   },
   {
    "duration": 19,
    "start_time": "2022-03-23T06:45:01.947Z"
   },
   {
    "duration": 19,
    "start_time": "2022-03-23T06:46:19.786Z"
   },
   {
    "duration": 17,
    "start_time": "2022-03-23T06:46:47.666Z"
   },
   {
    "duration": 17,
    "start_time": "2022-03-23T06:47:36.458Z"
   },
   {
    "duration": 18,
    "start_time": "2022-03-23T06:52:49.375Z"
   },
   {
    "duration": 19,
    "start_time": "2022-03-23T06:53:23.359Z"
   },
   {
    "duration": 18,
    "start_time": "2022-03-23T06:54:30.407Z"
   },
   {
    "duration": 25,
    "start_time": "2022-03-23T07:00:27.149Z"
   },
   {
    "duration": 11,
    "start_time": "2022-03-23T07:08:59.443Z"
   },
   {
    "duration": 18,
    "start_time": "2022-03-23T07:09:12.210Z"
   },
   {
    "duration": 89,
    "start_time": "2022-03-23T07:09:36.595Z"
   },
   {
    "duration": 18,
    "start_time": "2022-03-23T07:10:04.810Z"
   },
   {
    "duration": 17,
    "start_time": "2022-03-23T07:10:14.029Z"
   },
   {
    "duration": 19,
    "start_time": "2022-03-23T07:10:48.297Z"
   },
   {
    "duration": 89,
    "start_time": "2022-03-23T07:12:54.464Z"
   },
   {
    "duration": 150,
    "start_time": "2022-03-23T07:13:10.920Z"
   },
   {
    "duration": 19,
    "start_time": "2022-03-23T07:13:49.648Z"
   },
   {
    "duration": 17,
    "start_time": "2022-03-23T07:14:33.520Z"
   },
   {
    "duration": 19,
    "start_time": "2022-03-23T07:19:55.391Z"
   },
   {
    "duration": 7,
    "start_time": "2022-03-23T07:20:22.749Z"
   },
   {
    "duration": 9,
    "start_time": "2022-03-23T07:26:39.091Z"
   },
   {
    "duration": 16,
    "start_time": "2022-03-23T07:27:43.787Z"
   },
   {
    "duration": 5,
    "start_time": "2022-03-23T07:28:40.889Z"
   },
   {
    "duration": 10,
    "start_time": "2022-03-23T07:28:48.426Z"
   },
   {
    "duration": 19,
    "start_time": "2022-03-23T07:29:19.522Z"
   },
   {
    "duration": 22,
    "start_time": "2022-03-23T07:30:21.130Z"
   },
   {
    "duration": 16,
    "start_time": "2022-03-23T07:34:01.816Z"
   },
   {
    "duration": 14,
    "start_time": "2022-03-23T07:34:17.448Z"
   },
   {
    "duration": 13,
    "start_time": "2022-03-23T07:34:59.505Z"
   },
   {
    "duration": 16,
    "start_time": "2022-03-23T07:35:33.785Z"
   },
   {
    "duration": 15,
    "start_time": "2022-03-23T07:35:57.303Z"
   },
   {
    "duration": 12,
    "start_time": "2022-03-23T07:36:29.649Z"
   },
   {
    "duration": 14,
    "start_time": "2022-03-23T07:36:46.816Z"
   },
   {
    "duration": 13,
    "start_time": "2022-03-23T07:39:56.446Z"
   },
   {
    "duration": 13,
    "start_time": "2022-03-23T07:40:04.087Z"
   },
   {
    "duration": 15,
    "start_time": "2022-03-23T07:42:06.582Z"
   },
   {
    "duration": 14,
    "start_time": "2022-03-23T07:42:24.078Z"
   },
   {
    "duration": 21,
    "start_time": "2022-03-23T07:43:15.022Z"
   },
   {
    "duration": 14,
    "start_time": "2022-03-23T07:43:29.151Z"
   },
   {
    "duration": 88,
    "start_time": "2022-03-23T07:46:38.292Z"
   },
   {
    "duration": 15,
    "start_time": "2022-03-23T07:46:47.284Z"
   },
   {
    "duration": 14,
    "start_time": "2022-03-23T16:36:27.805Z"
   },
   {
    "duration": 20,
    "start_time": "2022-03-23T16:36:47.490Z"
   },
   {
    "duration": 7,
    "start_time": "2022-03-23T16:36:51.726Z"
   },
   {
    "duration": 15,
    "start_time": "2022-03-23T16:37:07.150Z"
   },
   {
    "duration": 106,
    "start_time": "2022-03-23T16:48:57.627Z"
   },
   {
    "duration": 175,
    "start_time": "2022-03-29T11:25:13.496Z"
   },
   {
    "duration": 141,
    "start_time": "2022-03-29T12:36:01.010Z"
   },
   {
    "duration": 87,
    "start_time": "2022-03-29T12:58:35.302Z"
   },
   {
    "duration": 9,
    "start_time": "2022-03-29T12:58:51.604Z"
   },
   {
    "duration": 621,
    "start_time": "2022-03-29T12:58:59.310Z"
   },
   {
    "duration": 11,
    "start_time": "2022-03-29T12:59:08.715Z"
   },
   {
    "duration": 11,
    "start_time": "2022-03-29T13:01:27.567Z"
   },
   {
    "duration": 46,
    "start_time": "2022-03-29T13:19:47.780Z"
   },
   {
    "duration": 46,
    "start_time": "2022-03-29T14:17:23.821Z"
   },
   {
    "duration": 7,
    "start_time": "2022-03-29T14:17:46.195Z"
   },
   {
    "duration": 466,
    "start_time": "2022-03-29T14:17:58.564Z"
   },
   {
    "duration": 1723,
    "start_time": "2022-03-29T14:18:06.738Z"
   },
   {
    "duration": 11,
    "start_time": "2022-03-29T14:18:34.802Z"
   },
   {
    "duration": 10,
    "start_time": "2022-03-29T14:19:58.929Z"
   },
   {
    "duration": 9,
    "start_time": "2022-03-29T14:20:56.585Z"
   },
   {
    "duration": 9,
    "start_time": "2022-03-29T14:21:08.640Z"
   },
   {
    "duration": 13,
    "start_time": "2022-03-29T14:25:27.448Z"
   },
   {
    "duration": 6,
    "start_time": "2022-03-29T14:27:21.845Z"
   },
   {
    "duration": 8,
    "start_time": "2022-03-29T14:28:18.173Z"
   },
   {
    "duration": 4,
    "start_time": "2022-03-29T14:28:43.397Z"
   },
   {
    "duration": 8,
    "start_time": "2022-03-29T14:36:26.352Z"
   },
   {
    "duration": 8,
    "start_time": "2022-03-29T14:36:56.081Z"
   },
   {
    "duration": 11,
    "start_time": "2022-03-29T14:41:36.886Z"
   },
   {
    "duration": 5,
    "start_time": "2022-03-29T14:42:09.270Z"
   },
   {
    "duration": 145,
    "start_time": "2022-03-29T14:51:13.482Z"
   },
   {
    "duration": 428,
    "start_time": "2022-04-01T01:21:17.413Z"
   },
   {
    "duration": 9,
    "start_time": "2022-04-01T01:21:17.843Z"
   },
   {
    "duration": 9,
    "start_time": "2022-04-01T01:21:17.853Z"
   },
   {
    "duration": 6,
    "start_time": "2022-04-01T01:21:17.864Z"
   },
   {
    "duration": 6,
    "start_time": "2022-04-01T01:21:17.871Z"
   },
   {
    "duration": 6,
    "start_time": "2022-04-01T01:21:17.878Z"
   },
   {
    "duration": 11,
    "start_time": "2022-04-01T01:21:17.885Z"
   },
   {
    "duration": 5,
    "start_time": "2022-04-01T01:21:17.897Z"
   },
   {
    "duration": 12,
    "start_time": "2022-04-01T01:21:17.903Z"
   },
   {
    "duration": 13,
    "start_time": "2022-04-01T01:21:17.918Z"
   },
   {
    "duration": 35,
    "start_time": "2022-04-01T01:21:17.932Z"
   },
   {
    "duration": 7,
    "start_time": "2022-04-01T01:21:17.969Z"
   },
   {
    "duration": 10,
    "start_time": "2022-04-01T01:21:17.977Z"
   },
   {
    "duration": 7,
    "start_time": "2022-04-01T01:21:17.988Z"
   },
   {
    "duration": 18,
    "start_time": "2022-04-01T01:21:17.997Z"
   },
   {
    "duration": 5,
    "start_time": "2022-04-01T01:21:18.016Z"
   },
   {
    "duration": 8,
    "start_time": "2022-04-01T01:21:18.022Z"
   },
   {
    "duration": 35,
    "start_time": "2022-04-01T01:21:18.032Z"
   },
   {
    "duration": 10,
    "start_time": "2022-04-01T01:21:18.068Z"
   },
   {
    "duration": 5,
    "start_time": "2022-04-01T01:21:18.080Z"
   },
   {
    "duration": 8,
    "start_time": "2022-04-01T01:21:18.086Z"
   },
   {
    "duration": 7,
    "start_time": "2022-04-01T01:21:18.095Z"
   },
   {
    "duration": 20,
    "start_time": "2022-04-01T01:21:18.104Z"
   },
   {
    "duration": 41,
    "start_time": "2022-04-01T01:21:18.125Z"
   },
   {
    "duration": 19,
    "start_time": "2022-04-01T01:21:18.167Z"
   },
   {
    "duration": 14,
    "start_time": "2022-04-01T01:21:18.188Z"
   },
   {
    "duration": 10,
    "start_time": "2022-04-01T01:21:18.204Z"
   },
   {
    "duration": 9,
    "start_time": "2022-04-01T01:21:18.217Z"
   },
   {
    "duration": 41,
    "start_time": "2022-04-01T01:21:18.228Z"
   },
   {
    "duration": 15,
    "start_time": "2022-04-01T01:21:18.270Z"
   },
   {
    "duration": 10,
    "start_time": "2022-04-01T01:21:18.286Z"
   },
   {
    "duration": 9,
    "start_time": "2022-04-01T01:21:18.297Z"
   },
   {
    "duration": 16,
    "start_time": "2022-04-01T01:21:18.307Z"
   },
   {
    "duration": 5,
    "start_time": "2022-04-01T01:21:18.325Z"
   },
   {
    "duration": 39,
    "start_time": "2022-04-01T01:21:18.332Z"
   },
   {
    "duration": 12,
    "start_time": "2022-04-01T01:21:18.373Z"
   },
   {
    "duration": 15,
    "start_time": "2022-04-01T01:21:18.387Z"
   },
   {
    "duration": 11,
    "start_time": "2022-04-01T01:21:18.404Z"
   },
   {
    "duration": 12,
    "start_time": "2022-04-01T01:21:18.417Z"
   },
   {
    "duration": 65,
    "start_time": "2022-04-01T01:28:39.782Z"
   },
   {
    "duration": 9,
    "start_time": "2022-04-01T01:28:39.849Z"
   },
   {
    "duration": 8,
    "start_time": "2022-04-01T01:28:39.860Z"
   },
   {
    "duration": 7,
    "start_time": "2022-04-01T01:28:39.870Z"
   },
   {
    "duration": 9,
    "start_time": "2022-04-01T01:28:52.894Z"
   },
   {
    "duration": 7,
    "start_time": "2022-04-01T01:29:03.929Z"
   },
   {
    "duration": 5,
    "start_time": "2022-04-01T01:29:14.873Z"
   },
   {
    "duration": 10,
    "start_time": "2022-04-01T01:29:19.239Z"
   },
   {
    "duration": 137,
    "start_time": "2022-04-01T01:47:16.295Z"
   },
   {
    "duration": 86,
    "start_time": "2022-04-01T06:18:26.285Z"
   },
   {
    "duration": 43,
    "start_time": "2022-04-01T06:18:40.639Z"
   },
   {
    "duration": 532,
    "start_time": "2022-04-01T06:18:49.529Z"
   },
   {
    "duration": 5,
    "start_time": "2022-04-01T06:18:54.879Z"
   },
   {
    "duration": 7,
    "start_time": "2022-04-01T06:21:02.599Z"
   },
   {
    "duration": 8,
    "start_time": "2022-04-01T06:27:09.955Z"
   },
   {
    "duration": 7,
    "start_time": "2022-04-01T06:27:34.482Z"
   },
   {
    "duration": 6,
    "start_time": "2022-04-01T06:28:21.346Z"
   },
   {
    "duration": 14,
    "start_time": "2022-04-01T06:33:18.760Z"
   },
   {
    "duration": 6,
    "start_time": "2022-04-01T06:34:28.399Z"
   },
   {
    "duration": 12,
    "start_time": "2022-04-01T06:36:58.253Z"
   },
   {
    "duration": 27,
    "start_time": "2022-04-01T06:45:26.762Z"
   },
   {
    "duration": 12,
    "start_time": "2022-04-01T06:45:43.713Z"
   },
   {
    "duration": 12,
    "start_time": "2022-04-01T06:46:23.298Z"
   },
   {
    "duration": 12,
    "start_time": "2022-04-01T06:46:45.849Z"
   },
   {
    "duration": 4,
    "start_time": "2022-04-01T06:47:37.568Z"
   },
   {
    "duration": 11,
    "start_time": "2022-04-01T06:47:42.232Z"
   },
   {
    "duration": 10,
    "start_time": "2022-04-01T06:47:55.928Z"
   },
   {
    "duration": 9,
    "start_time": "2022-04-01T06:47:58.577Z"
   },
   {
    "duration": 7,
    "start_time": "2022-04-01T06:48:02.145Z"
   },
   {
    "duration": 4,
    "start_time": "2022-04-01T06:48:05.281Z"
   },
   {
    "duration": 9,
    "start_time": "2022-04-01T06:48:12.120Z"
   },
   {
    "duration": 7,
    "start_time": "2022-04-01T06:49:43.384Z"
   },
   {
    "duration": 21,
    "start_time": "2022-04-01T06:49:54.055Z"
   },
   {
    "duration": 1095,
    "start_time": "2022-04-01T06:52:03.303Z"
   },
   {
    "duration": 416,
    "start_time": "2022-04-01T22:22:08.611Z"
   },
   {
    "duration": 9,
    "start_time": "2022-04-01T22:22:09.029Z"
   },
   {
    "duration": 8,
    "start_time": "2022-04-01T22:22:09.039Z"
   },
   {
    "duration": 17,
    "start_time": "2022-04-01T22:22:09.049Z"
   },
   {
    "duration": 3,
    "start_time": "2022-04-01T22:22:09.068Z"
   },
   {
    "duration": 8,
    "start_time": "2022-04-01T22:22:09.073Z"
   },
   {
    "duration": 11,
    "start_time": "2022-04-01T22:22:09.082Z"
   },
   {
    "duration": 3,
    "start_time": "2022-04-01T22:22:09.094Z"
   },
   {
    "duration": 10,
    "start_time": "2022-04-01T22:22:09.099Z"
   },
   {
    "duration": 5,
    "start_time": "2022-04-01T22:22:09.111Z"
   },
   {
    "duration": 15,
    "start_time": "2022-04-01T22:22:09.117Z"
   },
   {
    "duration": 12,
    "start_time": "2022-04-01T22:22:09.163Z"
   },
   {
    "duration": 8,
    "start_time": "2022-04-01T22:22:09.176Z"
   },
   {
    "duration": 7,
    "start_time": "2022-04-01T22:22:09.186Z"
   },
   {
    "duration": 10,
    "start_time": "2022-04-01T22:22:09.194Z"
   },
   {
    "duration": 8,
    "start_time": "2022-04-01T22:22:09.206Z"
   },
   {
    "duration": 17,
    "start_time": "2022-04-01T22:22:09.215Z"
   },
   {
    "duration": 5,
    "start_time": "2022-04-01T22:22:09.262Z"
   },
   {
    "duration": 8,
    "start_time": "2022-04-01T22:22:09.269Z"
   },
   {
    "duration": 6,
    "start_time": "2022-04-01T22:22:09.279Z"
   },
   {
    "duration": 9,
    "start_time": "2022-04-01T22:22:09.286Z"
   },
   {
    "duration": 7,
    "start_time": "2022-04-01T22:22:09.297Z"
   },
   {
    "duration": 11,
    "start_time": "2022-04-01T22:22:09.305Z"
   },
   {
    "duration": 14,
    "start_time": "2022-04-01T22:22:09.317Z"
   },
   {
    "duration": 39,
    "start_time": "2022-04-01T22:22:09.333Z"
   },
   {
    "duration": 16,
    "start_time": "2022-04-01T22:22:09.373Z"
   },
   {
    "duration": 16,
    "start_time": "2022-04-01T22:22:09.391Z"
   },
   {
    "duration": 14,
    "start_time": "2022-04-01T22:22:09.410Z"
   },
   {
    "duration": 38,
    "start_time": "2022-04-01T22:22:09.425Z"
   },
   {
    "duration": 12,
    "start_time": "2022-04-01T22:22:09.464Z"
   },
   {
    "duration": 13,
    "start_time": "2022-04-01T22:22:09.477Z"
   },
   {
    "duration": 15,
    "start_time": "2022-04-01T22:22:09.491Z"
   },
   {
    "duration": 7,
    "start_time": "2022-04-01T22:22:09.507Z"
   },
   {
    "duration": 9,
    "start_time": "2022-04-01T22:22:09.516Z"
   },
   {
    "duration": 44,
    "start_time": "2022-04-01T22:22:09.526Z"
   },
   {
    "duration": 6,
    "start_time": "2022-04-01T22:22:09.571Z"
   },
   {
    "duration": 16,
    "start_time": "2022-04-01T22:22:09.578Z"
   },
   {
    "duration": 11,
    "start_time": "2022-04-01T22:22:09.596Z"
   },
   {
    "duration": 15,
    "start_time": "2022-04-01T22:22:09.609Z"
   },
   {
    "duration": 37,
    "start_time": "2022-04-01T22:22:09.626Z"
   },
   {
    "duration": 12,
    "start_time": "2022-04-01T22:22:09.665Z"
   },
   {
    "duration": 59,
    "start_time": "2022-04-01T22:23:30.872Z"
   },
   {
    "duration": 9,
    "start_time": "2022-04-01T22:23:30.933Z"
   },
   {
    "duration": 9,
    "start_time": "2022-04-01T22:23:30.944Z"
   },
   {
    "duration": 10,
    "start_time": "2022-04-01T22:23:30.955Z"
   },
   {
    "duration": 3,
    "start_time": "2022-04-01T22:23:30.967Z"
   },
   {
    "duration": 5,
    "start_time": "2022-04-01T22:23:58.875Z"
   },
   {
    "duration": 9,
    "start_time": "2022-04-01T22:24:06.567Z"
   },
   {
    "duration": 59,
    "start_time": "2022-04-01T22:24:44.395Z"
   },
   {
    "duration": 9,
    "start_time": "2022-04-01T22:24:44.456Z"
   },
   {
    "duration": 8,
    "start_time": "2022-04-01T22:24:44.467Z"
   },
   {
    "duration": 7,
    "start_time": "2022-04-01T22:24:44.476Z"
   },
   {
    "duration": 3,
    "start_time": "2022-04-01T22:24:44.485Z"
   },
   {
    "duration": 6,
    "start_time": "2022-04-01T22:24:44.489Z"
   },
   {
    "duration": 11,
    "start_time": "2022-04-01T22:24:44.496Z"
   },
   {
    "duration": 10,
    "start_time": "2022-04-01T22:24:55.795Z"
   },
   {
    "duration": 59,
    "start_time": "2022-04-01T22:25:20.528Z"
   },
   {
    "duration": 9,
    "start_time": "2022-04-01T22:25:20.589Z"
   },
   {
    "duration": 14,
    "start_time": "2022-04-01T22:25:20.600Z"
   },
   {
    "duration": 6,
    "start_time": "2022-04-01T22:25:20.616Z"
   },
   {
    "duration": 4,
    "start_time": "2022-04-01T22:25:38.139Z"
   },
   {
    "duration": 10,
    "start_time": "2022-04-01T22:25:44.056Z"
   },
   {
    "duration": 5,
    "start_time": "2022-04-01T22:25:51.474Z"
   },
   {
    "duration": 10,
    "start_time": "2022-04-01T22:25:58.065Z"
   },
   {
    "duration": 70,
    "start_time": "2022-04-02T05:29:20.769Z"
   },
   {
    "duration": 610,
    "start_time": "2022-04-02T05:29:49.575Z"
   },
   {
    "duration": 16,
    "start_time": "2022-04-02T05:29:58.958Z"
   },
   {
    "duration": 49,
    "start_time": "2022-04-02T05:30:09.965Z"
   },
   {
    "duration": 11,
    "start_time": "2022-04-02T05:30:33.301Z"
   },
   {
    "duration": 12,
    "start_time": "2022-04-02T05:31:12.006Z"
   },
   {
    "duration": 9,
    "start_time": "2022-04-02T05:31:47.805Z"
   },
   {
    "duration": 9,
    "start_time": "2022-04-02T05:33:29.356Z"
   },
   {
    "duration": 12,
    "start_time": "2022-04-02T05:33:40.400Z"
   },
   {
    "duration": 5,
    "start_time": "2022-04-02T05:34:04.954Z"
   },
   {
    "duration": 6,
    "start_time": "2022-04-02T05:37:30.474Z"
   },
   {
    "duration": 5,
    "start_time": "2022-04-02T05:37:45.066Z"
   },
   {
    "duration": 5,
    "start_time": "2022-04-02T05:38:55.922Z"
   },
   {
    "duration": 16,
    "start_time": "2022-04-02T05:40:28.304Z"
   },
   {
    "duration": 11,
    "start_time": "2022-04-02T05:40:48.441Z"
   },
   {
    "duration": 13,
    "start_time": "2022-04-02T05:43:41.415Z"
   },
   {
    "duration": 2440,
    "start_time": "2022-04-02T10:18:53.752Z"
   },
   {
    "duration": 24,
    "start_time": "2022-04-02T10:24:48.669Z"
   },
   {
    "duration": 1759,
    "start_time": "2022-04-02T10:25:32.268Z"
   },
   {
    "duration": 1792,
    "start_time": "2022-04-02T10:28:12.403Z"
   },
   {
    "duration": 2251,
    "start_time": "2022-04-02T10:28:59.060Z"
   },
   {
    "duration": 1927,
    "start_time": "2022-04-02T10:29:29.011Z"
   },
   {
    "duration": 16,
    "start_time": "2022-04-02T10:30:20.387Z"
   },
   {
    "duration": 15,
    "start_time": "2022-04-02T10:31:02.266Z"
   },
   {
    "duration": 137,
    "start_time": "2022-04-02T10:31:48.025Z"
   },
   {
    "duration": 6,
    "start_time": "2022-04-02T10:31:57.449Z"
   },
   {
    "duration": 5,
    "start_time": "2022-04-02T10:32:32.049Z"
   },
   {
    "duration": 161,
    "start_time": "2022-04-02T10:32:48.376Z"
   },
   {
    "duration": 147,
    "start_time": "2022-04-02T10:33:02.141Z"
   },
   {
    "duration": 325,
    "start_time": "2022-04-02T10:33:39.138Z"
   },
   {
    "duration": 77,
    "start_time": "2022-04-02T10:34:14.291Z"
   },
   {
    "duration": 109,
    "start_time": "2022-04-02T10:34:29.560Z"
   },
   {
    "duration": 13,
    "start_time": "2022-04-02T10:34:37.944Z"
   },
   {
    "duration": 11,
    "start_time": "2022-04-02T10:35:15.624Z"
   },
   {
    "duration": 21,
    "start_time": "2022-04-02T10:35:36.448Z"
   },
   {
    "duration": 4,
    "start_time": "2022-04-02T10:36:34.808Z"
   },
   {
    "duration": 6,
    "start_time": "2022-04-02T10:38:21.782Z"
   },
   {
    "duration": 6,
    "start_time": "2022-04-02T10:38:53.126Z"
   },
   {
    "duration": 85,
    "start_time": "2022-04-02T10:39:03.701Z"
   },
   {
    "duration": 5,
    "start_time": "2022-04-02T10:39:24.726Z"
   },
   {
    "duration": 4,
    "start_time": "2022-04-02T10:40:17.230Z"
   },
   {
    "duration": 14,
    "start_time": "2022-04-02T10:41:28.540Z"
   },
   {
    "duration": 10,
    "start_time": "2022-04-02T10:42:10.436Z"
   },
   {
    "duration": 9,
    "start_time": "2022-04-02T10:42:47.972Z"
   },
   {
    "duration": 9,
    "start_time": "2022-04-02T10:44:20.294Z"
   },
   {
    "duration": 4,
    "start_time": "2022-04-02T10:44:46.653Z"
   },
   {
    "duration": 137,
    "start_time": "2022-04-02T10:46:29.370Z"
   },
   {
    "duration": 115,
    "start_time": "2022-04-02T10:46:47.834Z"
   },
   {
    "duration": 11,
    "start_time": "2022-04-02T10:47:00.011Z"
   },
   {
    "duration": 134,
    "start_time": "2022-04-02T10:49:02.338Z"
   },
   {
    "duration": 11,
    "start_time": "2022-04-02T10:49:16.081Z"
   },
   {
    "duration": 10,
    "start_time": "2022-04-02T10:49:57.080Z"
   },
   {
    "duration": 10,
    "start_time": "2022-04-02T10:54:14.271Z"
   },
   {
    "duration": 10,
    "start_time": "2022-04-02T10:54:39.823Z"
   },
   {
    "duration": 10,
    "start_time": "2022-04-02T10:54:44.542Z"
   },
   {
    "duration": 5,
    "start_time": "2022-04-02T10:54:50.662Z"
   },
   {
    "duration": 15,
    "start_time": "2022-04-02T10:55:13.045Z"
   },
   {
    "duration": 13,
    "start_time": "2022-04-02T10:55:24.350Z"
   },
   {
    "duration": 10,
    "start_time": "2022-04-02T10:55:27.670Z"
   },
   {
    "duration": 6,
    "start_time": "2022-04-02T10:55:37.437Z"
   },
   {
    "duration": 15,
    "start_time": "2022-04-02T10:55:42.533Z"
   },
   {
    "duration": 664,
    "start_time": "2022-04-03T21:35:30.555Z"
   },
   {
    "duration": 15,
    "start_time": "2022-04-03T21:35:31.221Z"
   },
   {
    "duration": 12,
    "start_time": "2022-04-03T21:35:31.238Z"
   },
   {
    "duration": 43,
    "start_time": "2022-04-03T21:35:31.253Z"
   },
   {
    "duration": 17,
    "start_time": "2022-04-03T21:35:31.298Z"
   },
   {
    "duration": 28,
    "start_time": "2022-04-03T21:35:31.318Z"
   },
   {
    "duration": 24,
    "start_time": "2022-04-03T21:35:31.349Z"
   },
   {
    "duration": 22,
    "start_time": "2022-04-03T21:35:31.375Z"
   },
   {
    "duration": 18,
    "start_time": "2022-04-03T21:35:31.399Z"
   },
   {
    "duration": 14,
    "start_time": "2022-04-03T21:35:31.420Z"
   },
   {
    "duration": 28,
    "start_time": "2022-04-03T21:35:31.437Z"
   },
   {
    "duration": 36,
    "start_time": "2022-04-03T21:35:31.467Z"
   },
   {
    "duration": 16,
    "start_time": "2022-04-03T21:35:31.505Z"
   },
   {
    "duration": 11,
    "start_time": "2022-04-03T21:35:31.523Z"
   },
   {
    "duration": 55,
    "start_time": "2022-04-03T21:35:31.536Z"
   },
   {
    "duration": 19,
    "start_time": "2022-04-03T21:35:31.594Z"
   },
   {
    "duration": 26,
    "start_time": "2022-04-03T21:35:31.615Z"
   },
   {
    "duration": 9,
    "start_time": "2022-04-03T21:35:31.643Z"
   },
   {
    "duration": 56,
    "start_time": "2022-04-03T21:35:31.655Z"
   },
   {
    "duration": 105,
    "start_time": "2022-04-03T21:35:31.713Z"
   },
   {
    "duration": 36,
    "start_time": "2022-04-03T21:35:31.820Z"
   },
   {
    "duration": 120,
    "start_time": "2022-04-03T21:35:31.859Z"
   },
   {
    "duration": 89,
    "start_time": "2022-04-03T21:35:31.982Z"
   },
   {
    "duration": 66,
    "start_time": "2022-04-03T21:35:32.073Z"
   },
   {
    "duration": 46,
    "start_time": "2022-04-03T21:35:32.142Z"
   },
   {
    "duration": 28,
    "start_time": "2022-04-03T21:35:32.191Z"
   },
   {
    "duration": 29,
    "start_time": "2022-04-03T21:35:32.221Z"
   },
   {
    "duration": 55,
    "start_time": "2022-04-03T21:35:32.255Z"
   },
   {
    "duration": 18,
    "start_time": "2022-04-03T21:35:32.313Z"
   },
   {
    "duration": 17,
    "start_time": "2022-04-03T21:35:32.333Z"
   },
   {
    "duration": 51,
    "start_time": "2022-04-03T21:35:32.352Z"
   },
   {
    "duration": 36,
    "start_time": "2022-04-03T21:35:32.405Z"
   },
   {
    "duration": 28,
    "start_time": "2022-04-03T21:35:32.443Z"
   },
   {
    "duration": 24,
    "start_time": "2022-04-03T21:35:32.473Z"
   },
   {
    "duration": 41,
    "start_time": "2022-04-03T21:35:32.499Z"
   },
   {
    "duration": 17,
    "start_time": "2022-04-03T21:35:32.542Z"
   },
   {
    "duration": 42,
    "start_time": "2022-04-03T21:35:32.562Z"
   },
   {
    "duration": 29,
    "start_time": "2022-04-03T21:35:32.606Z"
   },
   {
    "duration": 27,
    "start_time": "2022-04-03T21:35:32.637Z"
   },
   {
    "duration": 24,
    "start_time": "2022-04-03T21:35:32.683Z"
   },
   {
    "duration": 22,
    "start_time": "2022-04-03T21:35:32.710Z"
   },
   {
    "duration": 103,
    "start_time": "2022-04-03T21:48:22.335Z"
   },
   {
    "duration": 449,
    "start_time": "2022-04-04T05:12:31.499Z"
   },
   {
    "duration": 9,
    "start_time": "2022-04-04T05:12:57.989Z"
   },
   {
    "duration": 61,
    "start_time": "2022-04-04T05:16:15.948Z"
   },
   {
    "duration": 12,
    "start_time": "2022-04-04T05:19:48.979Z"
   },
   {
    "duration": 7,
    "start_time": "2022-04-04T05:21:27.587Z"
   },
   {
    "duration": 8,
    "start_time": "2022-04-04T05:21:51.746Z"
   },
   {
    "duration": 9,
    "start_time": "2022-04-04T05:22:19.113Z"
   },
   {
    "duration": 7,
    "start_time": "2022-04-04T05:22:34.905Z"
   },
   {
    "duration": 1711,
    "start_time": "2022-04-04T05:22:50.602Z"
   },
   {
    "duration": 1866,
    "start_time": "2022-04-04T05:23:06.370Z"
   },
   {
    "duration": 1682,
    "start_time": "2022-04-04T05:28:14.184Z"
   },
   {
    "duration": 107,
    "start_time": "2022-04-04T05:28:27.463Z"
   },
   {
    "duration": 7,
    "start_time": "2022-04-04T05:28:56.135Z"
   },
   {
    "duration": 7,
    "start_time": "2022-04-04T05:36:43.884Z"
   },
   {
    "duration": 28,
    "start_time": "2022-04-04T05:36:52.771Z"
   },
   {
    "duration": 8,
    "start_time": "2022-04-04T05:38:17.801Z"
   },
   {
    "duration": 5,
    "start_time": "2022-04-04T05:43:59.912Z"
   },
   {
    "duration": 9,
    "start_time": "2022-04-04T05:44:51.143Z"
   },
   {
    "duration": 26,
    "start_time": "2022-04-04T05:48:38.046Z"
   },
   {
    "duration": 25,
    "start_time": "2022-04-04T05:49:12.543Z"
   },
   {
    "duration": 64,
    "start_time": "2022-04-04T05:49:21.000Z"
   },
   {
    "duration": 8,
    "start_time": "2022-04-04T05:50:02.621Z"
   },
   {
    "duration": 7,
    "start_time": "2022-04-04T05:50:10.268Z"
   },
   {
    "duration": 25,
    "start_time": "2022-04-04T05:50:14.599Z"
   },
   {
    "duration": 25,
    "start_time": "2022-04-04T05:50:35.815Z"
   },
   {
    "duration": 1832,
    "start_time": "2022-04-04T05:51:03.390Z"
   },
   {
    "duration": 8,
    "start_time": "2022-04-04T05:51:22.957Z"
   },
   {
    "duration": 8,
    "start_time": "2022-04-04T05:51:57.438Z"
   },
   {
    "duration": 110,
    "start_time": "2022-04-04T05:53:18.124Z"
   },
   {
    "duration": 7,
    "start_time": "2022-04-04T05:53:31.363Z"
   },
   {
    "duration": 28,
    "start_time": "2022-04-04T05:56:42.314Z"
   },
   {
    "duration": 7,
    "start_time": "2022-04-04T06:00:09.840Z"
   },
   {
    "duration": 3,
    "start_time": "2022-04-04T06:01:06.152Z"
   },
   {
    "duration": 8,
    "start_time": "2022-04-04T06:03:58.473Z"
   },
   {
    "duration": 11,
    "start_time": "2022-04-04T06:04:26.142Z"
   },
   {
    "duration": 8,
    "start_time": "2022-04-04T06:05:44.815Z"
   },
   {
    "duration": 4,
    "start_time": "2022-04-04T06:06:14.902Z"
   },
   {
    "duration": 9,
    "start_time": "2022-04-04T06:24:18.061Z"
   },
   {
    "duration": 1520,
    "start_time": "2022-04-04T06:24:37.005Z"
   },
   {
    "duration": 1524,
    "start_time": "2022-04-04T06:25:15.413Z"
   },
   {
    "duration": 8,
    "start_time": "2022-04-04T06:32:33.339Z"
   },
   {
    "duration": 112,
    "start_time": "2022-04-04T06:42:19.335Z"
   },
   {
    "duration": 10,
    "start_time": "2022-04-04T06:42:39.789Z"
   },
   {
    "duration": 9,
    "start_time": "2022-04-04T06:43:15.413Z"
   },
   {
    "duration": 16,
    "start_time": "2022-04-04T06:43:37.085Z"
   },
   {
    "duration": 2739,
    "start_time": "2022-04-04T06:52:05.138Z"
   },
   {
    "duration": 66,
    "start_time": "2022-04-04T06:52:27.913Z"
   },
   {
    "duration": 6,
    "start_time": "2022-04-04T06:52:35.984Z"
   },
   {
    "duration": 3,
    "start_time": "2022-04-04T06:52:40.736Z"
   },
   {
    "duration": 30,
    "start_time": "2022-04-04T06:53:02.728Z"
   },
   {
    "duration": 6,
    "start_time": "2022-04-04T06:54:03.104Z"
   },
   {
    "duration": 28,
    "start_time": "2022-04-04T06:54:16.119Z"
   },
   {
    "duration": 7,
    "start_time": "2022-04-04T06:54:37.648Z"
   },
   {
    "duration": 6,
    "start_time": "2022-04-04T06:56:19.759Z"
   },
   {
    "duration": 10,
    "start_time": "2022-04-04T06:56:48.750Z"
   },
   {
    "duration": 16,
    "start_time": "2022-04-04T07:00:06.910Z"
   },
   {
    "duration": 28,
    "start_time": "2022-04-04T07:01:58.485Z"
   },
   {
    "duration": 5,
    "start_time": "2022-04-04T07:02:40.244Z"
   },
   {
    "duration": 10,
    "start_time": "2022-04-04T07:03:02.795Z"
   },
   {
    "duration": 65,
    "start_time": "2022-04-04T07:03:33.414Z"
   },
   {
    "duration": 9,
    "start_time": "2022-04-04T07:03:33.481Z"
   },
   {
    "duration": 8,
    "start_time": "2022-04-04T07:03:33.491Z"
   },
   {
    "duration": 12,
    "start_time": "2022-04-04T07:03:33.501Z"
   },
   {
    "duration": 5,
    "start_time": "2022-04-04T07:03:33.515Z"
   },
   {
    "duration": 8,
    "start_time": "2022-04-04T07:03:33.521Z"
   },
   {
    "duration": 6,
    "start_time": "2022-04-04T07:03:33.530Z"
   },
   {
    "duration": 50,
    "start_time": "2022-04-04T07:03:33.538Z"
   },
   {
    "duration": 26,
    "start_time": "2022-04-04T07:03:33.590Z"
   },
   {
    "duration": 4,
    "start_time": "2022-04-04T07:03:33.618Z"
   },
   {
    "duration": 41,
    "start_time": "2022-04-04T07:03:33.623Z"
   },
   {
    "duration": 9,
    "start_time": "2022-04-04T07:03:33.665Z"
   },
   {
    "duration": 6,
    "start_time": "2022-04-04T07:03:33.676Z"
   },
   {
    "duration": 14,
    "start_time": "2022-04-04T07:03:33.683Z"
   },
   {
    "duration": 13,
    "start_time": "2022-04-04T07:03:33.698Z"
   },
   {
    "duration": 11,
    "start_time": "2022-04-04T07:03:33.712Z"
   },
   {
    "duration": 41,
    "start_time": "2022-04-04T07:03:33.724Z"
   },
   {
    "duration": 11,
    "start_time": "2022-04-04T07:03:33.766Z"
   },
   {
    "duration": 8,
    "start_time": "2022-04-04T07:03:33.779Z"
   },
   {
    "duration": 19,
    "start_time": "2022-04-04T07:03:33.788Z"
   },
   {
    "duration": 6,
    "start_time": "2022-04-04T07:03:33.808Z"
   },
   {
    "duration": 10,
    "start_time": "2022-04-04T07:03:33.815Z"
   },
   {
    "duration": 6,
    "start_time": "2022-04-04T07:03:33.826Z"
   },
   {
    "duration": 9,
    "start_time": "2022-04-04T07:03:33.862Z"
   },
   {
    "duration": 8,
    "start_time": "2022-04-04T07:03:33.872Z"
   },
   {
    "duration": 7,
    "start_time": "2022-04-04T07:03:33.881Z"
   },
   {
    "duration": 9,
    "start_time": "2022-04-04T07:03:33.889Z"
   },
   {
    "duration": 12,
    "start_time": "2022-04-04T07:03:33.901Z"
   },
   {
    "duration": 0,
    "start_time": "2022-04-04T07:03:33.915Z"
   },
   {
    "duration": 0,
    "start_time": "2022-04-04T07:03:33.915Z"
   },
   {
    "duration": 0,
    "start_time": "2022-04-04T07:03:33.916Z"
   },
   {
    "duration": 0,
    "start_time": "2022-04-04T07:03:33.917Z"
   },
   {
    "duration": 0,
    "start_time": "2022-04-04T07:03:33.918Z"
   },
   {
    "duration": 0,
    "start_time": "2022-04-04T07:03:33.919Z"
   },
   {
    "duration": 0,
    "start_time": "2022-04-04T07:03:33.920Z"
   },
   {
    "duration": 0,
    "start_time": "2022-04-04T07:03:33.921Z"
   },
   {
    "duration": 0,
    "start_time": "2022-04-04T07:03:33.921Z"
   },
   {
    "duration": 0,
    "start_time": "2022-04-04T07:03:33.922Z"
   },
   {
    "duration": 0,
    "start_time": "2022-04-04T07:03:33.923Z"
   },
   {
    "duration": 0,
    "start_time": "2022-04-04T07:03:33.924Z"
   },
   {
    "duration": 0,
    "start_time": "2022-04-04T07:03:33.925Z"
   },
   {
    "duration": 0,
    "start_time": "2022-04-04T07:03:33.926Z"
   },
   {
    "duration": 0,
    "start_time": "2022-04-04T07:03:33.962Z"
   },
   {
    "duration": 0,
    "start_time": "2022-04-04T07:03:33.964Z"
   },
   {
    "duration": 5,
    "start_time": "2022-04-04T07:07:06.217Z"
   },
   {
    "duration": 38,
    "start_time": "2022-04-04T07:07:58.737Z"
   },
   {
    "duration": 5,
    "start_time": "2022-04-04T07:08:07.960Z"
   },
   {
    "duration": 11,
    "start_time": "2022-04-04T07:08:24.313Z"
   },
   {
    "duration": 20,
    "start_time": "2022-04-04T07:10:16.153Z"
   },
   {
    "duration": 18,
    "start_time": "2022-04-04T07:10:40.496Z"
   },
   {
    "duration": 24,
    "start_time": "2022-04-04T07:10:43.423Z"
   },
   {
    "duration": 20,
    "start_time": "2022-04-04T07:10:45.271Z"
   },
   {
    "duration": 66,
    "start_time": "2022-04-04T07:10:58.519Z"
   },
   {
    "duration": 9,
    "start_time": "2022-04-04T07:10:58.587Z"
   },
   {
    "duration": 9,
    "start_time": "2022-04-04T07:10:58.597Z"
   },
   {
    "duration": 7,
    "start_time": "2022-04-04T07:10:58.609Z"
   },
   {
    "duration": 5,
    "start_time": "2022-04-04T07:10:58.618Z"
   },
   {
    "duration": 45,
    "start_time": "2022-04-04T07:10:58.625Z"
   },
   {
    "duration": 30,
    "start_time": "2022-04-04T07:10:58.672Z"
   },
   {
    "duration": 59,
    "start_time": "2022-04-04T07:10:58.704Z"
   },
   {
    "duration": 6,
    "start_time": "2022-04-04T07:10:58.764Z"
   },
   {
    "duration": 9,
    "start_time": "2022-04-04T07:10:58.773Z"
   },
   {
    "duration": 6,
    "start_time": "2022-04-04T07:10:58.784Z"
   },
   {
    "duration": 14,
    "start_time": "2022-04-04T07:10:58.792Z"
   },
   {
    "duration": 13,
    "start_time": "2022-04-04T07:10:58.807Z"
   },
   {
    "duration": 45,
    "start_time": "2022-04-04T07:10:58.821Z"
   },
   {
    "duration": 7,
    "start_time": "2022-04-04T07:10:58.867Z"
   },
   {
    "duration": 10,
    "start_time": "2022-04-04T07:10:58.876Z"
   },
   {
    "duration": 7,
    "start_time": "2022-04-04T07:10:58.888Z"
   },
   {
    "duration": 18,
    "start_time": "2022-04-04T07:10:58.897Z"
   },
   {
    "duration": 5,
    "start_time": "2022-04-04T07:10:58.917Z"
   },
   {
    "duration": 43,
    "start_time": "2022-04-04T07:10:58.924Z"
   },
   {
    "duration": 7,
    "start_time": "2022-04-04T07:10:58.969Z"
   },
   {
    "duration": 11,
    "start_time": "2022-04-04T07:10:58.977Z"
   },
   {
    "duration": 6,
    "start_time": "2022-04-04T07:10:58.990Z"
   },
   {
    "duration": 6,
    "start_time": "2022-04-04T07:10:58.998Z"
   },
   {
    "duration": 9,
    "start_time": "2022-04-04T07:10:59.006Z"
   },
   {
    "duration": 47,
    "start_time": "2022-04-04T07:10:59.017Z"
   },
   {
    "duration": 16,
    "start_time": "2022-04-04T07:10:59.066Z"
   },
   {
    "duration": 17,
    "start_time": "2022-04-04T07:10:59.086Z"
   },
   {
    "duration": 16,
    "start_time": "2022-04-04T07:10:59.105Z"
   },
   {
    "duration": 11,
    "start_time": "2022-04-04T07:10:59.122Z"
   },
   {
    "duration": 12,
    "start_time": "2022-04-04T07:10:59.164Z"
   },
   {
    "duration": 13,
    "start_time": "2022-04-04T07:10:59.178Z"
   },
   {
    "duration": 16,
    "start_time": "2022-04-04T07:10:59.193Z"
   },
   {
    "duration": 7,
    "start_time": "2022-04-04T07:10:59.211Z"
   },
   {
    "duration": 8,
    "start_time": "2022-04-04T07:10:59.220Z"
   },
   {
    "duration": 49,
    "start_time": "2022-04-04T07:10:59.230Z"
   },
   {
    "duration": 9,
    "start_time": "2022-04-04T07:10:59.281Z"
   },
   {
    "duration": 21,
    "start_time": "2022-04-04T07:10:59.292Z"
   },
   {
    "duration": 12,
    "start_time": "2022-04-04T07:10:59.314Z"
   },
   {
    "duration": 47,
    "start_time": "2022-04-04T07:10:59.328Z"
   },
   {
    "duration": 13,
    "start_time": "2022-04-04T07:10:59.377Z"
   },
   {
    "duration": 14,
    "start_time": "2022-04-04T07:10:59.392Z"
   },
   {
    "duration": 91,
    "start_time": "2022-04-05T02:45:27.823Z"
   },
   {
    "duration": 17,
    "start_time": "2022-04-05T02:45:27.917Z"
   },
   {
    "duration": 46,
    "start_time": "2022-04-05T02:45:27.938Z"
   },
   {
    "duration": 10,
    "start_time": "2022-04-05T02:45:27.989Z"
   },
   {
    "duration": 8,
    "start_time": "2022-04-05T02:45:28.002Z"
   },
   {
    "duration": 14,
    "start_time": "2022-04-05T02:45:28.013Z"
   },
   {
    "duration": 95,
    "start_time": "2022-04-05T02:45:28.029Z"
   },
   {
    "duration": 43,
    "start_time": "2022-04-05T02:45:36.149Z"
   },
   {
    "duration": 126,
    "start_time": "2022-04-05T02:46:02.107Z"
   },
   {
    "duration": 9,
    "start_time": "2022-04-05T02:46:08.327Z"
   },
   {
    "duration": 7,
    "start_time": "2022-04-05T02:46:19.035Z"
   },
   {
    "duration": 56,
    "start_time": "2022-04-05T02:46:52.778Z"
   },
   {
    "duration": 110,
    "start_time": "2022-04-05T02:49:09.699Z"
   }
  ],
  "kernelspec": {
   "display_name": "Python 3 (ipykernel)",
   "language": "python",
   "name": "python3"
  },
  "language_info": {
   "codemirror_mode": {
    "name": "ipython",
    "version": 3
   },
   "file_extension": ".py",
   "mimetype": "text/x-python",
   "name": "python",
   "nbconvert_exporter": "python",
   "pygments_lexer": "ipython3",
   "version": "3.9.7"
  },
  "toc": {
   "base_numbering": 1,
   "nav_menu": {
    "height": "169px",
    "width": "402px"
   },
   "number_sections": true,
   "sideBar": true,
   "skip_h1_title": true,
   "title_cell": "Table of Contents",
   "title_sidebar": "Contents",
   "toc_cell": false,
   "toc_position": {
    "height": "calc(100% - 180px)",
    "left": "10px",
    "top": "150px",
    "width": "356.797px"
   },
   "toc_section_display": true,
   "toc_window_display": true
  }
 },
 "nbformat": 4,
 "nbformat_minor": 5
}
