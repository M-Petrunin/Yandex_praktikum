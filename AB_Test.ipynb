{
 "cells": [
  {
   "cell_type": "markdown",
   "metadata": {},
   "source": [
    "# Проект"
   ]
  },
  {
   "cell_type": "markdown",
   "metadata": {},
   "source": [
    "**Контекст**\n",
    "\n",
    "Вы — аналитик крупного интернет-магазина. Вместе с отделом маркетинга вы подготовили список гипотез для увеличения выручки.\n",
    "Приоритизируйте гипотезы, запустите A/B-тест и проанализируйте результаты.\n",
    "\n",
    "Описание данных:\n",
    "\n",
    "**Данные для первой части**\n",
    "\n",
    "Файл /datasets/hypothesis.csv\n",
    "\n",
    "Hypothesis — краткое описание гипотезы;   \n",
    "Reach — охват пользователей по 10-балльной шкале;   \n",
    "Impact — влияние на пользователей по 10-балльной шкале;   \n",
    "Confidence — уверенность в гипотезе по 10-балльной шкале;   \n",
    "Efforts — затраты ресурсов на проверку гипотезы по 10-балльной шкале. Чем больше значение Efforts, тем дороже проверка гипотезы.   \n",
    "\n",
    "**Данные для второй части**\n",
    "\n",
    "Файл /datasets/orders.csv\n",
    "\n",
    "transactionId — идентификатор заказа;   \n",
    "visitorId — идентификатор пользователя, совершившего заказ;  \n",
    "date — дата, когда был совершён заказ;   \n",
    "revenue — выручка заказа;  \n",
    "group — группа A/B-теста, в которую попал заказ. \n",
    "\n",
    "Файл /datasets/visitors.csv\n",
    "  \n",
    "date — дата;  \n",
    "group — группа A/B-теста;   \n",
    "visitors — количество пользователей в указанную дату в указанной группе A/B-теста  \n"
   ]
  },
  {
   "cell_type": "markdown",
   "metadata": {},
   "source": [
    "## Часть 1. Приоритизация гипотез."
   ]
  },
  {
   "cell_type": "markdown",
   "metadata": {},
   "source": [
    "### Обзор и обработка данных 'hypothesis'"
   ]
  },
  {
   "cell_type": "code",
   "execution_count": 1,
   "metadata": {},
   "outputs": [],
   "source": [
    "import pandas as pd\n",
    "import scipy.stats as stats\n",
    "import datetime as dt\n",
    "import numpy as np\n",
    "import matplotlib.pyplot as plt\n",
    "from pandas.plotting import register_matplotlib_converters\n",
    "import warnings"
   ]
  },
  {
   "cell_type": "code",
   "execution_count": 2,
   "metadata": {},
   "outputs": [
    {
     "data": {
      "text/html": [
       "<div>\n",
       "<style scoped>\n",
       "    .dataframe tbody tr th:only-of-type {\n",
       "        vertical-align: middle;\n",
       "    }\n",
       "\n",
       "    .dataframe tbody tr th {\n",
       "        vertical-align: top;\n",
       "    }\n",
       "\n",
       "    .dataframe thead th {\n",
       "        text-align: right;\n",
       "    }\n",
       "</style>\n",
       "<table border=\"1\" class=\"dataframe\">\n",
       "  <thead>\n",
       "    <tr style=\"text-align: right;\">\n",
       "      <th></th>\n",
       "      <th>Hypothesis</th>\n",
       "      <th>Reach</th>\n",
       "      <th>Impact</th>\n",
       "      <th>Confidence</th>\n",
       "      <th>Efforts</th>\n",
       "    </tr>\n",
       "  </thead>\n",
       "  <tbody>\n",
       "    <tr>\n",
       "      <th>0</th>\n",
       "      <td>Добавить два новых канала привлечения трафика,...</td>\n",
       "      <td>3</td>\n",
       "      <td>10</td>\n",
       "      <td>8</td>\n",
       "      <td>6</td>\n",
       "    </tr>\n",
       "    <tr>\n",
       "      <th>1</th>\n",
       "      <td>Запустить собственную службу доставки, что сок...</td>\n",
       "      <td>2</td>\n",
       "      <td>5</td>\n",
       "      <td>4</td>\n",
       "      <td>10</td>\n",
       "    </tr>\n",
       "    <tr>\n",
       "      <th>2</th>\n",
       "      <td>Добавить блоки рекомендаций товаров на сайт ин...</td>\n",
       "      <td>8</td>\n",
       "      <td>3</td>\n",
       "      <td>7</td>\n",
       "      <td>3</td>\n",
       "    </tr>\n",
       "    <tr>\n",
       "      <th>3</th>\n",
       "      <td>Изменить структура категорий, что увеличит кон...</td>\n",
       "      <td>8</td>\n",
       "      <td>3</td>\n",
       "      <td>3</td>\n",
       "      <td>8</td>\n",
       "    </tr>\n",
       "    <tr>\n",
       "      <th>4</th>\n",
       "      <td>Изменить цвет фона главной страницы, чтобы уве...</td>\n",
       "      <td>3</td>\n",
       "      <td>1</td>\n",
       "      <td>1</td>\n",
       "      <td>1</td>\n",
       "    </tr>\n",
       "    <tr>\n",
       "      <th>5</th>\n",
       "      <td>Добавить страницу отзывов клиентов о магазине,...</td>\n",
       "      <td>3</td>\n",
       "      <td>2</td>\n",
       "      <td>2</td>\n",
       "      <td>3</td>\n",
       "    </tr>\n",
       "    <tr>\n",
       "      <th>6</th>\n",
       "      <td>Показать на главной странице баннеры с актуаль...</td>\n",
       "      <td>5</td>\n",
       "      <td>3</td>\n",
       "      <td>8</td>\n",
       "      <td>3</td>\n",
       "    </tr>\n",
       "    <tr>\n",
       "      <th>7</th>\n",
       "      <td>Добавить форму подписки на все основные страни...</td>\n",
       "      <td>10</td>\n",
       "      <td>7</td>\n",
       "      <td>8</td>\n",
       "      <td>5</td>\n",
       "    </tr>\n",
       "    <tr>\n",
       "      <th>8</th>\n",
       "      <td>Запустить акцию, дающую скидку на товар в день...</td>\n",
       "      <td>1</td>\n",
       "      <td>9</td>\n",
       "      <td>9</td>\n",
       "      <td>5</td>\n",
       "    </tr>\n",
       "  </tbody>\n",
       "</table>\n",
       "</div>"
      ],
      "text/plain": [
       "                                          Hypothesis  Reach  Impact  \\\n",
       "0  Добавить два новых канала привлечения трафика,...      3      10   \n",
       "1  Запустить собственную службу доставки, что сок...      2       5   \n",
       "2  Добавить блоки рекомендаций товаров на сайт ин...      8       3   \n",
       "3  Изменить структура категорий, что увеличит кон...      8       3   \n",
       "4  Изменить цвет фона главной страницы, чтобы уве...      3       1   \n",
       "5  Добавить страницу отзывов клиентов о магазине,...      3       2   \n",
       "6  Показать на главной странице баннеры с актуаль...      5       3   \n",
       "7  Добавить форму подписки на все основные страни...     10       7   \n",
       "8  Запустить акцию, дающую скидку на товар в день...      1       9   \n",
       "\n",
       "   Confidence  Efforts  \n",
       "0           8        6  \n",
       "1           4       10  \n",
       "2           7        3  \n",
       "3           3        8  \n",
       "4           1        1  \n",
       "5           2        3  \n",
       "6           8        3  \n",
       "7           8        5  \n",
       "8           9        5  "
      ]
     },
     "execution_count": 2,
     "metadata": {},
     "output_type": "execute_result"
    }
   ],
   "source": [
    "hypothesis = pd.read_csv('hypothesis.csv')\n",
    "hypothesis"
   ]
  },
  {
   "cell_type": "code",
   "execution_count": 3,
   "metadata": {},
   "outputs": [
    {
     "name": "stdout",
     "output_type": "stream",
     "text": [
      "<class 'pandas.core.frame.DataFrame'>\n",
      "RangeIndex: 9 entries, 0 to 8\n",
      "Data columns (total 5 columns):\n",
      " #   Column      Non-Null Count  Dtype \n",
      "---  ------      --------------  ----- \n",
      " 0   Hypothesis  9 non-null      object\n",
      " 1   Reach       9 non-null      int64 \n",
      " 2   Impact      9 non-null      int64 \n",
      " 3   Confidence  9 non-null      int64 \n",
      " 4   Efforts     9 non-null      int64 \n",
      "dtypes: int64(4), object(1)\n",
      "memory usage: 488.0+ bytes\n"
     ]
    }
   ],
   "source": [
    "# посмотрим что покажет info\n",
    "\n",
    "hypothesis.info()"
   ]
  },
  {
   "cell_type": "markdown",
   "metadata": {},
   "source": [
    "Пропусков нет, все значения баллов в integer"
   ]
  },
  {
   "cell_type": "code",
   "execution_count": 4,
   "metadata": {},
   "outputs": [
    {
     "data": {
      "text/plain": [
       "Index(['hypothesis', 'reach', 'impact', 'confidence', 'efforts'], dtype='object')"
      ]
     },
     "execution_count": 4,
     "metadata": {},
     "output_type": "execute_result"
    }
   ],
   "source": [
    "#преобразуем название столбцов к нижнему регистру \n",
    "\n",
    "hypothesis.columns = hypothesis.columns.str.lower()\n",
    "hypothesis.columns\n"
   ]
  },
  {
   "cell_type": "markdown",
   "metadata": {},
   "source": [
    "### Применим фреймворк ICE для приоритизации гипотез. Отсортируем их по убыванию приоритета."
   ]
  },
  {
   "attachments": {
    "image.png": {
     "image/png": "[encoded data removed]"
    }
   },
   "cell_type": "markdown",
   "metadata": {},
   "source": [
    "![image.png](attachment:image.png)"
   ]
  },
  {
   "cell_type": "code",
   "execution_count": 5,
   "metadata": {},
   "outputs": [
    {
     "data": {
      "text/html": [
       "<div>\n",
       "<style scoped>\n",
       "    .dataframe tbody tr th:only-of-type {\n",
       "        vertical-align: middle;\n",
       "    }\n",
       "\n",
       "    .dataframe tbody tr th {\n",
       "        vertical-align: top;\n",
       "    }\n",
       "\n",
       "    .dataframe thead th {\n",
       "        text-align: right;\n",
       "    }\n",
       "</style>\n",
       "<table border=\"1\" class=\"dataframe\">\n",
       "  <thead>\n",
       "    <tr style=\"text-align: right;\">\n",
       "      <th></th>\n",
       "      <th>hypothesis</th>\n",
       "      <th>reach</th>\n",
       "      <th>impact</th>\n",
       "      <th>confidence</th>\n",
       "      <th>efforts</th>\n",
       "      <th>ICE</th>\n",
       "    </tr>\n",
       "  </thead>\n",
       "  <tbody>\n",
       "    <tr>\n",
       "      <th>0</th>\n",
       "      <td>Добавить два новых канала привлечения трафика,...</td>\n",
       "      <td>3</td>\n",
       "      <td>10</td>\n",
       "      <td>8</td>\n",
       "      <td>6</td>\n",
       "      <td>13.333333</td>\n",
       "    </tr>\n",
       "    <tr>\n",
       "      <th>1</th>\n",
       "      <td>Запустить собственную службу доставки, что сок...</td>\n",
       "      <td>2</td>\n",
       "      <td>5</td>\n",
       "      <td>4</td>\n",
       "      <td>10</td>\n",
       "      <td>2.000000</td>\n",
       "    </tr>\n",
       "    <tr>\n",
       "      <th>2</th>\n",
       "      <td>Добавить блоки рекомендаций товаров на сайт ин...</td>\n",
       "      <td>8</td>\n",
       "      <td>3</td>\n",
       "      <td>7</td>\n",
       "      <td>3</td>\n",
       "      <td>7.000000</td>\n",
       "    </tr>\n",
       "    <tr>\n",
       "      <th>3</th>\n",
       "      <td>Изменить структура категорий, что увеличит кон...</td>\n",
       "      <td>8</td>\n",
       "      <td>3</td>\n",
       "      <td>3</td>\n",
       "      <td>8</td>\n",
       "      <td>1.125000</td>\n",
       "    </tr>\n",
       "    <tr>\n",
       "      <th>4</th>\n",
       "      <td>Изменить цвет фона главной страницы, чтобы уве...</td>\n",
       "      <td>3</td>\n",
       "      <td>1</td>\n",
       "      <td>1</td>\n",
       "      <td>1</td>\n",
       "      <td>1.000000</td>\n",
       "    </tr>\n",
       "    <tr>\n",
       "      <th>5</th>\n",
       "      <td>Добавить страницу отзывов клиентов о магазине,...</td>\n",
       "      <td>3</td>\n",
       "      <td>2</td>\n",
       "      <td>2</td>\n",
       "      <td>3</td>\n",
       "      <td>1.333333</td>\n",
       "    </tr>\n",
       "    <tr>\n",
       "      <th>6</th>\n",
       "      <td>Показать на главной странице баннеры с актуаль...</td>\n",
       "      <td>5</td>\n",
       "      <td>3</td>\n",
       "      <td>8</td>\n",
       "      <td>3</td>\n",
       "      <td>8.000000</td>\n",
       "    </tr>\n",
       "    <tr>\n",
       "      <th>7</th>\n",
       "      <td>Добавить форму подписки на все основные страни...</td>\n",
       "      <td>10</td>\n",
       "      <td>7</td>\n",
       "      <td>8</td>\n",
       "      <td>5</td>\n",
       "      <td>11.200000</td>\n",
       "    </tr>\n",
       "    <tr>\n",
       "      <th>8</th>\n",
       "      <td>Запустить акцию, дающую скидку на товар в день...</td>\n",
       "      <td>1</td>\n",
       "      <td>9</td>\n",
       "      <td>9</td>\n",
       "      <td>5</td>\n",
       "      <td>16.200000</td>\n",
       "    </tr>\n",
       "  </tbody>\n",
       "</table>\n",
       "</div>"
      ],
      "text/plain": [
       "                                          hypothesis  reach  impact  \\\n",
       "0  Добавить два новых канала привлечения трафика,...      3      10   \n",
       "1  Запустить собственную службу доставки, что сок...      2       5   \n",
       "2  Добавить блоки рекомендаций товаров на сайт ин...      8       3   \n",
       "3  Изменить структура категорий, что увеличит кон...      8       3   \n",
       "4  Изменить цвет фона главной страницы, чтобы уве...      3       1   \n",
       "5  Добавить страницу отзывов клиентов о магазине,...      3       2   \n",
       "6  Показать на главной странице баннеры с актуаль...      5       3   \n",
       "7  Добавить форму подписки на все основные страни...     10       7   \n",
       "8  Запустить акцию, дающую скидку на товар в день...      1       9   \n",
       "\n",
       "   confidence  efforts        ICE  \n",
       "0           8        6  13.333333  \n",
       "1           4       10   2.000000  \n",
       "2           7        3   7.000000  \n",
       "3           3        8   1.125000  \n",
       "4           1        1   1.000000  \n",
       "5           2        3   1.333333  \n",
       "6           8        3   8.000000  \n",
       "7           8        5  11.200000  \n",
       "8           9        5  16.200000  "
      ]
     },
     "execution_count": 5,
     "metadata": {},
     "output_type": "execute_result"
    }
   ],
   "source": [
    "#Добавим столбец \"ICE\"\n",
    "\n",
    "hypothesis['ICE']=(hypothesis['impact']*hypothesis['confidence'])/hypothesis['efforts']\n",
    "hypothesis"
   ]
  },
  {
   "cell_type": "code",
   "execution_count": 6,
   "metadata": {},
   "outputs": [
    {
     "name": "stdout",
     "output_type": "stream",
     "text": [
      "                                          hypothesis        ICE\n",
      "8  Запустить акцию, дающую скидку на товар в день...  16.200000\n",
      "0  Добавить два новых канала привлечения трафика,...  13.333333\n",
      "7  Добавить форму подписки на все основные страни...  11.200000\n",
      "6  Показать на главной странице баннеры с актуаль...   8.000000\n",
      "2  Добавить блоки рекомендаций товаров на сайт ин...   7.000000\n",
      "1  Запустить собственную службу доставки, что сок...   2.000000\n",
      "5  Добавить страницу отзывов клиентов о магазине,...   1.333333\n",
      "3  Изменить структура категорий, что увеличит кон...   1.125000\n",
      "4  Изменить цвет фона главной страницы, чтобы уве...   1.000000\n"
     ]
    }
   ],
   "source": [
    "#Отсортируем по убыванию приоритета, выведем только столбцы \"hypothesis\" и \"ICE\"\n",
    "\n",
    "print(hypothesis[['hypothesis', 'ICE']].sort_values('ICE', ascending=False))"
   ]
  },
  {
   "cell_type": "markdown",
   "metadata": {},
   "source": [
    "Самые перспективные гипотезы по ICE:    \n",
    "8,0,7."
   ]
  },
  {
   "cell_type": "markdown",
   "metadata": {},
   "source": [
    "### Применим фреймворк RICE для приоритизации гипотез. Отсортируем их по убыванию приоритета."
   ]
  },
  {
   "attachments": {
    "image.png": {
     "image/png": "[encoded data removed]"
    }
   },
   "cell_type": "markdown",
   "metadata": {},
   "source": [
    "![image.png](attachment:image.png)"
   ]
  },
  {
   "cell_type": "code",
   "execution_count": 7,
   "metadata": {},
   "outputs": [
    {
     "data": {
      "text/html": [
       "<div>\n",
       "<style scoped>\n",
       "    .dataframe tbody tr th:only-of-type {\n",
       "        vertical-align: middle;\n",
       "    }\n",
       "\n",
       "    .dataframe tbody tr th {\n",
       "        vertical-align: top;\n",
       "    }\n",
       "\n",
       "    .dataframe thead th {\n",
       "        text-align: right;\n",
       "    }\n",
       "</style>\n",
       "<table border=\"1\" class=\"dataframe\">\n",
       "  <thead>\n",
       "    <tr style=\"text-align: right;\">\n",
       "      <th></th>\n",
       "      <th>hypothesis</th>\n",
       "      <th>reach</th>\n",
       "      <th>impact</th>\n",
       "      <th>confidence</th>\n",
       "      <th>efforts</th>\n",
       "      <th>ICE</th>\n",
       "      <th>RICE</th>\n",
       "    </tr>\n",
       "  </thead>\n",
       "  <tbody>\n",
       "    <tr>\n",
       "      <th>0</th>\n",
       "      <td>Добавить два новых канала привлечения трафика,...</td>\n",
       "      <td>3</td>\n",
       "      <td>10</td>\n",
       "      <td>8</td>\n",
       "      <td>6</td>\n",
       "      <td>13.333333</td>\n",
       "      <td>40.0</td>\n",
       "    </tr>\n",
       "    <tr>\n",
       "      <th>1</th>\n",
       "      <td>Запустить собственную службу доставки, что сок...</td>\n",
       "      <td>2</td>\n",
       "      <td>5</td>\n",
       "      <td>4</td>\n",
       "      <td>10</td>\n",
       "      <td>2.000000</td>\n",
       "      <td>4.0</td>\n",
       "    </tr>\n",
       "    <tr>\n",
       "      <th>2</th>\n",
       "      <td>Добавить блоки рекомендаций товаров на сайт ин...</td>\n",
       "      <td>8</td>\n",
       "      <td>3</td>\n",
       "      <td>7</td>\n",
       "      <td>3</td>\n",
       "      <td>7.000000</td>\n",
       "      <td>56.0</td>\n",
       "    </tr>\n",
       "    <tr>\n",
       "      <th>3</th>\n",
       "      <td>Изменить структура категорий, что увеличит кон...</td>\n",
       "      <td>8</td>\n",
       "      <td>3</td>\n",
       "      <td>3</td>\n",
       "      <td>8</td>\n",
       "      <td>1.125000</td>\n",
       "      <td>9.0</td>\n",
       "    </tr>\n",
       "    <tr>\n",
       "      <th>4</th>\n",
       "      <td>Изменить цвет фона главной страницы, чтобы уве...</td>\n",
       "      <td>3</td>\n",
       "      <td>1</td>\n",
       "      <td>1</td>\n",
       "      <td>1</td>\n",
       "      <td>1.000000</td>\n",
       "      <td>3.0</td>\n",
       "    </tr>\n",
       "    <tr>\n",
       "      <th>5</th>\n",
       "      <td>Добавить страницу отзывов клиентов о магазине,...</td>\n",
       "      <td>3</td>\n",
       "      <td>2</td>\n",
       "      <td>2</td>\n",
       "      <td>3</td>\n",
       "      <td>1.333333</td>\n",
       "      <td>4.0</td>\n",
       "    </tr>\n",
       "    <tr>\n",
       "      <th>6</th>\n",
       "      <td>Показать на главной странице баннеры с актуаль...</td>\n",
       "      <td>5</td>\n",
       "      <td>3</td>\n",
       "      <td>8</td>\n",
       "      <td>3</td>\n",
       "      <td>8.000000</td>\n",
       "      <td>40.0</td>\n",
       "    </tr>\n",
       "    <tr>\n",
       "      <th>7</th>\n",
       "      <td>Добавить форму подписки на все основные страни...</td>\n",
       "      <td>10</td>\n",
       "      <td>7</td>\n",
       "      <td>8</td>\n",
       "      <td>5</td>\n",
       "      <td>11.200000</td>\n",
       "      <td>112.0</td>\n",
       "    </tr>\n",
       "    <tr>\n",
       "      <th>8</th>\n",
       "      <td>Запустить акцию, дающую скидку на товар в день...</td>\n",
       "      <td>1</td>\n",
       "      <td>9</td>\n",
       "      <td>9</td>\n",
       "      <td>5</td>\n",
       "      <td>16.200000</td>\n",
       "      <td>16.2</td>\n",
       "    </tr>\n",
       "  </tbody>\n",
       "</table>\n",
       "</div>"
      ],
      "text/plain": [
       "                                          hypothesis  reach  impact  \\\n",
       "0  Добавить два новых канала привлечения трафика,...      3      10   \n",
       "1  Запустить собственную службу доставки, что сок...      2       5   \n",
       "2  Добавить блоки рекомендаций товаров на сайт ин...      8       3   \n",
       "3  Изменить структура категорий, что увеличит кон...      8       3   \n",
       "4  Изменить цвет фона главной страницы, чтобы уве...      3       1   \n",
       "5  Добавить страницу отзывов клиентов о магазине,...      3       2   \n",
       "6  Показать на главной странице баннеры с актуаль...      5       3   \n",
       "7  Добавить форму подписки на все основные страни...     10       7   \n",
       "8  Запустить акцию, дающую скидку на товар в день...      1       9   \n",
       "\n",
       "   confidence  efforts        ICE   RICE  \n",
       "0           8        6  13.333333   40.0  \n",
       "1           4       10   2.000000    4.0  \n",
       "2           7        3   7.000000   56.0  \n",
       "3           3        8   1.125000    9.0  \n",
       "4           1        1   1.000000    3.0  \n",
       "5           2        3   1.333333    4.0  \n",
       "6           8        3   8.000000   40.0  \n",
       "7           8        5  11.200000  112.0  \n",
       "8           9        5  16.200000   16.2  "
      ]
     },
     "execution_count": 7,
     "metadata": {},
     "output_type": "execute_result"
    }
   ],
   "source": [
    "#Добавим столбец \"RICE\"\n",
    "\n",
    "hypothesis['RICE']=(hypothesis['reach']*hypothesis['impact']*hypothesis['confidence'])/hypothesis['efforts']\n",
    "hypothesis"
   ]
  },
  {
   "cell_type": "code",
   "execution_count": 8,
   "metadata": {},
   "outputs": [
    {
     "name": "stdout",
     "output_type": "stream",
     "text": [
      "                                          hypothesis   RICE\n",
      "7  Добавить форму подписки на все основные страни...  112.0\n",
      "2  Добавить блоки рекомендаций товаров на сайт ин...   56.0\n",
      "0  Добавить два новых канала привлечения трафика,...   40.0\n",
      "6  Показать на главной странице баннеры с актуаль...   40.0\n",
      "8  Запустить акцию, дающую скидку на товар в день...   16.2\n",
      "3  Изменить структура категорий, что увеличит кон...    9.0\n",
      "1  Запустить собственную службу доставки, что сок...    4.0\n",
      "5  Добавить страницу отзывов клиентов о магазине,...    4.0\n",
      "4  Изменить цвет фона главной страницы, чтобы уве...    3.0\n"
     ]
    }
   ],
   "source": [
    "#Отсортируем по убыванию приоритета, выведем только столбцы \"hypothesis\" и \"RICE\"\n",
    "\n",
    "print(hypothesis[['hypothesis', 'RICE']].sort_values('RICE', ascending=False))"
   ]
  },
  {
   "cell_type": "markdown",
   "metadata": {},
   "source": [
    "Самые перспективные гипотезы по RICE:    \n",
    "7,2,0."
   ]
  },
  {
   "cell_type": "markdown",
   "metadata": {},
   "source": [
    "### Как изменилась приоритизация гипотез при применении RICE вместо ICE?"
   ]
  },
  {
   "cell_type": "markdown",
   "metadata": {},
   "source": [
    "- Самые перспективные гипотезы по ICE:\n",
    "   8,0,7.\n",
    "\n",
    "- Самые перспективные гипотезы по ICE:\n",
    "   7,2,0.\n",
    "\n",
    "- В обоих способах присутствуют гипотезы **2 и 7**.    \n",
    "\n",
    "- \"RICE\" это модификация метода \"ICE\", по этому большую приоритизацию будет иметь та гипотеза, в которой значение \"reach\"(охват пользователей по 10-балльной шкале) больше остальных. В 7 гипотеза она максимальна "
   ]
  },
  {
   "cell_type": "markdown",
   "metadata": {},
   "source": [
    "## Часть 2. Анализ A/B-теста"
   ]
  },
  {
   "cell_type": "markdown",
   "metadata": {},
   "source": [
    "### Обзор и обработка данных"
   ]
  },
  {
   "cell_type": "markdown",
   "metadata": {},
   "source": [
    "#### orders"
   ]
  },
  {
   "cell_type": "code",
   "execution_count": 9,
   "metadata": {},
   "outputs": [],
   "source": [
    "#откроем orders и visitors\n",
    "\n",
    "orders = pd.read_csv('orders.csv')\n",
    "visitors = pd.read_csv('visitors.csv')"
   ]
  },
  {
   "cell_type": "code",
   "execution_count": 10,
   "metadata": {},
   "outputs": [
    {
     "data": {
      "text/html": [
       "<div>\n",
       "<style scoped>\n",
       "    .dataframe tbody tr th:only-of-type {\n",
       "        vertical-align: middle;\n",
       "    }\n",
       "\n",
       "    .dataframe tbody tr th {\n",
       "        vertical-align: top;\n",
       "    }\n",
       "\n",
       "    .dataframe thead th {\n",
       "        text-align: right;\n",
       "    }\n",
       "</style>\n",
       "<table border=\"1\" class=\"dataframe\">\n",
       "  <thead>\n",
       "    <tr style=\"text-align: right;\">\n",
       "      <th></th>\n",
       "      <th>transactionId</th>\n",
       "      <th>visitorId</th>\n",
       "      <th>date</th>\n",
       "      <th>revenue</th>\n",
       "      <th>group</th>\n",
       "    </tr>\n",
       "  </thead>\n",
       "  <tbody>\n",
       "    <tr>\n",
       "      <th>0</th>\n",
       "      <td>3667963787</td>\n",
       "      <td>3312258926</td>\n",
       "      <td>2019-08-15</td>\n",
       "      <td>1650</td>\n",
       "      <td>B</td>\n",
       "    </tr>\n",
       "    <tr>\n",
       "      <th>1</th>\n",
       "      <td>2804400009</td>\n",
       "      <td>3642806036</td>\n",
       "      <td>2019-08-15</td>\n",
       "      <td>730</td>\n",
       "      <td>B</td>\n",
       "    </tr>\n",
       "    <tr>\n",
       "      <th>2</th>\n",
       "      <td>2961555356</td>\n",
       "      <td>4069496402</td>\n",
       "      <td>2019-08-15</td>\n",
       "      <td>400</td>\n",
       "      <td>A</td>\n",
       "    </tr>\n",
       "    <tr>\n",
       "      <th>3</th>\n",
       "      <td>3797467345</td>\n",
       "      <td>1196621759</td>\n",
       "      <td>2019-08-15</td>\n",
       "      <td>9759</td>\n",
       "      <td>B</td>\n",
       "    </tr>\n",
       "    <tr>\n",
       "      <th>4</th>\n",
       "      <td>2282983706</td>\n",
       "      <td>2322279887</td>\n",
       "      <td>2019-08-15</td>\n",
       "      <td>2308</td>\n",
       "      <td>B</td>\n",
       "    </tr>\n",
       "  </tbody>\n",
       "</table>\n",
       "</div>"
      ],
      "text/plain": [
       "   transactionId   visitorId        date  revenue group\n",
       "0     3667963787  3312258926  2019-08-15     1650     B\n",
       "1     2804400009  3642806036  2019-08-15      730     B\n",
       "2     2961555356  4069496402  2019-08-15      400     A\n",
       "3     3797467345  1196621759  2019-08-15     9759     B\n",
       "4     2282983706  2322279887  2019-08-15     2308     B"
      ]
     },
     "metadata": {},
     "output_type": "display_data"
    },
    {
     "name": "stdout",
     "output_type": "stream",
     "text": [
      "<class 'pandas.core.frame.DataFrame'>\n",
      "RangeIndex: 1197 entries, 0 to 1196\n",
      "Data columns (total 5 columns):\n",
      " #   Column         Non-Null Count  Dtype \n",
      "---  ------         --------------  ----- \n",
      " 0   transactionId  1197 non-null   int64 \n",
      " 1   visitorId      1197 non-null   int64 \n",
      " 2   date           1197 non-null   object\n",
      " 3   revenue        1197 non-null   int64 \n",
      " 4   group          1197 non-null   object\n",
      "dtypes: int64(3), object(2)\n",
      "memory usage: 46.9+ KB\n"
     ]
    },
    {
     "data": {
      "text/plain": [
       "None"
      ]
     },
     "metadata": {},
     "output_type": "display_data"
    }
   ],
   "source": [
    "# Рассмотрим таблицу с заказами:\n",
    "display(orders.head(5))\n",
    "display(orders.info())"
   ]
  },
  {
   "cell_type": "markdown",
   "metadata": {},
   "source": [
    "- Пропусков нет\n",
    "- Необходимо переименовать столбцы \ttransactionId и visitorId\n",
    "- Изменим тип \"date\" на datetime"
   ]
  },
  {
   "cell_type": "code",
   "execution_count": 11,
   "metadata": {},
   "outputs": [
    {
     "data": {
      "text/plain": [
       "Index(['transaction_id', 'visitor_id', 'date', 'revenue', 'group'], dtype='object')"
      ]
     },
     "execution_count": 11,
     "metadata": {},
     "output_type": "execute_result"
    }
   ],
   "source": [
    "# переименуем столбцы\n",
    "\n",
    "orders = orders.rename(\n",
    "columns={\n",
    "'transactionId': 'transaction_id',\n",
    "'visitorId': 'visitor_id',\n",
    "}\n",
    ")\n",
    "orders.columns"
   ]
  },
  {
   "cell_type": "code",
   "execution_count": 12,
   "metadata": {},
   "outputs": [
    {
     "data": {
      "text/plain": [
       "transaction_id             int64\n",
       "visitor_id                 int64\n",
       "date              datetime64[ns]\n",
       "revenue                    int64\n",
       "group                     object\n",
       "dtype: object"
      ]
     },
     "execution_count": 12,
     "metadata": {},
     "output_type": "execute_result"
    }
   ],
   "source": [
    "# изменим тип на datetime\n",
    "\n",
    "orders['date']= pd.to_datetime(orders['date'], format='%Y-%m-%d')\n",
    "orders.dtypes                                 "
   ]
  },
  {
   "cell_type": "code",
   "execution_count": 13,
   "metadata": {},
   "outputs": [
    {
     "name": "stdout",
     "output_type": "stream",
     "text": [
      "Начало теста: 2019-08-01 00:00:00\n",
      "Окончание теста: 2019-08-31 00:00:00\n"
     ]
    }
   ],
   "source": [
    "print('Начало теста:', orders['date'].min())\n",
    "print('Окончание теста:', orders['date'].max())"
   ]
  },
  {
   "cell_type": "markdown",
   "metadata": {},
   "source": [
    "#### visitors"
   ]
  },
  {
   "cell_type": "code",
   "execution_count": 14,
   "metadata": {},
   "outputs": [
    {
     "data": {
      "text/html": [
       "<div>\n",
       "<style scoped>\n",
       "    .dataframe tbody tr th:only-of-type {\n",
       "        vertical-align: middle;\n",
       "    }\n",
       "\n",
       "    .dataframe tbody tr th {\n",
       "        vertical-align: top;\n",
       "    }\n",
       "\n",
       "    .dataframe thead th {\n",
       "        text-align: right;\n",
       "    }\n",
       "</style>\n",
       "<table border=\"1\" class=\"dataframe\">\n",
       "  <thead>\n",
       "    <tr style=\"text-align: right;\">\n",
       "      <th></th>\n",
       "      <th>date</th>\n",
       "      <th>group</th>\n",
       "      <th>visitors</th>\n",
       "    </tr>\n",
       "  </thead>\n",
       "  <tbody>\n",
       "    <tr>\n",
       "      <th>0</th>\n",
       "      <td>2019-08-01</td>\n",
       "      <td>A</td>\n",
       "      <td>719</td>\n",
       "    </tr>\n",
       "    <tr>\n",
       "      <th>1</th>\n",
       "      <td>2019-08-02</td>\n",
       "      <td>A</td>\n",
       "      <td>619</td>\n",
       "    </tr>\n",
       "    <tr>\n",
       "      <th>2</th>\n",
       "      <td>2019-08-03</td>\n",
       "      <td>A</td>\n",
       "      <td>507</td>\n",
       "    </tr>\n",
       "    <tr>\n",
       "      <th>3</th>\n",
       "      <td>2019-08-04</td>\n",
       "      <td>A</td>\n",
       "      <td>717</td>\n",
       "    </tr>\n",
       "    <tr>\n",
       "      <th>4</th>\n",
       "      <td>2019-08-05</td>\n",
       "      <td>A</td>\n",
       "      <td>756</td>\n",
       "    </tr>\n",
       "  </tbody>\n",
       "</table>\n",
       "</div>"
      ],
      "text/plain": [
       "         date group  visitors\n",
       "0  2019-08-01     A       719\n",
       "1  2019-08-02     A       619\n",
       "2  2019-08-03     A       507\n",
       "3  2019-08-04     A       717\n",
       "4  2019-08-05     A       756"
      ]
     },
     "metadata": {},
     "output_type": "display_data"
    },
    {
     "name": "stdout",
     "output_type": "stream",
     "text": [
      "<class 'pandas.core.frame.DataFrame'>\n",
      "RangeIndex: 62 entries, 0 to 61\n",
      "Data columns (total 3 columns):\n",
      " #   Column    Non-Null Count  Dtype \n",
      "---  ------    --------------  ----- \n",
      " 0   date      62 non-null     object\n",
      " 1   group     62 non-null     object\n",
      " 2   visitors  62 non-null     int64 \n",
      "dtypes: int64(1), object(2)\n",
      "memory usage: 1.6+ KB\n"
     ]
    },
    {
     "data": {
      "text/plain": [
       "None"
      ]
     },
     "metadata": {},
     "output_type": "display_data"
    }
   ],
   "source": [
    "# Рассмотрим таблицу с пользователями:\n",
    "display(visitors.head(5))\n",
    "display(visitors.info())"
   ]
  },
  {
   "cell_type": "markdown",
   "metadata": {},
   "source": [
    "- Пропусков нет\n",
    "- Изменим тип \"date\" на datetime"
   ]
  },
  {
   "cell_type": "code",
   "execution_count": 15,
   "metadata": {},
   "outputs": [
    {
     "data": {
      "text/plain": [
       "date        datetime64[ns]\n",
       "group               object\n",
       "visitors             int64\n",
       "dtype: object"
      ]
     },
     "execution_count": 15,
     "metadata": {},
     "output_type": "execute_result"
    }
   ],
   "source": [
    "# изменим тип на datetime\n",
    "\n",
    "visitors['date']= pd.to_datetime(visitors['date'], format='%Y-%m-%d')\n",
    "visitors.dtypes "
   ]
  },
  {
   "cell_type": "markdown",
   "metadata": {},
   "source": [
    "### Построим график кумулятивной выручки по группам. Сделаем выводы и предположения."
   ]
  },
  {
   "cell_type": "code",
   "execution_count": 16,
   "metadata": {},
   "outputs": [
    {
     "data": {
      "text/html": [
       "<div>\n",
       "<style scoped>\n",
       "    .dataframe tbody tr th:only-of-type {\n",
       "        vertical-align: middle;\n",
       "    }\n",
       "\n",
       "    .dataframe tbody tr th {\n",
       "        vertical-align: top;\n",
       "    }\n",
       "\n",
       "    .dataframe thead th {\n",
       "        text-align: right;\n",
       "    }\n",
       "</style>\n",
       "<table border=\"1\" class=\"dataframe\">\n",
       "  <thead>\n",
       "    <tr style=\"text-align: right;\">\n",
       "      <th></th>\n",
       "      <th>date</th>\n",
       "      <th>group</th>\n",
       "      <th>transaction_id</th>\n",
       "      <th>visitor_id</th>\n",
       "      <th>revenue</th>\n",
       "    </tr>\n",
       "  </thead>\n",
       "  <tbody>\n",
       "    <tr>\n",
       "      <th>55</th>\n",
       "      <td>2019-08-01</td>\n",
       "      <td>A</td>\n",
       "      <td>24</td>\n",
       "      <td>20</td>\n",
       "      <td>148579</td>\n",
       "    </tr>\n",
       "    <tr>\n",
       "      <th>66</th>\n",
       "      <td>2019-08-01</td>\n",
       "      <td>B</td>\n",
       "      <td>21</td>\n",
       "      <td>20</td>\n",
       "      <td>101217</td>\n",
       "    </tr>\n",
       "    <tr>\n",
       "      <th>175</th>\n",
       "      <td>2019-08-02</td>\n",
       "      <td>A</td>\n",
       "      <td>44</td>\n",
       "      <td>38</td>\n",
       "      <td>242401</td>\n",
       "    </tr>\n",
       "    <tr>\n",
       "      <th>173</th>\n",
       "      <td>2019-08-02</td>\n",
       "      <td>B</td>\n",
       "      <td>45</td>\n",
       "      <td>43</td>\n",
       "      <td>266748</td>\n",
       "    </tr>\n",
       "    <tr>\n",
       "      <th>291</th>\n",
       "      <td>2019-08-03</td>\n",
       "      <td>A</td>\n",
       "      <td>68</td>\n",
       "      <td>62</td>\n",
       "      <td>354874</td>\n",
       "    </tr>\n",
       "    <tr>\n",
       "      <th>310</th>\n",
       "      <td>2019-08-03</td>\n",
       "      <td>B</td>\n",
       "      <td>61</td>\n",
       "      <td>59</td>\n",
       "      <td>380996</td>\n",
       "    </tr>\n",
       "    <tr>\n",
       "      <th>499</th>\n",
       "      <td>2019-08-04</td>\n",
       "      <td>A</td>\n",
       "      <td>84</td>\n",
       "      <td>77</td>\n",
       "      <td>425699</td>\n",
       "    </tr>\n",
       "    <tr>\n",
       "      <th>498</th>\n",
       "      <td>2019-08-04</td>\n",
       "      <td>B</td>\n",
       "      <td>78</td>\n",
       "      <td>75</td>\n",
       "      <td>489567</td>\n",
       "    </tr>\n",
       "    <tr>\n",
       "      <th>698</th>\n",
       "      <td>2019-08-05</td>\n",
       "      <td>A</td>\n",
       "      <td>109</td>\n",
       "      <td>100</td>\n",
       "      <td>549917</td>\n",
       "    </tr>\n",
       "    <tr>\n",
       "      <th>699</th>\n",
       "      <td>2019-08-05</td>\n",
       "      <td>B</td>\n",
       "      <td>101</td>\n",
       "      <td>98</td>\n",
       "      <td>581995</td>\n",
       "    </tr>\n",
       "  </tbody>\n",
       "</table>\n",
       "</div>"
      ],
      "text/plain": [
       "          date group  transaction_id  visitor_id  revenue\n",
       "55  2019-08-01     A              24          20   148579\n",
       "66  2019-08-01     B              21          20   101217\n",
       "175 2019-08-02     A              44          38   242401\n",
       "173 2019-08-02     B              45          43   266748\n",
       "291 2019-08-03     A              68          62   354874\n",
       "310 2019-08-03     B              61          59   380996\n",
       "499 2019-08-04     A              84          77   425699\n",
       "498 2019-08-04     B              78          75   489567\n",
       "698 2019-08-05     A             109         100   549917\n",
       "699 2019-08-05     B             101          98   581995"
      ]
     },
     "metadata": {},
     "output_type": "display_data"
    }
   ],
   "source": [
    "# создаем массив уникальных пар значений дат и групп теста\n",
    "\n",
    "datesGroups = orders[['date','group']].drop_duplicates() \n",
    "\n",
    "# Соберём агрегированные кумулятивные по дням данные о заказах:\n",
    "ordersAggregated = (datesGroups\n",
    "                    .apply(lambda x: orders[(orders['date'] <= x['date']) & (orders['group'] == x['group'])]\n",
    "                        .agg({'date':'max', 'group':'max', 'transaction_id':pd.Series.nunique, 'visitor_id':pd.Series.nunique, 'revenue':'sum'}), axis=1)\n",
    "                    .sort_values(by=['date','group']) \n",
    "                   )\n",
    "display(ordersAggregated.head(10))"
   ]
  },
  {
   "cell_type": "code",
   "execution_count": 17,
   "metadata": {},
   "outputs": [
    {
     "data": {
      "text/html": [
       "<div>\n",
       "<style scoped>\n",
       "    .dataframe tbody tr th:only-of-type {\n",
       "        vertical-align: middle;\n",
       "    }\n",
       "\n",
       "    .dataframe tbody tr th {\n",
       "        vertical-align: top;\n",
       "    }\n",
       "\n",
       "    .dataframe thead th {\n",
       "        text-align: right;\n",
       "    }\n",
       "</style>\n",
       "<table border=\"1\" class=\"dataframe\">\n",
       "  <thead>\n",
       "    <tr style=\"text-align: right;\">\n",
       "      <th></th>\n",
       "      <th>date</th>\n",
       "      <th>group</th>\n",
       "      <th>visitors</th>\n",
       "    </tr>\n",
       "  </thead>\n",
       "  <tbody>\n",
       "    <tr>\n",
       "      <th>55</th>\n",
       "      <td>2019-08-01</td>\n",
       "      <td>A</td>\n",
       "      <td>719</td>\n",
       "    </tr>\n",
       "    <tr>\n",
       "      <th>66</th>\n",
       "      <td>2019-08-01</td>\n",
       "      <td>B</td>\n",
       "      <td>713</td>\n",
       "    </tr>\n",
       "    <tr>\n",
       "      <th>175</th>\n",
       "      <td>2019-08-02</td>\n",
       "      <td>A</td>\n",
       "      <td>1338</td>\n",
       "    </tr>\n",
       "    <tr>\n",
       "      <th>173</th>\n",
       "      <td>2019-08-02</td>\n",
       "      <td>B</td>\n",
       "      <td>1294</td>\n",
       "    </tr>\n",
       "    <tr>\n",
       "      <th>291</th>\n",
       "      <td>2019-08-03</td>\n",
       "      <td>A</td>\n",
       "      <td>1845</td>\n",
       "    </tr>\n",
       "    <tr>\n",
       "      <th>310</th>\n",
       "      <td>2019-08-03</td>\n",
       "      <td>B</td>\n",
       "      <td>1803</td>\n",
       "    </tr>\n",
       "    <tr>\n",
       "      <th>499</th>\n",
       "      <td>2019-08-04</td>\n",
       "      <td>A</td>\n",
       "      <td>2562</td>\n",
       "    </tr>\n",
       "    <tr>\n",
       "      <th>498</th>\n",
       "      <td>2019-08-04</td>\n",
       "      <td>B</td>\n",
       "      <td>2573</td>\n",
       "    </tr>\n",
       "    <tr>\n",
       "      <th>698</th>\n",
       "      <td>2019-08-05</td>\n",
       "      <td>A</td>\n",
       "      <td>3318</td>\n",
       "    </tr>\n",
       "    <tr>\n",
       "      <th>699</th>\n",
       "      <td>2019-08-05</td>\n",
       "      <td>B</td>\n",
       "      <td>3280</td>\n",
       "    </tr>\n",
       "  </tbody>\n",
       "</table>\n",
       "</div>"
      ],
      "text/plain": [
       "          date group  visitors\n",
       "55  2019-08-01     A       719\n",
       "66  2019-08-01     B       713\n",
       "175 2019-08-02     A      1338\n",
       "173 2019-08-02     B      1294\n",
       "291 2019-08-03     A      1845\n",
       "310 2019-08-03     B      1803\n",
       "499 2019-08-04     A      2562\n",
       "498 2019-08-04     B      2573\n",
       "698 2019-08-05     A      3318\n",
       "699 2019-08-05     B      3280"
      ]
     },
     "metadata": {},
     "output_type": "display_data"
    }
   ],
   "source": [
    "# Соберём агрегированные кумулятивные по дням данные о посетителях:\n",
    "visitorsAggregated = (datesGroups\n",
    "                      .apply(lambda x: visitors[(visitors['date'] <= x['date']) & (visitors['group'] == x['group'])]\n",
    "                          .agg({'date' : 'max', 'group' : 'max', 'visitors' : 'sum'}), axis=1)\n",
    "                      .sort_values(by=['date','group'])\n",
    "                     )\n",
    "display(visitorsAggregated.head(10))"
   ]
  },
  {
   "cell_type": "code",
   "execution_count": 18,
   "metadata": {},
   "outputs": [
    {
     "data": {
      "text/html": [
       "<div>\n",
       "<style scoped>\n",
       "    .dataframe tbody tr th:only-of-type {\n",
       "        vertical-align: middle;\n",
       "    }\n",
       "\n",
       "    .dataframe tbody tr th {\n",
       "        vertical-align: top;\n",
       "    }\n",
       "\n",
       "    .dataframe thead th {\n",
       "        text-align: right;\n",
       "    }\n",
       "</style>\n",
       "<table border=\"1\" class=\"dataframe\">\n",
       "  <thead>\n",
       "    <tr style=\"text-align: right;\">\n",
       "      <th></th>\n",
       "      <th>date</th>\n",
       "      <th>group</th>\n",
       "      <th>orders</th>\n",
       "      <th>buyers</th>\n",
       "      <th>revenue</th>\n",
       "      <th>visitors</th>\n",
       "    </tr>\n",
       "  </thead>\n",
       "  <tbody>\n",
       "    <tr>\n",
       "      <th>0</th>\n",
       "      <td>2019-08-01</td>\n",
       "      <td>A</td>\n",
       "      <td>24</td>\n",
       "      <td>20</td>\n",
       "      <td>148579</td>\n",
       "      <td>719</td>\n",
       "    </tr>\n",
       "    <tr>\n",
       "      <th>1</th>\n",
       "      <td>2019-08-01</td>\n",
       "      <td>B</td>\n",
       "      <td>21</td>\n",
       "      <td>20</td>\n",
       "      <td>101217</td>\n",
       "      <td>713</td>\n",
       "    </tr>\n",
       "    <tr>\n",
       "      <th>2</th>\n",
       "      <td>2019-08-02</td>\n",
       "      <td>A</td>\n",
       "      <td>44</td>\n",
       "      <td>38</td>\n",
       "      <td>242401</td>\n",
       "      <td>1338</td>\n",
       "    </tr>\n",
       "    <tr>\n",
       "      <th>3</th>\n",
       "      <td>2019-08-02</td>\n",
       "      <td>B</td>\n",
       "      <td>45</td>\n",
       "      <td>43</td>\n",
       "      <td>266748</td>\n",
       "      <td>1294</td>\n",
       "    </tr>\n",
       "    <tr>\n",
       "      <th>4</th>\n",
       "      <td>2019-08-03</td>\n",
       "      <td>A</td>\n",
       "      <td>68</td>\n",
       "      <td>62</td>\n",
       "      <td>354874</td>\n",
       "      <td>1845</td>\n",
       "    </tr>\n",
       "    <tr>\n",
       "      <th>5</th>\n",
       "      <td>2019-08-03</td>\n",
       "      <td>B</td>\n",
       "      <td>61</td>\n",
       "      <td>59</td>\n",
       "      <td>380996</td>\n",
       "      <td>1803</td>\n",
       "    </tr>\n",
       "    <tr>\n",
       "      <th>6</th>\n",
       "      <td>2019-08-04</td>\n",
       "      <td>A</td>\n",
       "      <td>84</td>\n",
       "      <td>77</td>\n",
       "      <td>425699</td>\n",
       "      <td>2562</td>\n",
       "    </tr>\n",
       "    <tr>\n",
       "      <th>7</th>\n",
       "      <td>2019-08-04</td>\n",
       "      <td>B</td>\n",
       "      <td>78</td>\n",
       "      <td>75</td>\n",
       "      <td>489567</td>\n",
       "      <td>2573</td>\n",
       "    </tr>\n",
       "    <tr>\n",
       "      <th>8</th>\n",
       "      <td>2019-08-05</td>\n",
       "      <td>A</td>\n",
       "      <td>109</td>\n",
       "      <td>100</td>\n",
       "      <td>549917</td>\n",
       "      <td>3318</td>\n",
       "    </tr>\n",
       "    <tr>\n",
       "      <th>9</th>\n",
       "      <td>2019-08-05</td>\n",
       "      <td>B</td>\n",
       "      <td>101</td>\n",
       "      <td>98</td>\n",
       "      <td>581995</td>\n",
       "      <td>3280</td>\n",
       "    </tr>\n",
       "  </tbody>\n",
       "</table>\n",
       "</div>"
      ],
      "text/plain": [
       "        date group  orders  buyers  revenue  visitors\n",
       "0 2019-08-01     A      24      20   148579       719\n",
       "1 2019-08-01     B      21      20   101217       713\n",
       "2 2019-08-02     A      44      38   242401      1338\n",
       "3 2019-08-02     B      45      43   266748      1294\n",
       "4 2019-08-03     A      68      62   354874      1845\n",
       "5 2019-08-03     B      61      59   380996      1803\n",
       "6 2019-08-04     A      84      77   425699      2562\n",
       "7 2019-08-04     B      78      75   489567      2573\n",
       "8 2019-08-05     A     109     100   549917      3318\n",
       "9 2019-08-05     B     101      98   581995      3280"
      ]
     },
     "metadata": {},
     "output_type": "display_data"
    }
   ],
   "source": [
    "# объединяем кумулятивные данные в одной таблице и присвоим ее столбцам понятные названия\n",
    "\n",
    "cumulativeData = ordersAggregated.merge(visitorsAggregated, left_on=['date', 'group'], right_on=['date', 'group'])\n",
    "cumulativeData.columns = ['date', 'group', 'orders', 'buyers', 'revenue', 'visitors']\n",
    "display(cumulativeData.head(10))"
   ]
  },
  {
   "cell_type": "code",
   "execution_count": 19,
   "metadata": {},
   "outputs": [
    {
     "data": {
      "text/plain": [
       "<matplotlib.legend.Legend at 0x1c1b1627580>"
      ]
     },
     "execution_count": 19,
     "metadata": {},
     "output_type": "execute_result"
    },
    {
     "data": {
      "image/png": "[encoded data removed]",
      "text/plain": [
       "<Figure size 1080x720 with 1 Axes>"
      ]
     },
     "metadata": {
      "needs_background": "light"
     },
     "output_type": "display_data"
    }
   ],
   "source": [
    "# датафрейм с кумулятивным количеством заказов и кумулятивной выручкой по дням в группе А\n",
    "cumulativeRevenueA = cumulativeData[cumulativeData['group']=='A'][['date','revenue', 'orders']]\n",
    "\n",
    "# датафрейм с кумулятивным количеством заказов и кумулятивной выручкой по дням в группе B\n",
    "cumulativeRevenueB = cumulativeData[cumulativeData['group']=='B'][['date','revenue', 'orders']]\n",
    "\n",
    "# Строим график выручки группы А\n",
    "# Строим график выручки группы B\n",
    "plt.figure(figsize=(15,10))\n",
    "plt.plot(cumulativeRevenueA['date'], cumulativeRevenueA['revenue'], label='A')\n",
    "plt.plot(cumulativeRevenueB['date'], cumulativeRevenueB['revenue'], label='B')\n",
    "plt.title('Кумулятивная выручка по дням в группах А и В', fontsize=15)\n",
    "plt.xlabel('Дата', fontsize=12)\n",
    "plt.ylabel('Кумулятивная выручка', fontsize=12)\n",
    "plt.xticks(rotation=30)\n",
    "plt.legend() "
   ]
  },
  {
   "cell_type": "markdown",
   "metadata": {},
   "source": [
    "**Вывод**\n",
    "\n",
    "- Выручка в группе А почти равномерно увеличивается на протяжении всего теста. \n",
    "- Выручка в группе В также увеличивается, но с заметным скачком почти в середине теста. Возможно, имело место большое количество заказов в группе В или же всплеск их стоимости.\n",
    "- Почти на всём протяжении теста кумулятивная выручка в группе В больше, чем в А."
   ]
  },
  {
   "cell_type": "markdown",
   "metadata": {},
   "source": [
    "### Построим график кумулятивного среднего чека по группам. Сделаем выводы и предположения."
   ]
  },
  {
   "cell_type": "code",
   "execution_count": 20,
   "metadata": {},
   "outputs": [
    {
     "data": {
      "text/plain": [
       "<matplotlib.legend.Legend at 0x1c1b15bb040>"
      ]
     },
     "execution_count": 20,
     "metadata": {},
     "output_type": "execute_result"
    },
    {
     "data": {
      "image/png": "[encoded data removed]",
      "text/plain": [
       "<Figure size 1080x720 with 1 Axes>"
      ]
     },
     "metadata": {
      "needs_background": "light"
     },
     "output_type": "display_data"
    }
   ],
   "source": [
    "plt.figure(figsize=(15,10))\n",
    "\n",
    "plt.plot(cumulativeRevenueA['date'], cumulativeRevenueA['revenue']/cumulativeRevenueA['orders'], label='A')\n",
    "plt.plot(cumulativeRevenueB['date'], cumulativeRevenueB['revenue']/cumulativeRevenueB['orders'], label='B')\n",
    "plt.title('Кумулятивная выручка среднего чека в группах А и В', fontsize=15)\n",
    "plt.xlabel('Дата', fontsize=12)\n",
    "plt.ylabel('Кумулятивная выручка', fontsize=12)\n",
    "plt.xticks(rotation=30)\n",
    "plt.legend() \n"
   ]
  },
  {
   "cell_type": "markdown",
   "metadata": {},
   "source": [
    "**Вывод**\n",
    "\n",
    "- Средний чек в группе А выравнивается к середине теста. \n",
    "- Средний чек в группе B идет скачками, заметен сильный скачек в середине теста. скорей всего были сделаны дорогие покупки в это время."
   ]
  },
  {
   "cell_type": "markdown",
   "metadata": {},
   "source": [
    "### Построим график относительного изменения кумулятивного среднего чека группы B к группе A. Сделаем выводы и предположения."
   ]
  },
  {
   "cell_type": "code",
   "execution_count": 21,
   "metadata": {},
   "outputs": [
    {
     "data": {
      "text/plain": [
       "<matplotlib.lines.Line2D at 0x1c1b1c8acd0>"
      ]
     },
     "execution_count": 21,
     "metadata": {},
     "output_type": "execute_result"
    },
    {
     "data": {
      "image/png": "[encoded data removed]",
      "text/plain": [
       "<Figure size 1080x720 with 1 Axes>"
      ]
     },
     "metadata": {
      "needs_background": "light"
     },
     "output_type": "display_data"
    }
   ],
   "source": [
    "# собираем данные в одном датафрейме\n",
    "mergedCumulativeRevenue = cumulativeRevenueA.merge(cumulativeRevenueB, left_on='date', right_on='date', how='left', suffixes=['A', 'B'])\n",
    "plt.figure(figsize=(15,10))\n",
    "plt.title('Относительное изменения кумулятивного среднего чека группы B к группе A', fontsize=15)\n",
    "plt.xlabel('Дата', fontsize=12)\n",
    "plt.ylabel('(ср.чек В/ср.чек А) -1', fontsize=12)\n",
    "plt.xticks(rotation=30)\n",
    " \n",
    "\n",
    "# cтроим отношение средних чеков\n",
    "plt.plot(mergedCumulativeRevenue['date'], (mergedCumulativeRevenue['revenueB']/mergedCumulativeRevenue['ordersB'])/(mergedCumulativeRevenue['revenueA']/mergedCumulativeRevenue['ordersA'])-1)\n",
    "\n",
    "# добавляем ось X\n",
    "plt.axhline(y=0, color='black', linestyle='--') \n"
   ]
  },
  {
   "cell_type": "markdown",
   "metadata": {},
   "source": [
    "**Вывод**\n",
    "\n",
    "- В нескольких точках график различия между сегментами резко «скачет». Где-то уж точно спрятались крупные заказы и выбросы! "
   ]
  },
  {
   "cell_type": "markdown",
   "metadata": {},
   "source": [
    "### Постройте график кумулятивной конверсии по группам. Сделайте выводы и предположения."
   ]
  },
  {
   "cell_type": "code",
   "execution_count": 22,
   "metadata": {},
   "outputs": [
    {
     "data": {
      "image/png": "[encoded data removed]",
      "text/plain": [
       "<Figure size 1080x720 with 1 Axes>"
      ]
     },
     "metadata": {
      "needs_background": "light"
     },
     "output_type": "display_data"
    }
   ],
   "source": [
    "# считаем кумулятивную конверсию\n",
    "cumulativeData['conversion'] = cumulativeData['orders']/cumulativeData['visitors']\n",
    "\n",
    "# отделяем данные по группе A\n",
    "cumulativeDataA = cumulativeData[cumulativeData['group']=='A']\n",
    "\n",
    "# отделяем данные по группе B\n",
    "cumulativeDataB = cumulativeData[cumulativeData['group']=='B']\n",
    "\n",
    "# строим графики\n",
    "plt.figure(figsize=(15,10))\n",
    "plt.plot(cumulativeDataA['date'], cumulativeDataA['conversion'], label='A')\n",
    "plt.plot(cumulativeDataB['date'], cumulativeDataB['conversion'], label='B')\n",
    "plt.legend()\n",
    "plt.title('Кумулятивная конверсия по группам', fontsize=15)\n",
    "plt.xlabel('Дата', fontsize=12)\n",
    "plt.ylabel('Конверсия', fontsize=12)\n",
    "plt.xticks(rotation=30)\n",
    "plt.show()\n",
    "\n",
    "\n"
   ]
  },
  {
   "cell_type": "markdown",
   "metadata": {},
   "source": [
    "**Вывод**\n",
    "\n",
    "- Сначала конверсии колебались, но довольно быстро выровнялись и результат группы В оказался стабильно лучше, чем в группе А. "
   ]
  },
  {
   "cell_type": "markdown",
   "metadata": {},
   "source": [
    "### Постройте график относительного изменения кумулятивной конверсии группы B к группе A. Сделайте выводы и предположения."
   ]
  },
  {
   "cell_type": "code",
   "execution_count": 23,
   "metadata": {},
   "outputs": [
    {
     "data": {
      "text/plain": [
       "<matplotlib.lines.Line2D at 0x1c1b1da3d90>"
      ]
     },
     "execution_count": 23,
     "metadata": {},
     "output_type": "execute_result"
    },
    {
     "data": {
      "image/png": "[encoded data removed]",
      "text/plain": [
       "<Figure size 1080x720 with 1 Axes>"
      ]
     },
     "metadata": {
      "needs_background": "light"
     },
     "output_type": "display_data"
    }
   ],
   "source": [
    "mergedCumulativeConversions = cumulativeDataA[['date','conversion']].merge(cumulativeDataB[['date','conversion']], left_on='date', right_on='date', how='left', suffixes=['A', 'B'])\n",
    "\n",
    "plt.figure(figsize=(15,10))\n",
    "plt.plot(mergedCumulativeConversions['date'], mergedCumulativeConversions['conversionB']/mergedCumulativeConversions['conversionA']-1, label=\"Относительный прирост конверсии группы B относительно группы A\")\n",
    "plt.title('Относительное изменение кумулятивной конверсии В к А', fontsize=15)\n",
    "plt.xlabel('Дата', fontsize=12)\n",
    "plt.ylabel('(конверсия В/конверсия А) -1', fontsize=12)\n",
    "plt.xticks(rotation=30)\n",
    "plt.legend()\n",
    "\n",
    "plt.axhline(y=0, color='black', linestyle='--')\n",
    "plt.axhline(y=-0.1, color='grey', linestyle='--')"
   ]
  },
  {
   "cell_type": "markdown",
   "metadata": {},
   "source": [
    "**Вывод**\n",
    "\n",
    "- Вскоре после начала теста конверсия группы В опередила конверсию А и до конца теста оставалась выше.\n",
    "- На графике есть скачки, которые могут говорить о наличии выбросов в данных."
   ]
  },
  {
   "cell_type": "markdown",
   "metadata": {},
   "source": [
    "### Постройте точечный график количества заказов по пользователям. Сделайте выводы и предположения."
   ]
  },
  {
   "cell_type": "code",
   "execution_count": 24,
   "metadata": {},
   "outputs": [
    {
     "data": {
      "image/png": "[encoded data removed]",
      "text/plain": [
       "<Figure size 720x360 with 1 Axes>"
      ]
     },
     "metadata": {
      "needs_background": "light"
     },
     "output_type": "display_data"
    }
   ],
   "source": [
    "ordersByUsers = (\n",
    "    orders.groupby('visitor_id', as_index=False)\n",
    "    .agg({'transaction_id': 'nunique'})\n",
    ")\n",
    "ordersByUsers.columns = ['visitor_id','orders']\n",
    "x_values = pd.Series(range(0,len(ordersByUsers)))\n",
    "\n",
    "plt.figure(figsize=(10,5))\n",
    "plt.title('Количество заказов по пользователям', fontsize=12, fontweight='bold')\n",
    "plt.xlabel('Количество пользователей', fontsize=12)\n",
    "plt.ylabel('Количество заказов', fontsize=12)\n",
    "plt.scatter(x_values, ordersByUsers['orders']) \n",
    "\n",
    "plt.show()"
   ]
  },
  {
   "cell_type": "markdown",
   "metadata": {},
   "source": [
    "**Вывод**\n",
    "\n",
    "- Много пользователей с 2-3 заказами. Нужно определить их точную долю, чтобы понять можно ли считать их выбросами или нет."
   ]
  },
  {
   "cell_type": "markdown",
   "metadata": {},
   "source": [
    "### Посчитайте 95-й и 99-й перцентили количества заказов на пользователя. Выберите границу для определения аномальных пользователей."
   ]
  },
  {
   "cell_type": "code",
   "execution_count": 25,
   "metadata": {},
   "outputs": [
    {
     "name": "stdout",
     "output_type": "stream",
     "text": [
      "[2. 4.]\n"
     ]
    }
   ],
   "source": [
    "print(np.percentile(ordersByUsers['orders'], [95, 99])) "
   ]
  },
  {
   "cell_type": "markdown",
   "metadata": {},
   "source": [
    "**Вывод**\n",
    "\n",
    "- Вскоре после начала теста конверсия группы В опередила конверсию А и до конца теста оставалась выше.\n",
    "- На графике есть скачки, которые могут говорить о наличии выбросов в данных."
   ]
  },
  {
   "cell_type": "markdown",
   "metadata": {},
   "source": [
    "### Постройте точечный график стоимостей заказов. Сделайте выводы и предположения."
   ]
  },
  {
   "cell_type": "code",
   "execution_count": 26,
   "metadata": {},
   "outputs": [
    {
     "data": {
      "text/plain": [
       "<matplotlib.collections.PathCollection at 0x1c1b1dcfdc0>"
      ]
     },
     "execution_count": 26,
     "metadata": {},
     "output_type": "execute_result"
    },
    {
     "data": {
      "image/png": "[encoded data removed]",
      "text/plain": [
       "<Figure size 720x360 with 1 Axes>"
      ]
     },
     "metadata": {
      "needs_background": "light"
     },
     "output_type": "display_data"
    }
   ],
   "source": [
    "plt.figure(figsize=(10,5))\n",
    "plt.xlabel('Количество пользователей', fontsize=12)\n",
    "plt.ylabel('Стоимость заказов, млн', fontsize=12)\n",
    "plt.title('Cтоимость заказов', fontsize=15)\n",
    "x_values = pd.Series(range(0,len(orders['revenue'])))\n",
    "plt.scatter(x_values, orders['revenue']) "
   ]
  },
  {
   "cell_type": "code",
   "execution_count": 27,
   "metadata": {},
   "outputs": [
    {
     "data": {
      "image/png": "[encoded data removed]",
      "text/plain": [
       "<Figure size 720x360 with 1 Axes>"
      ]
     },
     "metadata": {
      "needs_background": "light"
     },
     "output_type": "display_data"
    }
   ],
   "source": [
    "# уменьшим выборку до 200тыс\n",
    "\n",
    "plt.figure(figsize=(10,5))\n",
    "plt.xlabel('Количество пользователей', fontsize=12)\n",
    "plt.ylabel('Стоимость заказов, млн', fontsize=12)\n",
    "plt.title('Cтоимость заказов', fontsize=15)\n",
    "plt.ylim(0, 200000)\n",
    "plt.scatter(x_values, orders['revenue']) \n",
    "plt.title('Стоимость заказов', fontsize=12, fontweight='bold')\n",
    "plt.show()"
   ]
  },
  {
   "cell_type": "code",
   "execution_count": 28,
   "metadata": {},
   "outputs": [
    {
     "data": {
      "image/png": "[encoded data removed]",
      "text/plain": [
       "<Figure size 720x360 with 1 Axes>"
      ]
     },
     "metadata": {
      "needs_background": "light"
     },
     "output_type": "display_data"
    }
   ],
   "source": [
    "# даже до 100тыс, глядя на предыдущий график\n",
    "\n",
    "plt.figure(figsize=(10,5))\n",
    "plt.ylabel('Стоимость заказов, млн', fontsize=12)\n",
    "plt.xlabel('Количество пользователей', fontsize=12)\n",
    "plt.title('Cтоимость заказов', fontsize=15)\n",
    "plt.ylim(0, 100000)\n",
    "plt.scatter(x_values, orders['revenue']) \n",
    "plt.title('Стоимость заказов', fontsize=12, fontweight='bold')\n",
    "plt.show()"
   ]
  },
  {
   "cell_type": "code",
   "execution_count": 29,
   "metadata": {},
   "outputs": [
    {
     "data": {
      "text/plain": [
       "count    1.197000e+03\n",
       "mean     8.348006e+03\n",
       "std      3.919113e+04\n",
       "min      5.000000e+01\n",
       "25%      1.220000e+03\n",
       "50%      2.978000e+03\n",
       "75%      8.290000e+03\n",
       "max      1.294500e+06\n",
       "Name: revenue, dtype: float64"
      ]
     },
     "metadata": {},
     "output_type": "display_data"
    }
   ],
   "source": [
    "display(orders['revenue'].describe())"
   ]
  },
  {
   "cell_type": "markdown",
   "metadata": {},
   "source": [
    "**Вывод**\n",
    "\n",
    "- В данных оказался один очень крупный заказ (~1.3 млн. руб.), который существенно влияет на результаты теста."
   ]
  },
  {
   "cell_type": "markdown",
   "metadata": {},
   "source": [
    "### Посчитайте 95-й и 99-й перцентили стоимости заказов. Выберите границу для определения аномальных заказов."
   ]
  },
  {
   "cell_type": "code",
   "execution_count": 30,
   "metadata": {},
   "outputs": [
    {
     "name": "stdout",
     "output_type": "stream",
     "text": [
      "[28000.  58233.2]\n"
     ]
    }
   ],
   "source": [
    "print(np.percentile(orders['revenue'], [95, 99])) "
   ]
  },
  {
   "cell_type": "markdown",
   "metadata": {},
   "source": [
    "**Вывод**\n",
    "\n",
    "- Не более 5% заказов дороже 28 000 руб. и не более 1% дороже 58 233 руб.\n",
    "- Примем **30 000 руб.** за верхнюю границу стоимости заказа."
   ]
  },
  {
   "cell_type": "markdown",
   "metadata": {},
   "source": [
    "### Посчитайте статистическую значимость различий в конверсии между группами по «сырым» данным. Сделайте выводы и предположения."
   ]
  },
  {
   "cell_type": "code",
   "execution_count": 31,
   "metadata": {},
   "outputs": [
    {
     "data": {
      "text/html": [
       "<div>\n",
       "<style scoped>\n",
       "    .dataframe tbody tr th:only-of-type {\n",
       "        vertical-align: middle;\n",
       "    }\n",
       "\n",
       "    .dataframe tbody tr th {\n",
       "        vertical-align: top;\n",
       "    }\n",
       "\n",
       "    .dataframe thead th {\n",
       "        text-align: right;\n",
       "    }\n",
       "</style>\n",
       "<table border=\"1\" class=\"dataframe\">\n",
       "  <thead>\n",
       "    <tr style=\"text-align: right;\">\n",
       "      <th></th>\n",
       "      <th>date</th>\n",
       "      <th>ordersPerDateA</th>\n",
       "      <th>revenuePerDateA</th>\n",
       "      <th>ordersPerDateB</th>\n",
       "      <th>revenuePerDateB</th>\n",
       "      <th>ordersCummulativeA</th>\n",
       "      <th>revenueCummulativeA</th>\n",
       "      <th>ordersCummulativeB</th>\n",
       "      <th>revenueCummulativeB</th>\n",
       "      <th>visitorsPerDateA</th>\n",
       "      <th>visitorsPerDateB</th>\n",
       "      <th>visitorsCummulativeA</th>\n",
       "      <th>visitorsCummulativeB</th>\n",
       "    </tr>\n",
       "  </thead>\n",
       "  <tbody>\n",
       "    <tr>\n",
       "      <th>0</th>\n",
       "      <td>2019-08-01</td>\n",
       "      <td>24</td>\n",
       "      <td>148579</td>\n",
       "      <td>21</td>\n",
       "      <td>101217</td>\n",
       "      <td>24</td>\n",
       "      <td>148579</td>\n",
       "      <td>21</td>\n",
       "      <td>101217</td>\n",
       "      <td>719</td>\n",
       "      <td>713</td>\n",
       "      <td>719</td>\n",
       "      <td>713</td>\n",
       "    </tr>\n",
       "    <tr>\n",
       "      <th>1</th>\n",
       "      <td>2019-08-02</td>\n",
       "      <td>20</td>\n",
       "      <td>93822</td>\n",
       "      <td>24</td>\n",
       "      <td>165531</td>\n",
       "      <td>44</td>\n",
       "      <td>242401</td>\n",
       "      <td>45</td>\n",
       "      <td>266748</td>\n",
       "      <td>619</td>\n",
       "      <td>581</td>\n",
       "      <td>1338</td>\n",
       "      <td>1294</td>\n",
       "    </tr>\n",
       "    <tr>\n",
       "      <th>2</th>\n",
       "      <td>2019-08-03</td>\n",
       "      <td>24</td>\n",
       "      <td>112473</td>\n",
       "      <td>16</td>\n",
       "      <td>114248</td>\n",
       "      <td>68</td>\n",
       "      <td>354874</td>\n",
       "      <td>61</td>\n",
       "      <td>380996</td>\n",
       "      <td>507</td>\n",
       "      <td>509</td>\n",
       "      <td>1845</td>\n",
       "      <td>1803</td>\n",
       "    </tr>\n",
       "    <tr>\n",
       "      <th>3</th>\n",
       "      <td>2019-08-04</td>\n",
       "      <td>16</td>\n",
       "      <td>70825</td>\n",
       "      <td>17</td>\n",
       "      <td>108571</td>\n",
       "      <td>84</td>\n",
       "      <td>425699</td>\n",
       "      <td>78</td>\n",
       "      <td>489567</td>\n",
       "      <td>717</td>\n",
       "      <td>770</td>\n",
       "      <td>2562</td>\n",
       "      <td>2573</td>\n",
       "    </tr>\n",
       "    <tr>\n",
       "      <th>4</th>\n",
       "      <td>2019-08-05</td>\n",
       "      <td>25</td>\n",
       "      <td>124218</td>\n",
       "      <td>23</td>\n",
       "      <td>92428</td>\n",
       "      <td>109</td>\n",
       "      <td>549917</td>\n",
       "      <td>101</td>\n",
       "      <td>581995</td>\n",
       "      <td>756</td>\n",
       "      <td>707</td>\n",
       "      <td>3318</td>\n",
       "      <td>3280</td>\n",
       "    </tr>\n",
       "  </tbody>\n",
       "</table>\n",
       "</div>"
      ],
      "text/plain": [
       "        date  ordersPerDateA  revenuePerDateA  ordersPerDateB  \\\n",
       "0 2019-08-01              24           148579              21   \n",
       "1 2019-08-02              20            93822              24   \n",
       "2 2019-08-03              24           112473              16   \n",
       "3 2019-08-04              16            70825              17   \n",
       "4 2019-08-05              25           124218              23   \n",
       "\n",
       "   revenuePerDateB  ordersCummulativeA  revenueCummulativeA  \\\n",
       "0           101217                  24               148579   \n",
       "1           165531                  44               242401   \n",
       "2           114248                  68               354874   \n",
       "3           108571                  84               425699   \n",
       "4            92428                 109               549917   \n",
       "\n",
       "   ordersCummulativeB  revenueCummulativeB  visitorsPerDateA  \\\n",
       "0                  21               101217               719   \n",
       "1                  45               266748               619   \n",
       "2                  61               380996               507   \n",
       "3                  78               489567               717   \n",
       "4                 101               581995               756   \n",
       "\n",
       "   visitorsPerDateB  visitorsCummulativeA  visitorsCummulativeB  \n",
       "0               713                   719                   713  \n",
       "1               581                  1338                  1294  \n",
       "2               509                  1845                  1803  \n",
       "3               770                  2562                  2573  \n",
       "4               707                  3318                  3280  "
      ]
     },
     "metadata": {},
     "output_type": "display_data"
    }
   ],
   "source": [
    "# Подготовим датафрейм с фактическими и кумулятивными данными по дням:\n",
    "\n",
    "visitorsADaily = visitors[visitors['group']=='A'][['date', 'visitors']]\n",
    "visitorsADaily.columns = ['date', 'visitorsPerDateA']\n",
    "\n",
    "visitorsACummulative = (visitorsADaily\n",
    "                        .apply(lambda x: visitorsADaily[visitorsADaily['date'] <= x['date']]\n",
    "                               .agg({'date':'max', 'visitorsPerDateA':'sum'}), axis=1)\n",
    "                       )\n",
    "visitorsACummulative.columns = ['date', 'visitorsCummulativeA']\n",
    "\n",
    "visitorsBDaily = visitors[visitors['group']=='B'][['date', 'visitors']]\n",
    "visitorsBDaily.columns = ['date', 'visitorsPerDateB']\n",
    "\n",
    "visitorsBCummulative = (visitorsBDaily\n",
    "                        .apply(lambda x: visitorsBDaily[visitorsBDaily['date'] <= x['date']]\n",
    "                               .agg({'date':'max', 'visitorsPerDateB':'sum'}), axis=1)\n",
    "                       )\n",
    "visitorsBCummulative.columns = ['date', 'visitorsCummulativeB']\n",
    "\n",
    "ordersADaily = (orders[orders['group']=='A'][['date', 'transaction_id', 'visitor_id', 'revenue']]\n",
    "                .groupby('date', as_index=False)\n",
    "                .agg({'transaction_id':pd.Series.nunique, 'revenue':'sum'})\n",
    "               )\n",
    "ordersADaily.columns = ['date', 'ordersPerDateA', 'revenuePerDateA']\n",
    "\n",
    "ordersACummulative = (ordersADaily\n",
    "                      .apply(lambda x:ordersADaily[ordersADaily['date'] <= x['date']]\n",
    "                             .agg({\n",
    "                                    'date':'max',\n",
    "                                    'ordersPerDateA':'sum',\n",
    "                                    'revenuePerDateA':'sum'}), axis=1)\n",
    "                      .sort_values(by=['date'])\n",
    "                     )\n",
    "ordersACummulative.columns = ['date', 'ordersCummulativeA', 'revenueCummulativeA']\n",
    "\n",
    "ordersBDaily = (orders[orders['group']=='B'][['date', 'transaction_id', 'visitor_id', 'revenue']]\n",
    "                .groupby('date', as_index=False)\n",
    "                .agg({'transaction_id':pd.Series.nunique, 'revenue':'sum'})\n",
    "               )\n",
    "ordersBDaily.columns = ['date', 'ordersPerDateB', 'revenuePerDateB']\n",
    "\n",
    "ordersBCummulative = (ordersBDaily\n",
    "                      .apply(lambda x: ordersBDaily[ordersBDaily['date'] <= x['date']]\n",
    "                             .agg({\n",
    "                                    'date':'max',\n",
    "                                    'ordersPerDateB':'sum',\n",
    "                                    'revenuePerDateB' : 'sum'}), axis=1)\n",
    "                      .sort_values(by=['date'])\n",
    "                     )\n",
    "ordersBCummulative.columns = ['date', 'ordersCummulativeB', 'revenueCummulativeB']\n",
    "\n",
    "data = (ordersADaily\n",
    "        .merge(ordersBDaily, left_on='date', right_on='date', how='left')\n",
    "        .merge(ordersACummulative, left_on='date', right_on='date', how='left')\n",
    "        .merge(ordersBCummulative, left_on='date', right_on='date', how='left')\n",
    "        .merge(visitorsADaily, left_on='date', right_on='date', how='left')\n",
    "        .merge(visitorsBDaily, left_on='date', right_on='date', how='left')\n",
    "        .merge(visitorsACummulative, left_on='date', right_on='date', how='left')\n",
    "        .merge(visitorsBCummulative, left_on='date', right_on='date', how='left')\n",
    "       )\n",
    "\n",
    "display(data.head(5)) "
   ]
  },
  {
   "cell_type": "code",
   "execution_count": 32,
   "metadata": {},
   "outputs": [],
   "source": [
    "# Создадим для каждой группы датафрейм с количеством заказов на пользователя:\n",
    "\n",
    "ordersByUsersA = orders[orders['group']=='A'].groupby('visitor_id', as_index=False).agg({'transaction_id':pd.Series.nunique})\n",
    "ordersByUsersA.columns = ['visitor_id', 'orders']\n",
    "\n",
    "ordersByUsersB = orders[orders['group']=='B'].groupby('visitor_id', as_index=False).agg({'transaction_id':pd.Series.nunique})\n",
    "ordersByUsersB.columns = ['visitor_id', 'orders'] "
   ]
  },
  {
   "cell_type": "code",
   "execution_count": 33,
   "metadata": {},
   "outputs": [],
   "source": [
    "# Создадим списки с числом заказов каждого пользователя, включая нули:\n",
    "\n",
    "sampleA = pd.concat([ordersByUsersA['orders'],\n",
    "                     pd.Series(0, index=np.arange(data['visitorsPerDateA'].sum() - len(ordersByUsersA['orders'])), name='orders')],axis=0)\n",
    "sampleB = pd.concat([ordersByUsersB['orders'],\n",
    "                     pd.Series(0, index=np.arange(data['visitorsPerDateB'].sum() - len(ordersByUsersB['orders'])), name='orders')],axis=0)"
   ]
  },
  {
   "cell_type": "markdown",
   "metadata": {},
   "source": [
    "Сформулируем гипотезы:   \n",
    "- Нулевая: различий конверсии между группами нет.\n",
    "- Альтернативная: различия в конверсии между группами есть."
   ]
  },
  {
   "cell_type": "code",
   "execution_count": 34,
   "metadata": {},
   "outputs": [],
   "source": [
    "# Функция для проверки гипотезы о равенстве групп dataA и dataB\n",
    "def stat_significance(dataA, dataB):\n",
    "    # Нулевая гипотеза H0: между группами dataA и dataB нет статистически значимой разницы\n",
    "    alpha = 0.05\n",
    "    p_value = stats.mannwhitneyu(dataA, dataB)[1]\n",
    "\n",
    "    print(\"P-value: {0:.3f}\".format(p_value))\n",
    "\n",
    "    if (p_value < alpha):\n",
    "        print(\"Отвергаем нулевую гипотезу: между группами есть разница\")\n",
    "    else:\n",
    "        print(\"Не получилось отвергнуть нулевую гипотезу, нет оснований считать группы разными\")\n",
    "    \n",
    "    print(\"Относительный выигрыш/проигрыш В к А: {0:.1%}\".format(dataB.mean()/dataA.mean()-1))"
   ]
  },
  {
   "cell_type": "code",
   "execution_count": 35,
   "metadata": {},
   "outputs": [
    {
     "name": "stdout",
     "output_type": "stream",
     "text": [
      "P-value: 0.017\n",
      "Отвергаем нулевую гипотезу: между группами есть разница\n",
      "Относительный выигрыш/проигрыш В к А: 13.8%\n"
     ]
    }
   ],
   "source": [
    "stat_significance(sampleA, sampleB)"
   ]
  },
  {
   "cell_type": "markdown",
   "metadata": {},
   "source": [
    "**Вывод**\n",
    "\n",
    "- По не очищенным от выбросов данным между конверсиями групп А и В есть статистически значимая разница. Так как P-value меньше 5% \n",
    "- Также относительный прирост конверсии группы В равен 13.8%"
   ]
  },
  {
   "cell_type": "markdown",
   "metadata": {},
   "source": [
    "### Посчитайте статистическую значимость различий в среднем чеке заказа между группами по «сырым» данным. Сделайте выводы и предположения."
   ]
  },
  {
   "cell_type": "markdown",
   "metadata": {},
   "source": [
    "Сформулируем гипотезы:   \n",
    "- Нулевая: различий в среднем чеке заказа между группами нет.\n",
    "- Альтернативная: различия в среднем чеке заказа группами есть."
   ]
  },
  {
   "cell_type": "code",
   "execution_count": 36,
   "metadata": {},
   "outputs": [
    {
     "name": "stdout",
     "output_type": "stream",
     "text": [
      "P-value: 0.729\n",
      "Не получилось отвергнуть нулевую гипотезу, нет оснований считать группы разными\n",
      "Относительный выигрыш/проигрыш В к А: 25.9%\n"
     ]
    }
   ],
   "source": [
    "stat_significance(orders[orders['group']=='A']['revenue'], orders[orders['group']=='B']['revenue'])"
   ]
  },
  {
   "cell_type": "markdown",
   "metadata": {},
   "source": [
    "**Вывод**\n",
    "\n",
    "- Так как P-value > 0.05, нет оснований считать, что средний чек группы В отличается от среднего чека группы А. Принимаем      нулевую гипотезу\n",
    "- При этом средний чек группы В выше среднего чека группы А почти на 26%"
   ]
  },
  {
   "cell_type": "markdown",
   "metadata": {},
   "source": [
    "### Посчитайте статистическую значимость различий в конверсии между группами по «очищенным» данным. Сделайте выводы и предположения."
   ]
  },
  {
   "cell_type": "code",
   "execution_count": 37,
   "metadata": {},
   "outputs": [
    {
     "name": "stdout",
     "output_type": "stream",
     "text": [
      "1099    148427295\n",
      "18      199603092\n",
      "928     204675465\n",
      "23      237748145\n",
      "684     358944393\n",
      "Name: visitor_id, dtype: int64\n",
      "\n",
      "\u001b[1m Количество \"аномальных\" пользователей: 57\n"
     ]
    }
   ],
   "source": [
    "# Выделим из базы \"аномальных\" пользователей (совершивших более 3-х заказов или сумма заказа которых > 30000):\n",
    "\n",
    "usersWithManyOrders = pd.concat([ordersByUsersA[ordersByUsersA['orders'] > 3]['visitor_id'], ordersByUsersB[ordersByUsersB['orders'] > 3]['visitor_id']], axis = 0)\n",
    "usersWithExpensiveOrders = orders[orders['revenue'] > 30000]['visitor_id']\n",
    "abnormalUsers = pd.concat([usersWithManyOrders, usersWithExpensiveOrders], axis = 0).drop_duplicates().sort_values()\n",
    "print(abnormalUsers.head(5))\n",
    "print()\n",
    "print('\\033[1m', 'Количество \"аномальных\" пользователей:', abnormalUsers.shape[0]) "
   ]
  },
  {
   "cell_type": "code",
   "execution_count": 38,
   "metadata": {},
   "outputs": [],
   "source": [
    "# Создадим списки с числом заказов каждого пользователя, включая нули, но уже по очищенным данным:\n",
    "\n",
    "sampleAFiltered = pd.concat([ordersByUsersA[~(ordersByUsersA['visitor_id'].isin(abnormalUsers))]['orders'],pd.Series(0, index=np.arange(data['visitorsPerDateA'].sum() - len(ordersByUsersA['orders'])),name='orders')],axis=0)\n",
    "sampleBFiltered = pd.concat([ordersByUsersB[~(ordersByUsersB['visitor_id'].isin(abnormalUsers))]['orders'],pd.Series(0, index=np.arange(data['visitorsPerDateB'].sum() - len(ordersByUsersA['orders'])),name='orders')],axis=0)"
   ]
  },
  {
   "cell_type": "markdown",
   "metadata": {},
   "source": [
    "Сформулируем гипотезы:   \n",
    "- Нулевая: различий конверсии между группами по очищенным данным нет.\n",
    "- Альтернативная: различия в конверсии между группами по очищенным данным есть."
   ]
  },
  {
   "cell_type": "code",
   "execution_count": 39,
   "metadata": {},
   "outputs": [
    {
     "name": "stdout",
     "output_type": "stream",
     "text": [
      "P-value: 0.022\n",
      "Отвергаем нулевую гипотезу: между группами есть разница\n",
      "Относительный выигрыш/проигрыш В к А: 14.2%\n"
     ]
    }
   ],
   "source": [
    "stat_significance(sampleAFiltered, sampleBFiltered)"
   ]
  },
  {
   "cell_type": "markdown",
   "metadata": {},
   "source": [
    "**Вывод по очищенным**\n",
    "\n",
    "- По очищенным от выбросов данным между конверсиями групп А и В есть статистически значимая разница. Так как P-value меньше 5% \n",
    "- Относительный прирост конверсии группы В равен 14.2%\n",
    "\n",
    "**Вывод по не очищенным**\n",
    "\n",
    "- По не очищенным от выбросов данным между конверсиями групп А и В есть статистически значимая разница. Так как P-value меньше 5% \n",
    "- Также относительный прирост конверсии группы В равен 13.8%\n",
    "\n",
    "**Вывод общий**\n",
    "\n",
    "- P-value < 0.05, между конверсиями групп А и В есть статистически значимая разница.\n",
    "- После удаления выбросов, прирост конверсии группы B остался на том же уровне, порядка 14% в обоих случаях\n",
    "\n"
   ]
  },
  {
   "cell_type": "markdown",
   "metadata": {},
   "source": [
    "### Посчитайте статистическую значимость различий в среднем чеке заказа между группами по «очищенным» данным. Сделайте выводы и предположения."
   ]
  },
  {
   "cell_type": "markdown",
   "metadata": {},
   "source": [
    "Сформулируем гипотезы:   \n",
    "- Нулевая: различий в среднем чеке заказа между группами по очищенным данным нет.\n",
    "- Альтернативная: различия в среднем чеке заказа между группами по очищенным данным есть."
   ]
  },
  {
   "cell_type": "code",
   "execution_count": 40,
   "metadata": {},
   "outputs": [
    {
     "name": "stdout",
     "output_type": "stream",
     "text": [
      "P-value: 0.958\n",
      "Не получилось отвергнуть нулевую гипотезу, нет оснований считать группы разными\n",
      "Относительный выигрыш/проигрыш В к А: -2.0%\n"
     ]
    }
   ],
   "source": [
    "(stat_significance(\n",
    "    orders[(orders['group']=='A') & ~(orders['visitor_id'].isin(abnormalUsers))]['revenue'], \n",
    "    orders[(orders['group']=='B') & ~(orders['visitor_id'].isin(abnormalUsers))]['revenue'])\n",
    ")"
   ]
  },
  {
   "cell_type": "markdown",
   "metadata": {},
   "source": [
    "**Вывод по очищенным данным**\n",
    "\n",
    "- Так как P-value > 0.05, нет оснований считать, что средний чек группы В отличается от среднего чека группы А. Принимаем      нулевую гипотезу\n",
    "- По очищенным данным, средний чек группы В относительно А ниже на 2%\n",
    "\n",
    "**Вывод по не очищенным данным**\n",
    "\n",
    "- Так как P-value > 0.05, нет оснований считать, что средний чек группы В отличается от среднего чека группы А. Принимаем      нулевую гипотезу\n",
    "- При этом средний чек группы В выше среднего чека группы А почти на 26%\n",
    "\n",
    "**Вывод общий**\n",
    "\n",
    "- P-value > 0.05, нет оснований считать, что средний чек группы В отличается от среднего чека группы А.\n",
    "- После удаления выбросов, средний чек А стал выше B\n"
   ]
  },
  {
   "cell_type": "markdown",
   "metadata": {},
   "source": [
    "### Примите решение по результатам теста и объясните его. Варианты решений: 1. Остановить тест, зафиксировать победу одной из групп. 2. Остановить тест, зафиксировать отсутствие различий между группами. 3. Продолжить тест."
   ]
  },
  {
   "cell_type": "markdown",
   "metadata": {},
   "source": [
    "- И по \"сырым\" и по очищенным от выбросов данным между конверсиями групп А и В есть статистически значимая разница. Конверсия группы В выше, чем в А, на 14-15%\n",
    "- И по \"сырым\" и по очищенным данным нет оснований считать, что средний чек группы В отличается от среднего чека группы А.\n",
    "- График относительного изменения кумулятивной конверсии группы B к группе A показывает, что результаты группы В стабильно лучше группы А.\n",
    "\n",
    "Исходя из обнаруженных фактов, тест следует остановить и признать его успешным - **фиксируем победу группы В**. Средний чек выше не стал, зато значительно увеличилась конверсия."
   ]
  }
 ],
 "metadata": {
  "ExecuteTimeLog": [
   {
    "duration": 1105,
    "start_time": "2022-05-30T18:48:57.456Z"
   },
   {
    "duration": 110,
    "start_time": "2022-05-30T18:48:59.580Z"
   },
   {
    "duration": 68,
    "start_time": "2022-05-30T18:49:07.763Z"
   },
   {
    "duration": 30,
    "start_time": "2022-05-30T18:49:19.692Z"
   },
   {
    "duration": 5,
    "start_time": "2022-05-30T18:53:03.743Z"
   },
   {
    "duration": 6,
    "start_time": "2022-05-30T18:54:09.674Z"
   },
   {
    "duration": 12,
    "start_time": "2022-05-30T18:54:31.293Z"
   },
   {
    "duration": 186,
    "start_time": "2022-05-30T19:11:37.317Z"
   },
   {
    "duration": 12,
    "start_time": "2022-05-30T19:15:44.622Z"
   },
   {
    "duration": 16,
    "start_time": "2022-05-30T19:16:08.728Z"
   },
   {
    "duration": 14,
    "start_time": "2022-05-30T19:20:01.399Z"
   },
   {
    "duration": 7,
    "start_time": "2022-05-30T19:20:08.678Z"
   },
   {
    "duration": 859,
    "start_time": "2022-05-30T19:20:42.011Z"
   },
   {
    "duration": 36,
    "start_time": "2022-05-30T19:20:42.872Z"
   },
   {
    "duration": 10,
    "start_time": "2022-05-30T19:20:42.910Z"
   },
   {
    "duration": 6,
    "start_time": "2022-05-30T19:20:42.923Z"
   },
   {
    "duration": 28,
    "start_time": "2022-05-30T19:20:42.930Z"
   },
   {
    "duration": 9,
    "start_time": "2022-05-30T19:20:42.960Z"
   },
   {
    "duration": 105,
    "start_time": "2022-05-30T19:21:27.014Z"
   },
   {
    "duration": 6,
    "start_time": "2022-05-30T19:21:36.371Z"
   },
   {
    "duration": 10,
    "start_time": "2022-05-30T19:26:59.559Z"
   },
   {
    "duration": 7,
    "start_time": "2022-05-30T19:27:13.843Z"
   },
   {
    "duration": 11,
    "start_time": "2022-05-30T19:27:17.899Z"
   },
   {
    "duration": 13,
    "start_time": "2022-05-30T19:30:46.322Z"
   },
   {
    "duration": 7,
    "start_time": "2022-05-30T19:32:27.521Z"
   },
   {
    "duration": 650,
    "start_time": "2022-05-30T19:51:39.275Z"
   },
   {
    "duration": 19,
    "start_time": "2022-05-30T19:55:21.694Z"
   },
   {
    "duration": 136,
    "start_time": "2022-05-30T19:55:27.341Z"
   },
   {
    "duration": 18,
    "start_time": "2022-05-30T19:55:29.479Z"
   },
   {
    "duration": 5,
    "start_time": "2022-05-30T20:02:57.845Z"
   },
   {
    "duration": 25,
    "start_time": "2022-05-30T20:11:55.447Z"
   },
   {
    "duration": 395,
    "start_time": "2022-05-30T20:12:11.647Z"
   },
   {
    "duration": 14,
    "start_time": "2022-05-30T20:12:41.190Z"
   },
   {
    "duration": 9,
    "start_time": "2022-05-30T20:13:54.989Z"
   },
   {
    "duration": 7,
    "start_time": "2022-05-30T20:14:09.644Z"
   },
   {
    "duration": 8,
    "start_time": "2022-05-30T20:14:24.581Z"
   },
   {
    "duration": 8,
    "start_time": "2022-05-30T20:14:56.732Z"
   },
   {
    "duration": 14,
    "start_time": "2022-05-30T20:15:05.740Z"
   },
   {
    "duration": 17,
    "start_time": "2022-05-30T20:17:42.347Z"
   },
   {
    "duration": 6,
    "start_time": "2022-05-30T20:19:21.968Z"
   },
   {
    "duration": 39,
    "start_time": "2022-05-30T20:24:45.440Z"
   },
   {
    "duration": 216,
    "start_time": "2022-05-30T20:25:22.679Z"
   },
   {
    "duration": 229,
    "start_time": "2022-05-30T20:26:27.643Z"
   },
   {
    "duration": 114,
    "start_time": "2022-05-30T20:27:50.111Z"
   },
   {
    "duration": 14,
    "start_time": "2022-05-30T20:29:37.711Z"
   },
   {
    "duration": 651,
    "start_time": "2022-05-30T20:30:57.175Z"
   },
   {
    "duration": 205,
    "start_time": "2022-05-30T20:32:11.021Z"
   },
   {
    "duration": 225,
    "start_time": "2022-05-30T20:32:24.477Z"
   },
   {
    "duration": 267,
    "start_time": "2022-05-30T20:33:04.667Z"
   },
   {
    "duration": 259,
    "start_time": "2022-05-30T20:33:15.205Z"
   },
   {
    "duration": 293,
    "start_time": "2022-05-30T20:33:24.037Z"
   },
   {
    "duration": 173,
    "start_time": "2022-05-31T06:13:48.915Z"
   },
   {
    "duration": 233,
    "start_time": "2022-05-31T06:14:21.334Z"
   },
   {
    "duration": 259,
    "start_time": "2022-05-31T06:15:51.218Z"
   },
   {
    "duration": 4,
    "start_time": "2022-05-31T06:24:22.798Z"
   },
   {
    "duration": 4,
    "start_time": "2022-05-31T06:24:54.672Z"
   },
   {
    "duration": 1019,
    "start_time": "2022-05-31T06:25:22.995Z"
   },
   {
    "duration": 33,
    "start_time": "2022-05-31T06:25:24.016Z"
   },
   {
    "duration": 10,
    "start_time": "2022-05-31T06:25:24.051Z"
   },
   {
    "duration": 14,
    "start_time": "2022-05-31T06:25:24.064Z"
   },
   {
    "duration": 22,
    "start_time": "2022-05-31T06:25:24.080Z"
   },
   {
    "duration": 6,
    "start_time": "2022-05-31T06:25:24.104Z"
   },
   {
    "duration": 67,
    "start_time": "2022-05-31T06:25:24.112Z"
   },
   {
    "duration": 23,
    "start_time": "2022-05-31T06:25:24.181Z"
   },
   {
    "duration": 61,
    "start_time": "2022-05-31T06:25:24.206Z"
   },
   {
    "duration": 18,
    "start_time": "2022-05-31T06:25:24.270Z"
   },
   {
    "duration": 6,
    "start_time": "2022-05-31T06:25:24.290Z"
   },
   {
    "duration": 10,
    "start_time": "2022-05-31T06:25:24.297Z"
   },
   {
    "duration": 8,
    "start_time": "2022-05-31T06:25:24.309Z"
   },
   {
    "duration": 31,
    "start_time": "2022-05-31T06:25:24.319Z"
   },
   {
    "duration": 7,
    "start_time": "2022-05-31T06:25:24.352Z"
   },
   {
    "duration": 206,
    "start_time": "2022-05-31T06:25:24.360Z"
   },
   {
    "duration": 127,
    "start_time": "2022-05-31T06:25:24.568Z"
   },
   {
    "duration": 14,
    "start_time": "2022-05-31T06:25:24.697Z"
   },
   {
    "duration": 403,
    "start_time": "2022-05-31T06:25:24.713Z"
   },
   {
    "duration": 346,
    "start_time": "2022-05-31T06:25:25.118Z"
   },
   {
    "duration": 5,
    "start_time": "2022-05-31T06:26:25.590Z"
   },
   {
    "duration": 4,
    "start_time": "2022-05-31T06:26:49.746Z"
   },
   {
    "duration": 4,
    "start_time": "2022-05-31T06:26:53.901Z"
   },
   {
    "duration": 288,
    "start_time": "2022-05-31T18:34:07.759Z"
   },
   {
    "duration": 297,
    "start_time": "2022-05-31T18:35:09.632Z"
   },
   {
    "duration": 300,
    "start_time": "2022-05-31T18:35:25.575Z"
   },
   {
    "duration": 367,
    "start_time": "2022-05-31T18:37:20.944Z"
   },
   {
    "duration": 388,
    "start_time": "2022-05-31T18:37:32.726Z"
   },
   {
    "duration": 359,
    "start_time": "2022-05-31T18:40:03.861Z"
   },
   {
    "duration": 316,
    "start_time": "2022-05-31T18:43:44.002Z"
   },
   {
    "duration": 205,
    "start_time": "2022-05-31T18:44:45.283Z"
   },
   {
    "duration": 226,
    "start_time": "2022-05-31T18:45:06.147Z"
   },
   {
    "duration": 192,
    "start_time": "2022-05-31T18:46:23.954Z"
   },
   {
    "duration": 352,
    "start_time": "2022-05-31T18:46:53.042Z"
   },
   {
    "duration": 281,
    "start_time": "2022-05-31T18:47:16.057Z"
   },
   {
    "duration": 416,
    "start_time": "2022-05-31T18:47:51.890Z"
   },
   {
    "duration": 344,
    "start_time": "2022-05-31T18:50:41.223Z"
   },
   {
    "duration": 314,
    "start_time": "2022-05-31T18:51:23.976Z"
   },
   {
    "duration": 376,
    "start_time": "2022-05-31T18:53:10.543Z"
   },
   {
    "duration": 11,
    "start_time": "2022-05-31T18:56:33.892Z"
   },
   {
    "duration": 9,
    "start_time": "2022-05-31T18:57:37.469Z"
   },
   {
    "duration": 10,
    "start_time": "2022-05-31T19:02:34.450Z"
   },
   {
    "duration": 16,
    "start_time": "2022-05-31T19:03:57.193Z"
   },
   {
    "duration": 504,
    "start_time": "2022-05-31T19:05:21.009Z"
   },
   {
    "duration": 131,
    "start_time": "2022-05-31T19:07:39.464Z"
   },
   {
    "duration": 5,
    "start_time": "2022-05-31T19:10:38.081Z"
   },
   {
    "duration": 9,
    "start_time": "2022-05-31T19:19:46.924Z"
   },
   {
    "duration": 132,
    "start_time": "2022-05-31T19:19:56.142Z"
   },
   {
    "duration": 145,
    "start_time": "2022-05-31T19:20:57.425Z"
   },
   {
    "duration": 164,
    "start_time": "2022-05-31T19:23:34.368Z"
   },
   {
    "duration": 9,
    "start_time": "2022-05-31T19:25:21.575Z"
   },
   {
    "duration": 4,
    "start_time": "2022-05-31T19:27:35.504Z"
   },
   {
    "duration": 116,
    "start_time": "2022-05-31T19:34:27.202Z"
   },
   {
    "duration": 238,
    "start_time": "2022-05-31T19:35:44.211Z"
   },
   {
    "duration": 134,
    "start_time": "2022-05-31T19:38:40.080Z"
   },
   {
    "duration": 6,
    "start_time": "2022-05-31T19:38:42.536Z"
   },
   {
    "duration": 4,
    "start_time": "2022-05-31T19:39:54.192Z"
   },
   {
    "duration": 28,
    "start_time": "2022-05-31T19:40:54.373Z"
   },
   {
    "duration": 9,
    "start_time": "2022-05-31T19:43:23.174Z"
   },
   {
    "duration": 492,
    "start_time": "2022-05-31T19:46:44.460Z"
   },
   {
    "duration": 9,
    "start_time": "2022-05-31T19:47:11.249Z"
   },
   {
    "duration": 321,
    "start_time": "2022-05-31T19:48:47.109Z"
   },
   {
    "duration": 8,
    "start_time": "2022-05-31T19:49:03.773Z"
   },
   {
    "duration": 26,
    "start_time": "2022-05-31T19:49:18.917Z"
   },
   {
    "duration": 9,
    "start_time": "2022-05-31T19:51:05.747Z"
   },
   {
    "duration": 1101,
    "start_time": "2022-05-31T19:55:18.599Z"
   },
   {
    "duration": 35,
    "start_time": "2022-05-31T19:55:19.701Z"
   },
   {
    "duration": 11,
    "start_time": "2022-05-31T19:55:19.738Z"
   },
   {
    "duration": 19,
    "start_time": "2022-05-31T19:55:19.751Z"
   },
   {
    "duration": 17,
    "start_time": "2022-05-31T19:55:19.772Z"
   },
   {
    "duration": 7,
    "start_time": "2022-05-31T19:55:19.791Z"
   },
   {
    "duration": 17,
    "start_time": "2022-05-31T19:55:19.799Z"
   },
   {
    "duration": 28,
    "start_time": "2022-05-31T19:55:19.818Z"
   },
   {
    "duration": 51,
    "start_time": "2022-05-31T19:55:19.848Z"
   },
   {
    "duration": 18,
    "start_time": "2022-05-31T19:55:19.901Z"
   },
   {
    "duration": 5,
    "start_time": "2022-05-31T19:55:19.920Z"
   },
   {
    "duration": 10,
    "start_time": "2022-05-31T19:55:19.927Z"
   },
   {
    "duration": 7,
    "start_time": "2022-05-31T19:55:19.939Z"
   },
   {
    "duration": 18,
    "start_time": "2022-05-31T19:55:19.948Z"
   },
   {
    "duration": 7,
    "start_time": "2022-05-31T19:55:19.967Z"
   },
   {
    "duration": 215,
    "start_time": "2022-05-31T19:55:19.975Z"
   },
   {
    "duration": 129,
    "start_time": "2022-05-31T19:55:20.191Z"
   },
   {
    "duration": 23,
    "start_time": "2022-05-31T19:55:20.322Z"
   },
   {
    "duration": 387,
    "start_time": "2022-05-31T19:55:20.347Z"
   },
   {
    "duration": 354,
    "start_time": "2022-05-31T19:55:20.737Z"
   },
   {
    "duration": 392,
    "start_time": "2022-05-31T19:55:21.093Z"
   },
   {
    "duration": 275,
    "start_time": "2022-05-31T19:55:21.487Z"
   },
   {
    "duration": 360,
    "start_time": "2022-05-31T19:55:21.764Z"
   },
   {
    "duration": 141,
    "start_time": "2022-05-31T19:55:22.126Z"
   },
   {
    "duration": 4,
    "start_time": "2022-05-31T19:55:22.269Z"
   },
   {
    "duration": 193,
    "start_time": "2022-05-31T19:55:22.274Z"
   },
   {
    "duration": 9,
    "start_time": "2022-05-31T19:55:22.469Z"
   },
   {
    "duration": 18,
    "start_time": "2022-05-31T19:55:22.481Z"
   },
   {
    "duration": 256,
    "start_time": "2022-05-31T19:55:22.501Z"
   },
   {
    "duration": 144,
    "start_time": "2022-05-31T19:55:22.759Z"
   },
   {
    "duration": 7,
    "start_time": "2022-05-31T19:55:22.904Z"
   },
   {
    "duration": 14,
    "start_time": "2022-05-31T19:55:22.913Z"
   },
   {
    "duration": 39,
    "start_time": "2022-05-31T19:55:22.929Z"
   },
   {
    "duration": 9,
    "start_time": "2022-05-31T19:55:22.970Z"
   },
   {
    "duration": 12,
    "start_time": "2022-05-31T19:55:22.981Z"
   },
   {
    "duration": 26,
    "start_time": "2022-05-31T19:55:22.995Z"
   },
   {
    "duration": 49,
    "start_time": "2022-05-31T19:55:23.022Z"
   },
   {
    "duration": 9,
    "start_time": "2022-05-31T19:55:23.073Z"
   },
   {
    "duration": 1000,
    "start_time": "2022-06-01T07:16:51.269Z"
   },
   {
    "duration": 33,
    "start_time": "2022-06-01T07:16:52.271Z"
   },
   {
    "duration": 9,
    "start_time": "2022-06-01T07:16:52.306Z"
   },
   {
    "duration": 5,
    "start_time": "2022-06-01T07:16:52.317Z"
   },
   {
    "duration": 10,
    "start_time": "2022-06-01T07:16:52.324Z"
   },
   {
    "duration": 5,
    "start_time": "2022-06-01T07:16:52.336Z"
   },
   {
    "duration": 18,
    "start_time": "2022-06-01T07:16:52.342Z"
   },
   {
    "duration": 8,
    "start_time": "2022-06-01T07:16:52.362Z"
   },
   {
    "duration": 57,
    "start_time": "2022-06-01T07:16:52.372Z"
   },
   {
    "duration": 14,
    "start_time": "2022-06-01T07:16:52.432Z"
   },
   {
    "duration": 4,
    "start_time": "2022-06-01T07:16:52.447Z"
   },
   {
    "duration": 11,
    "start_time": "2022-06-01T07:16:52.453Z"
   },
   {
    "duration": 10,
    "start_time": "2022-06-01T07:16:52.466Z"
   },
   {
    "duration": 19,
    "start_time": "2022-06-01T07:16:52.477Z"
   },
   {
    "duration": 9,
    "start_time": "2022-06-01T07:16:52.498Z"
   },
   {
    "duration": 167,
    "start_time": "2022-06-01T07:16:52.508Z"
   },
   {
    "duration": 115,
    "start_time": "2022-06-01T07:16:52.677Z"
   },
   {
    "duration": 12,
    "start_time": "2022-06-01T07:16:52.793Z"
   },
   {
    "duration": 350,
    "start_time": "2022-06-01T07:16:52.807Z"
   },
   {
    "duration": 292,
    "start_time": "2022-06-01T07:16:53.158Z"
   },
   {
    "duration": 352,
    "start_time": "2022-06-01T07:16:53.455Z"
   },
   {
    "duration": 244,
    "start_time": "2022-06-01T07:16:53.808Z"
   },
   {
    "duration": 356,
    "start_time": "2022-06-01T07:16:54.053Z"
   },
   {
    "duration": 130,
    "start_time": "2022-06-01T07:16:54.411Z"
   },
   {
    "duration": 12,
    "start_time": "2022-06-01T07:16:54.542Z"
   },
   {
    "duration": 138,
    "start_time": "2022-06-01T07:16:54.555Z"
   },
   {
    "duration": 8,
    "start_time": "2022-06-01T07:16:54.695Z"
   },
   {
    "duration": 14,
    "start_time": "2022-06-01T07:16:54.706Z"
   },
   {
    "duration": 213,
    "start_time": "2022-06-01T07:16:54.722Z"
   },
   {
    "duration": 125,
    "start_time": "2022-06-01T07:16:54.936Z"
   },
   {
    "duration": 7,
    "start_time": "2022-06-01T07:16:55.063Z"
   },
   {
    "duration": 8,
    "start_time": "2022-06-01T07:16:55.071Z"
   },
   {
    "duration": 37,
    "start_time": "2022-06-01T07:16:55.080Z"
   },
   {
    "duration": 9,
    "start_time": "2022-06-01T07:16:55.119Z"
   },
   {
    "duration": 30,
    "start_time": "2022-06-01T07:16:55.130Z"
   },
   {
    "duration": 17,
    "start_time": "2022-06-01T07:16:55.162Z"
   },
   {
    "duration": 35,
    "start_time": "2022-06-01T07:16:55.181Z"
   },
   {
    "duration": 8,
    "start_time": "2022-06-01T07:16:55.218Z"
   },
   {
    "duration": 1108,
    "start_time": "2022-06-01T07:21:01.891Z"
   },
   {
    "duration": 36,
    "start_time": "2022-06-01T07:21:03.001Z"
   },
   {
    "duration": 11,
    "start_time": "2022-06-01T07:21:03.038Z"
   },
   {
    "duration": 17,
    "start_time": "2022-06-01T07:21:03.051Z"
   },
   {
    "duration": 13,
    "start_time": "2022-06-01T07:21:03.070Z"
   },
   {
    "duration": 6,
    "start_time": "2022-06-01T07:21:03.085Z"
   },
   {
    "duration": 15,
    "start_time": "2022-06-01T07:21:03.092Z"
   },
   {
    "duration": 12,
    "start_time": "2022-06-01T07:21:03.108Z"
   },
   {
    "duration": 55,
    "start_time": "2022-06-01T07:21:03.122Z"
   },
   {
    "duration": 17,
    "start_time": "2022-06-01T07:21:03.179Z"
   },
   {
    "duration": 6,
    "start_time": "2022-06-01T07:21:03.197Z"
   },
   {
    "duration": 8,
    "start_time": "2022-06-01T07:21:03.204Z"
   },
   {
    "duration": 12,
    "start_time": "2022-06-01T07:21:03.214Z"
   },
   {
    "duration": 22,
    "start_time": "2022-06-01T07:21:03.228Z"
   },
   {
    "duration": 5,
    "start_time": "2022-06-01T07:21:03.252Z"
   },
   {
    "duration": 185,
    "start_time": "2022-06-01T07:21:03.259Z"
   },
   {
    "duration": 130,
    "start_time": "2022-06-01T07:21:03.446Z"
   },
   {
    "duration": 16,
    "start_time": "2022-06-01T07:21:03.579Z"
   },
   {
    "duration": 367,
    "start_time": "2022-06-01T07:21:03.596Z"
   },
   {
    "duration": 306,
    "start_time": "2022-06-01T07:21:03.965Z"
   },
   {
    "duration": 336,
    "start_time": "2022-06-01T07:21:04.273Z"
   },
   {
    "duration": 240,
    "start_time": "2022-06-01T07:21:04.610Z"
   },
   {
    "duration": 357,
    "start_time": "2022-06-01T07:21:04.851Z"
   },
   {
    "duration": 126,
    "start_time": "2022-06-01T07:21:05.210Z"
   },
   {
    "duration": 4,
    "start_time": "2022-06-01T07:21:05.338Z"
   },
   {
    "duration": 130,
    "start_time": "2022-06-01T07:21:05.354Z"
   },
   {
    "duration": 8,
    "start_time": "2022-06-01T07:21:05.485Z"
   },
   {
    "duration": 7,
    "start_time": "2022-06-01T07:21:05.496Z"
   },
   {
    "duration": 230,
    "start_time": "2022-06-01T07:21:05.505Z"
   },
   {
    "duration": 153,
    "start_time": "2022-06-01T07:21:05.737Z"
   },
   {
    "duration": 6,
    "start_time": "2022-06-01T07:21:05.891Z"
   },
   {
    "duration": 13,
    "start_time": "2022-06-01T07:21:05.898Z"
   },
   {
    "duration": 39,
    "start_time": "2022-06-01T07:21:05.912Z"
   },
   {
    "duration": 9,
    "start_time": "2022-06-01T07:21:05.953Z"
   },
   {
    "duration": 13,
    "start_time": "2022-06-01T07:21:05.963Z"
   },
   {
    "duration": 10,
    "start_time": "2022-06-01T07:21:05.977Z"
   },
   {
    "duration": 30,
    "start_time": "2022-06-01T07:21:05.988Z"
   },
   {
    "duration": 10,
    "start_time": "2022-06-01T07:21:06.019Z"
   },
   {
    "duration": 163,
    "start_time": "2022-06-01T14:28:09.324Z"
   },
   {
    "duration": 168,
    "start_time": "2022-06-01T14:33:21.380Z"
   },
   {
    "duration": 159,
    "start_time": "2022-06-01T14:34:55.269Z"
   },
   {
    "duration": 150,
    "start_time": "2022-06-01T14:36:18.084Z"
   },
   {
    "duration": 154,
    "start_time": "2022-06-01T14:36:37.151Z"
   },
   {
    "duration": 203,
    "start_time": "2022-06-01T14:37:31.683Z"
   },
   {
    "duration": 162,
    "start_time": "2022-06-01T14:37:42.363Z"
   },
   {
    "duration": 34,
    "start_time": "2022-06-01T18:10:12.509Z"
   },
   {
    "duration": 28,
    "start_time": "2022-06-01T18:17:27.264Z"
   },
   {
    "duration": 1180,
    "start_time": "2022-06-01T18:42:08.668Z"
   },
   {
    "duration": 34,
    "start_time": "2022-06-01T18:42:09.850Z"
   },
   {
    "duration": 12,
    "start_time": "2022-06-01T18:42:09.886Z"
   },
   {
    "duration": 16,
    "start_time": "2022-06-01T18:42:09.900Z"
   },
   {
    "duration": 18,
    "start_time": "2022-06-01T18:42:09.918Z"
   },
   {
    "duration": 11,
    "start_time": "2022-06-01T18:42:09.938Z"
   },
   {
    "duration": 51,
    "start_time": "2022-06-01T18:42:09.951Z"
   },
   {
    "duration": 38,
    "start_time": "2022-06-01T18:42:10.003Z"
   },
   {
    "duration": 80,
    "start_time": "2022-06-01T18:42:10.043Z"
   },
   {
    "duration": 31,
    "start_time": "2022-06-01T18:42:10.126Z"
   },
   {
    "duration": 6,
    "start_time": "2022-06-01T18:42:10.159Z"
   },
   {
    "duration": 35,
    "start_time": "2022-06-01T18:42:10.167Z"
   },
   {
    "duration": 9,
    "start_time": "2022-06-01T18:42:10.204Z"
   },
   {
    "duration": 34,
    "start_time": "2022-06-01T18:42:10.215Z"
   },
   {
    "duration": 20,
    "start_time": "2022-06-01T18:42:10.251Z"
   },
   {
    "duration": 230,
    "start_time": "2022-06-01T18:42:10.273Z"
   },
   {
    "duration": 142,
    "start_time": "2022-06-01T18:42:10.505Z"
   },
   {
    "duration": 13,
    "start_time": "2022-06-01T18:42:10.649Z"
   },
   {
    "duration": 437,
    "start_time": "2022-06-01T18:42:10.663Z"
   },
   {
    "duration": 391,
    "start_time": "2022-06-01T18:42:11.102Z"
   },
   {
    "duration": 427,
    "start_time": "2022-06-01T18:42:11.495Z"
   },
   {
    "duration": 334,
    "start_time": "2022-06-01T18:42:11.924Z"
   },
   {
    "duration": 407,
    "start_time": "2022-06-01T18:42:12.261Z"
   },
   {
    "duration": 175,
    "start_time": "2022-06-01T18:42:12.670Z"
   },
   {
    "duration": 5,
    "start_time": "2022-06-01T18:42:12.847Z"
   },
   {
    "duration": 203,
    "start_time": "2022-06-01T18:42:12.854Z"
   },
   {
    "duration": 192,
    "start_time": "2022-06-01T18:42:13.060Z"
   },
   {
    "duration": 180,
    "start_time": "2022-06-01T18:42:13.257Z"
   },
   {
    "duration": 12,
    "start_time": "2022-06-01T18:42:13.439Z"
   },
   {
    "duration": 15,
    "start_time": "2022-06-01T18:42:13.453Z"
   },
   {
    "duration": 275,
    "start_time": "2022-06-01T18:42:13.470Z"
   },
   {
    "duration": 298,
    "start_time": "2022-06-01T18:42:13.747Z"
   },
   {
    "duration": 7,
    "start_time": "2022-06-01T18:42:14.047Z"
   },
   {
    "duration": 10,
    "start_time": "2022-06-01T18:42:14.056Z"
   },
   {
    "duration": 87,
    "start_time": "2022-06-01T18:42:14.067Z"
   },
   {
    "duration": 10,
    "start_time": "2022-06-01T18:42:14.156Z"
   },
   {
    "duration": 13,
    "start_time": "2022-06-01T18:42:14.168Z"
   },
   {
    "duration": 61,
    "start_time": "2022-06-01T18:42:14.183Z"
   },
   {
    "duration": 30,
    "start_time": "2022-06-01T18:42:14.247Z"
   },
   {
    "duration": 12,
    "start_time": "2022-06-01T18:42:14.278Z"
   },
   {
    "duration": 1135,
    "start_time": "2022-06-01T20:09:43.390Z"
   },
   {
    "duration": 42,
    "start_time": "2022-06-01T20:09:44.527Z"
   },
   {
    "duration": 11,
    "start_time": "2022-06-01T20:09:44.571Z"
   },
   {
    "duration": 6,
    "start_time": "2022-06-01T20:09:44.583Z"
   },
   {
    "duration": 16,
    "start_time": "2022-06-01T20:09:44.591Z"
   },
   {
    "duration": 6,
    "start_time": "2022-06-01T20:09:44.608Z"
   },
   {
    "duration": 14,
    "start_time": "2022-06-01T20:09:44.616Z"
   },
   {
    "duration": 44,
    "start_time": "2022-06-01T20:09:44.632Z"
   },
   {
    "duration": 52,
    "start_time": "2022-06-01T20:09:44.678Z"
   },
   {
    "duration": 16,
    "start_time": "2022-06-01T20:09:44.733Z"
   },
   {
    "duration": 16,
    "start_time": "2022-06-01T20:09:44.751Z"
   },
   {
    "duration": 8,
    "start_time": "2022-06-01T20:09:44.769Z"
   },
   {
    "duration": 6,
    "start_time": "2022-06-01T20:09:44.779Z"
   },
   {
    "duration": 23,
    "start_time": "2022-06-01T20:09:44.788Z"
   },
   {
    "duration": 8,
    "start_time": "2022-06-01T20:09:44.813Z"
   },
   {
    "duration": 243,
    "start_time": "2022-06-01T20:09:44.823Z"
   },
   {
    "duration": 148,
    "start_time": "2022-06-01T20:09:45.068Z"
   },
   {
    "duration": 22,
    "start_time": "2022-06-01T20:09:45.218Z"
   },
   {
    "duration": 493,
    "start_time": "2022-06-01T20:09:45.242Z"
   },
   {
    "duration": 354,
    "start_time": "2022-06-01T20:09:45.737Z"
   },
   {
    "duration": 343,
    "start_time": "2022-06-01T20:09:46.093Z"
   },
   {
    "duration": 306,
    "start_time": "2022-06-01T20:09:46.438Z"
   },
   {
    "duration": 379,
    "start_time": "2022-06-01T20:09:46.746Z"
   },
   {
    "duration": 164,
    "start_time": "2022-06-01T20:09:47.127Z"
   },
   {
    "duration": 4,
    "start_time": "2022-06-01T20:09:47.293Z"
   },
   {
    "duration": 186,
    "start_time": "2022-06-01T20:09:47.299Z"
   },
   {
    "duration": 164,
    "start_time": "2022-06-01T20:09:47.486Z"
   },
   {
    "duration": 156,
    "start_time": "2022-06-01T20:09:47.655Z"
   },
   {
    "duration": 8,
    "start_time": "2022-06-01T20:09:47.813Z"
   },
   {
    "duration": 5,
    "start_time": "2022-06-01T20:09:47.823Z"
   },
   {
    "duration": 270,
    "start_time": "2022-06-01T20:09:47.829Z"
   },
   {
    "duration": 167,
    "start_time": "2022-06-01T20:09:48.100Z"
   },
   {
    "duration": 6,
    "start_time": "2022-06-01T20:09:48.269Z"
   },
   {
    "duration": 7,
    "start_time": "2022-06-01T20:09:48.277Z"
   },
   {
    "duration": 30,
    "start_time": "2022-06-01T20:09:48.286Z"
   },
   {
    "duration": 9,
    "start_time": "2022-06-01T20:09:48.318Z"
   },
   {
    "duration": 33,
    "start_time": "2022-06-01T20:09:48.329Z"
   },
   {
    "duration": 11,
    "start_time": "2022-06-01T20:09:48.368Z"
   },
   {
    "duration": 36,
    "start_time": "2022-06-01T20:09:48.381Z"
   },
   {
    "duration": 9,
    "start_time": "2022-06-01T20:09:48.419Z"
   },
   {
    "duration": 1429,
    "start_time": "2022-06-01T20:11:12.694Z"
   },
   {
    "duration": 44,
    "start_time": "2022-06-01T20:11:14.125Z"
   },
   {
    "duration": 14,
    "start_time": "2022-06-01T20:11:14.171Z"
   },
   {
    "duration": 18,
    "start_time": "2022-06-01T20:11:14.187Z"
   },
   {
    "duration": 19,
    "start_time": "2022-06-01T20:11:14.206Z"
   },
   {
    "duration": 7,
    "start_time": "2022-06-01T20:11:14.227Z"
   },
   {
    "duration": 33,
    "start_time": "2022-06-01T20:11:14.236Z"
   },
   {
    "duration": 18,
    "start_time": "2022-06-01T20:11:14.271Z"
   },
   {
    "duration": 56,
    "start_time": "2022-06-01T20:11:14.291Z"
   },
   {
    "duration": 27,
    "start_time": "2022-06-01T20:11:14.350Z"
   },
   {
    "duration": 7,
    "start_time": "2022-06-01T20:11:14.379Z"
   },
   {
    "duration": 20,
    "start_time": "2022-06-01T20:11:14.388Z"
   },
   {
    "duration": 9,
    "start_time": "2022-06-01T20:11:14.410Z"
   },
   {
    "duration": 21,
    "start_time": "2022-06-01T20:11:14.420Z"
   },
   {
    "duration": 5,
    "start_time": "2022-06-01T20:11:14.443Z"
   },
   {
    "duration": 190,
    "start_time": "2022-06-01T20:11:14.452Z"
   },
   {
    "duration": 134,
    "start_time": "2022-06-01T20:11:14.644Z"
   },
   {
    "duration": 11,
    "start_time": "2022-06-01T20:11:14.780Z"
   },
   {
    "duration": 391,
    "start_time": "2022-06-01T20:11:14.793Z"
   },
   {
    "duration": 372,
    "start_time": "2022-06-01T20:11:15.186Z"
   },
   {
    "duration": 353,
    "start_time": "2022-06-01T20:11:15.561Z"
   },
   {
    "duration": 288,
    "start_time": "2022-06-01T20:11:15.916Z"
   },
   {
    "duration": 372,
    "start_time": "2022-06-01T20:11:16.205Z"
   },
   {
    "duration": 139,
    "start_time": "2022-06-01T20:11:16.579Z"
   },
   {
    "duration": 4,
    "start_time": "2022-06-01T20:11:16.719Z"
   },
   {
    "duration": 168,
    "start_time": "2022-06-01T20:11:16.725Z"
   },
   {
    "duration": 171,
    "start_time": "2022-06-01T20:11:16.894Z"
   },
   {
    "duration": 147,
    "start_time": "2022-06-01T20:11:17.068Z"
   },
   {
    "duration": 8,
    "start_time": "2022-06-01T20:11:17.217Z"
   },
   {
    "duration": 11,
    "start_time": "2022-06-01T20:11:17.227Z"
   },
   {
    "duration": 242,
    "start_time": "2022-06-01T20:11:17.240Z"
   },
   {
    "duration": 147,
    "start_time": "2022-06-01T20:11:17.483Z"
   },
   {
    "duration": 5,
    "start_time": "2022-06-01T20:11:17.632Z"
   },
   {
    "duration": 16,
    "start_time": "2022-06-01T20:11:17.639Z"
   },
   {
    "duration": 33,
    "start_time": "2022-06-01T20:11:17.663Z"
   },
   {
    "duration": 8,
    "start_time": "2022-06-01T20:11:17.697Z"
   },
   {
    "duration": 8,
    "start_time": "2022-06-01T20:11:17.706Z"
   },
   {
    "duration": 9,
    "start_time": "2022-06-01T20:11:17.715Z"
   },
   {
    "duration": 48,
    "start_time": "2022-06-01T20:11:17.726Z"
   },
   {
    "duration": 8,
    "start_time": "2022-06-01T20:11:17.776Z"
   }
  ],
  "kernelspec": {
   "display_name": "Python 3 (ipykernel)",
   "language": "python",
   "name": "python3"
  },
  "language_info": {
   "codemirror_mode": {
    "name": "ipython",
    "version": 3
   },
   "file_extension": ".py",
   "mimetype": "text/x-python",
   "name": "python",
   "nbconvert_exporter": "python",
   "pygments_lexer": "ipython3",
   "version": "3.9.7"
  },
  "toc": {
   "base_numbering": 1,
   "nav_menu": {},
   "number_sections": true,
   "sideBar": true,
   "skip_h1_title": true,
   "title_cell": "Table of Contents",
   "title_sidebar": "Contents",
   "toc_cell": false,
   "toc_position": {},
   "toc_section_display": true,
   "toc_window_display": false
  }
 },
 "nbformat": 4,
 "nbformat_minor": 2
}
